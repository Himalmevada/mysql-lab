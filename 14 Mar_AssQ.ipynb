{
 "cells": [
  {
   "cell_type": "markdown",
   "metadata": {},
   "source": [
    "### Que - 1 :  Write a Python function that takes in two arrays of data and calculates the F-value for a variance ratio test. The function should return the F-value and the corresponding p-value for the test."
   ]
  },
  {
   "cell_type": "code",
   "execution_count": 10,
   "metadata": {},
   "outputs": [
    {
     "name": "stdout",
     "output_type": "stream",
     "text": [
      "(4.387122002085506, 0.01912653593238578)\n"
     ]
    }
   ],
   "source": [
    "import numpy as np\n",
    "import scipy.stats as st\n",
    "\n",
    "def get_f_test(x,y):\n",
    "    x = np.array(x)\n",
    "    y = np.array(y)\n",
    "    f_cal = np.var(x) / np.var(y)\n",
    "    df1 = len(x) - 1\n",
    "    df2 = len(y) - 1\n",
    "    p_val = 1-st.f.cdf(f_cal,df1,df2)\n",
    "    return f_cal,p_val\n",
    "\n",
    "x = [18, 19, 22, 25, 27, 28, 41, 45, 51, 55]\n",
    "y = [14, 15, 15, 17, 18, 22, 25, 25, 27, 34]\n",
    "ans = get_f_test(x,y)\n",
    "\n",
    "print(ans)\n",
    "\n",
    "# p<alpha : we rejct null hypothesis.\n",
    "# else : we fail to reject null hypothesis."
   ]
  },
  {
   "cell_type": "markdown",
   "metadata": {},
   "source": [
    "### Que - 2 :  Given a significance level of 0.05 and the degrees of freedom for the numerator and denominator of an F-distribution, write a Python function that returns the critical F-value for a two-tailed test."
   ]
  },
  {
   "cell_type": "code",
   "execution_count": 26,
   "metadata": {},
   "outputs": [
    {
     "data": {
      "text/plain": [
       "4.825621493405406"
      ]
     },
     "execution_count": 26,
     "metadata": {},
     "output_type": "execute_result"
    }
   ],
   "source": [
    "def get_p_val(alpha,dfn,dfd):\n",
    "    f_critical_val = st.f.ppf(q=1-alpha/2,dfn=dfn,dfd=dfd)\n",
    "    return f_critical_val\n",
    "\n",
    "alpha = 0.05\n",
    "dfn = 3\n",
    "dfd = 10\n",
    "\n",
    "get_p_val(alpha,dfn,dfd)"
   ]
  },
  {
   "cell_type": "markdown",
   "metadata": {},
   "source": [
    "### Que - 3 :  Write a Python program that generates random samples from two normal distributions with known variances and uses an F-test to determine if the variances are equal. The program should output the F-value, degrees of freedom, and p-value for the test."
   ]
  },
  {
   "cell_type": "code",
   "execution_count": 66,
   "metadata": {},
   "outputs": [
    {
     "data": {
      "text/plain": [
       "(0.40465615883396694, 99, 99, 0.9999949850056906)"
      ]
     },
     "execution_count": 66,
     "metadata": {},
     "output_type": "execute_result"
    }
   ],
   "source": [
    "def get_f_val(d1,d2):\n",
    "    f_cal = np.var(d1) / np.var(d2)\n",
    "    df1 = len(d1) - 1\n",
    "    df2 = len(d2) - 1\n",
    "    p_val = 1-st.f.cdf(f_cal,df1,df2)\n",
    "    # p_val = st.f.sf(f_cal,df1,df2)\n",
    "    return f_cal,df1,df2,p_val\n",
    "    \n",
    "np.random.seed(112)\n",
    "d1 = np.random.normal(0,np.sqrt(1),size=100)\n",
    "d2 = np.random.normal(0,np.sqrt(1.5),size=100)\n",
    "\n",
    "get_f_val(d1,d2)"
   ]
  },
  {
   "cell_type": "markdown",
   "metadata": {},
   "source": [
    "### Que - 4 : The variances of two populations are known to be 10 and 15. A sample of 12 observations is taken from each population. Conduct an F-test at the 5% significance level to determine if the variances are significantly different."
   ]
  },
  {
   "cell_type": "code",
   "execution_count": 70,
   "metadata": {},
   "outputs": [
    {
     "name": "stdout",
     "output_type": "stream",
     "text": [
      "Failed to Reject Null Hypothesis : Both variance are same.\n"
     ]
    }
   ],
   "source": [
    "v1 = 10\n",
    "v2 = 15\n",
    "alpha = 0.05\n",
    "sample_1 = 12\n",
    "sample_2 = 12\n",
    "\n",
    "f_cal = v1/v2\n",
    "\n",
    "dfn = sample_1 - 1\n",
    "dfd = sample_2 - 1\n",
    "\n",
    "p_val = st.f.sf(f_cal,dfn,dfd)\n",
    "\n",
    "if(p_val < alpha): \n",
    "    print(\"Null Hypothesis rejected : Both variance are different\")\n",
    "else:\n",
    "    print(\"Failed to Reject Null Hypothesis : Both variance are same.\")"
   ]
  },
  {
   "cell_type": "markdown",
   "metadata": {},
   "source": [
    "### Que - 5 :  A manufacturer claims that the variance of the diameter of a certain product is 0.005. A sample of 25 products is taken, and the sample variance is found to be 0.006. Conduct an F-test at the 1% significance level to determine if the claim is justified."
   ]
  },
  {
   "cell_type": "code",
   "execution_count": 71,
   "metadata": {},
   "outputs": [
    {
     "name": "stdout",
     "output_type": "stream",
     "text": [
      "Failed to Reject Null Hypothesis : Both variance are same.\n"
     ]
    }
   ],
   "source": [
    "var1 = 0.005\n",
    "var2 = 0.006\n",
    "sample = 25\n",
    "alpha = 0.1\n",
    "\n",
    "f_cal = var1/var2\n",
    "\n",
    "dfn = sample - 1\n",
    "dfd = sample - 1\n",
    "\n",
    "p_val = st.f.sf(f_cal,dfn,dfd)\n",
    "\n",
    "if(p_val < alpha): \n",
    "    print(\"Null Hypothesis rejected : Both variance are different\")\n",
    "else:\n",
    "    print(\"Failed to Reject Null Hypothesis : Both variance are same.\")"
   ]
  },
  {
   "cell_type": "markdown",
   "metadata": {},
   "source": [
    "### Que - 6 : Write a Python function that takes in the degrees of freedom for the numerator and denominator of an F-distribution and calculates the mean and variance of the distribution. The function should return the mean and variance as a tuple."
   ]
  },
  {
   "cell_type": "code",
   "execution_count": 74,
   "metadata": {},
   "outputs": [
    {
     "data": {
      "text/plain": [
       "(1.25, 1.9097222222222223)"
      ]
     },
     "execution_count": 74,
     "metadata": {},
     "output_type": "execute_result"
    }
   ],
   "source": [
    "def get_mean_var(dfn,dfd):\n",
    "    mean = dfd / (dfd-2)\n",
    "    variance = (2 * (dfd ** 2) * (dfn + dfd - 2)) / (dfn * (dfd - 2) ** 2 * (dfd - 4))\n",
    "    return mean,variance\n",
    "\n",
    "df1 = 3\n",
    "df2 = 10\n",
    "get_mean_var(df1,df2)"
   ]
  },
  {
   "cell_type": "markdown",
   "metadata": {},
   "source": [
    "### Que - 7 :  A random sample of 10 measurements is taken from a normal population with unknown variance. The sample variance is found to be 25. Another random sample of 15 measurements is taken from another normal population with unknown variance, and the sample variance is found to be 20. Conduct an F-test at the 10% significance level to determine if the variances are significantly different."
   ]
  },
  {
   "cell_type": "code",
   "execution_count": 75,
   "metadata": {},
   "outputs": [
    {
     "name": "stdout",
     "output_type": "stream",
     "text": [
      "Failed to Reject Null Hypothesis : Both variance are same.\n"
     ]
    }
   ],
   "source": [
    "sample_1 = 10\n",
    "sample_2 = 15\n",
    "var_1 = 25\n",
    "var_2 = 20\n",
    "alpha = 0.1\n",
    "\n",
    "f_cal = var1/var2\n",
    "\n",
    "dfn = sample_1 - 1\n",
    "dfd = sample_2 - 1\n",
    "\n",
    "p_val = st.f.sf(f_cal,dfn,dfd)\n",
    "\n",
    "if(p_val < alpha): \n",
    "    print(\"Null Hypothesis rejected : Both variance are different\")\n",
    "else:\n",
    "    print(\"Failed to Reject Null Hypothesis : Both variance are same.\")"
   ]
  },
  {
   "cell_type": "markdown",
   "metadata": {},
   "source": [
    "### Que - 8 : The following data represent the waiting times in minutes at two different restaurants on a Saturday night: Restaurant A: 24, 25, 28, 23, 22, 20, 27; Restaurant B: 31, 33, 35, 30, 32, 36. Conduct an F-test at the 5% significance level to determine if the variances are significantly different."
   ]
  },
  {
   "cell_type": "code",
   "execution_count": 77,
   "metadata": {},
   "outputs": [
    {
     "name": "stdout",
     "output_type": "stream",
     "text": [
      "Failed to Reject Null Hypothesis : Both variance are same.\n"
     ]
    }
   ],
   "source": [
    "a = [24, 25, 28, 23, 22, 20, 27]\n",
    "b = [31, 33, 35, 30, 32, 36]\n",
    "alpha = 0.05\n",
    "f_cal = np.var(a)/np.var(b)\n",
    "\n",
    "dfn = len(a) - 1\n",
    "dfd = len(b) - 1\n",
    "\n",
    "p_val = st.f.sf(f_cal,dfn,dfd)\n",
    "\n",
    "if(p_val < alpha): \n",
    "    print(\"Null Hypothesis rejected : Both variance are different\")\n",
    "else:\n",
    "    print(\"Failed to Reject Null Hypothesis : Both variance are same.\")"
   ]
  },
  {
   "cell_type": "markdown",
   "metadata": {},
   "source": [
    "### Que - 9 : The following data represent the test scores of two groups of students: Group A: 80, 85, 90, 92, 87, 83; Group B: 75, 78, 82, 79, 81, 84. Conduct an F-test at the 1% significance level to determine if the variances are significantly different."
   ]
  },
  {
   "cell_type": "code",
   "execution_count": 80,
   "metadata": {},
   "outputs": [
    {
     "name": "stdout",
     "output_type": "stream",
     "text": [
      "Failed to Reject Null Hypothesis : Both variance are same.\n"
     ]
    }
   ],
   "source": [
    "a = [80, 85, 90, 92, 87, 83]\n",
    "b = [75, 78, 82, 79, 81, 84]\n",
    "alpha = 0.01\n",
    "f_cal = np.var(a)/np.var(b)\n",
    "\n",
    "dfn = len(a) - 1\n",
    "dfd = len(b) - 1\n",
    "\n",
    "p_val = st.f.sf(f_cal,dfn,dfd)\n",
    "\n",
    "if(p_val < alpha): \n",
    "    print(\"Null Hypothesis rejected : Both variance are different\")\n",
    "else:\n",
    "    print(\"Failed to Reject Null Hypothesis : Both variance are same.\")"
   ]
  }
 ],
 "metadata": {
  "kernelspec": {
   "display_name": "Python 3 (ipykernel)",
   "language": "python",
   "name": "python3"
  },
  "language_info": {
   "codemirror_mode": {
    "name": "ipython",
    "version": 3
   },
   "file_extension": ".py",
   "mimetype": "text/x-python",
   "name": "python",
   "nbconvert_exporter": "python",
   "pygments_lexer": "ipython3",
   "version": "3.10.9"
  },
  "vscode": {
   "interpreter": {
    "hash": "72b2382ece9768098284d92bbc69d35954e75b60d1e25897d1389c232f4796f0"
   }
  }
 },
 "nbformat": 4,
 "nbformat_minor": 4
}
