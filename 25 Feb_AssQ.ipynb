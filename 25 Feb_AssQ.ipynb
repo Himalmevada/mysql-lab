{
 "cells": [
  {
   "cell_type": "code",
   "execution_count": 1,
   "id": "91ea2101-0a05-4462-92a8-f9824e441a5d",
   "metadata": {},
   "outputs": [],
   "source": [
    "import pandas as pd\n",
    "course_name = ['Data Science', 'Machine Learning', 'Big Data', 'Data Engineer']\n",
    "duration =  [2,3,6,4]\n",
    "df = pd.DataFrame(data = {'course_name' : course_name, 'duration' : duration})"
   ]
  },
  {
   "cell_type": "markdown",
   "id": "912c080c-a68d-474a-addf-07ea915bdf50",
   "metadata": {},
   "source": [
    "### Ans - 1"
   ]
  },
  {
   "cell_type": "code",
   "execution_count": 2,
   "id": "d02d46de-c431-4890-b822-58894758b157",
   "metadata": {},
   "outputs": [
    {
     "data": {
      "text/html": [
       "<div>\n",
       "<style scoped>\n",
       "    .dataframe tbody tr th:only-of-type {\n",
       "        vertical-align: middle;\n",
       "    }\n",
       "\n",
       "    .dataframe tbody tr th {\n",
       "        vertical-align: top;\n",
       "    }\n",
       "\n",
       "    .dataframe thead th {\n",
       "        text-align: right;\n",
       "    }\n",
       "</style>\n",
       "<table border=\"1\" class=\"dataframe\">\n",
       "  <thead>\n",
       "    <tr style=\"text-align: right;\">\n",
       "      <th></th>\n",
       "      <th>course_name</th>\n",
       "      <th>duration</th>\n",
       "    </tr>\n",
       "  </thead>\n",
       "  <tbody>\n",
       "    <tr>\n",
       "      <th>0</th>\n",
       "      <td>Data Science</td>\n",
       "      <td>2</td>\n",
       "    </tr>\n",
       "  </tbody>\n",
       "</table>\n",
       "</div>"
      ],
      "text/plain": [
       "    course_name  duration\n",
       "0  Data Science         2"
      ]
     },
     "execution_count": 2,
     "metadata": {},
     "output_type": "execute_result"
    }
   ],
   "source": [
    "df.iloc[:1]"
   ]
  },
  {
   "cell_type": "markdown",
   "id": "eeaf97ea-584a-4573-ae6c-11a4515ef8ba",
   "metadata": {},
   "source": [
    "### Ans - 2 "
   ]
  },
  {
   "cell_type": "markdown",
   "id": "08ff2568-f3df-4e5b-9b5b-ecc2701c0bc8",
   "metadata": {},
   "source": [
    "#### iloc and loc is same but there is only one key difference between iloc and loc is that :\n",
    "#### iloc filter rows and column based on inbuilt index and loc filter rows and column based on named columns."
   ]
  },
  {
   "cell_type": "markdown",
   "id": "0f7acf34-903f-4b09-96a3-fc13323fc9ef",
   "metadata": {},
   "source": [
    "### Ans - 3"
   ]
  },
  {
   "cell_type": "code",
   "execution_count": 3,
   "id": "8705617a-0a25-467d-8a75-75e032ace140",
   "metadata": {},
   "outputs": [],
   "source": [
    "import pandas as pd\n",
    "import numpy as np\n",
    "columns = ['column_1', 'column_2', 'column_3', 'column_4', 'column_5', 'column_6']\n",
    "indices = [1,2,3,4,5,6]\n",
    "#Creating a dataframe:\n",
    "df1 = pd.DataFrame(np.random.rand(6,6), columns = columns, index = indices)"
   ]
  },
  {
   "cell_type": "code",
   "execution_count": 4,
   "id": "1af62a55-ad1e-4ca7-8a68-883bed9671d7",
   "metadata": {},
   "outputs": [
    {
     "data": {
      "text/html": [
       "<div>\n",
       "<style scoped>\n",
       "    .dataframe tbody tr th:only-of-type {\n",
       "        vertical-align: middle;\n",
       "    }\n",
       "\n",
       "    .dataframe tbody tr th {\n",
       "        vertical-align: top;\n",
       "    }\n",
       "\n",
       "    .dataframe thead th {\n",
       "        text-align: right;\n",
       "    }\n",
       "</style>\n",
       "<table border=\"1\" class=\"dataframe\">\n",
       "  <thead>\n",
       "    <tr style=\"text-align: right;\">\n",
       "      <th></th>\n",
       "      <th>column_1</th>\n",
       "      <th>column_2</th>\n",
       "      <th>column_3</th>\n",
       "      <th>column_4</th>\n",
       "      <th>column_5</th>\n",
       "      <th>column_6</th>\n",
       "    </tr>\n",
       "  </thead>\n",
       "  <tbody>\n",
       "    <tr>\n",
       "      <th>1</th>\n",
       "      <td>0.442518</td>\n",
       "      <td>0.319099</td>\n",
       "      <td>0.907309</td>\n",
       "      <td>0.958840</td>\n",
       "      <td>0.992431</td>\n",
       "      <td>0.995233</td>\n",
       "    </tr>\n",
       "    <tr>\n",
       "      <th>2</th>\n",
       "      <td>0.536527</td>\n",
       "      <td>0.471096</td>\n",
       "      <td>0.084490</td>\n",
       "      <td>0.516952</td>\n",
       "      <td>0.969243</td>\n",
       "      <td>0.505760</td>\n",
       "    </tr>\n",
       "    <tr>\n",
       "      <th>3</th>\n",
       "      <td>0.859994</td>\n",
       "      <td>0.006474</td>\n",
       "      <td>0.902262</td>\n",
       "      <td>0.380669</td>\n",
       "      <td>0.798815</td>\n",
       "      <td>0.879194</td>\n",
       "    </tr>\n",
       "    <tr>\n",
       "      <th>4</th>\n",
       "      <td>0.877276</td>\n",
       "      <td>0.986408</td>\n",
       "      <td>0.350821</td>\n",
       "      <td>0.141439</td>\n",
       "      <td>0.854191</td>\n",
       "      <td>0.788033</td>\n",
       "    </tr>\n",
       "    <tr>\n",
       "      <th>5</th>\n",
       "      <td>0.374988</td>\n",
       "      <td>0.788429</td>\n",
       "      <td>0.203475</td>\n",
       "      <td>0.354075</td>\n",
       "      <td>0.358162</td>\n",
       "      <td>0.485603</td>\n",
       "    </tr>\n",
       "    <tr>\n",
       "      <th>6</th>\n",
       "      <td>0.427453</td>\n",
       "      <td>0.633852</td>\n",
       "      <td>0.669518</td>\n",
       "      <td>0.341177</td>\n",
       "      <td>0.480140</td>\n",
       "      <td>0.951775</td>\n",
       "    </tr>\n",
       "  </tbody>\n",
       "</table>\n",
       "</div>"
      ],
      "text/plain": [
       "   column_1  column_2  column_3  column_4  column_5  column_6\n",
       "1  0.442518  0.319099  0.907309  0.958840  0.992431  0.995233\n",
       "2  0.536527  0.471096  0.084490  0.516952  0.969243  0.505760\n",
       "3  0.859994  0.006474  0.902262  0.380669  0.798815  0.879194\n",
       "4  0.877276  0.986408  0.350821  0.141439  0.854191  0.788033\n",
       "5  0.374988  0.788429  0.203475  0.354075  0.358162  0.485603\n",
       "6  0.427453  0.633852  0.669518  0.341177  0.480140  0.951775"
      ]
     },
     "execution_count": 4,
     "metadata": {},
     "output_type": "execute_result"
    }
   ],
   "source": [
    "df1"
   ]
  },
  {
   "cell_type": "code",
   "execution_count": 5,
   "id": "72ec9e17-a347-4472-8e75-fa44e47125fe",
   "metadata": {},
   "outputs": [],
   "source": [
    "reindex = [3,0,1,2]\n",
    "new_df = df1.reindex(reindex)"
   ]
  },
  {
   "cell_type": "code",
   "execution_count": 6,
   "id": "73e1d782-25b4-4e51-a9c5-98f42459996f",
   "metadata": {},
   "outputs": [
    {
     "data": {
      "text/plain": [
       "column_1    0.536527\n",
       "column_2    0.471096\n",
       "column_3    0.084490\n",
       "column_4    0.516952\n",
       "column_5    0.969243\n",
       "column_6    0.505760\n",
       "Name: 2, dtype: float64"
      ]
     },
     "execution_count": 6,
     "metadata": {},
     "output_type": "execute_result"
    }
   ],
   "source": [
    "new_df.loc[2]"
   ]
  },
  {
   "cell_type": "code",
   "execution_count": 7,
   "id": "238c7d78-9e3a-4bbd-b6f9-d66be3ab5d32",
   "metadata": {},
   "outputs": [
    {
     "data": {
      "text/plain": [
       "column_1    0.442518\n",
       "column_2    0.319099\n",
       "column_3    0.907309\n",
       "column_4    0.958840\n",
       "column_5    0.992431\n",
       "column_6    0.995233\n",
       "Name: 1, dtype: float64"
      ]
     },
     "execution_count": 7,
     "metadata": {},
     "output_type": "execute_result"
    }
   ],
   "source": [
    "new_df.iloc[2]"
   ]
  },
  {
   "cell_type": "markdown",
   "id": "b4de1663-480f-47f8-ad0b-6e67c41afb4d",
   "metadata": {},
   "source": [
    "#### here iloc filter out the data based on internal or inbuilt index means even my 2nd index is not on 2nd position but there are some another index available then it will only print inbuilt one means another one."
   ]
  },
  {
   "cell_type": "markdown",
   "id": "9c613e80-5a39-4fa0-b53e-173e393d4672",
   "metadata": {},
   "source": [
    "#### here loc filter out the data based on named index so even my 2nd index is not at 2nd position but it will only print named index or by the name of index. so it will only print 2nd one."
   ]
  },
  {
   "cell_type": "markdown",
   "id": "b83ca9fd-b0bc-4d46-9748-f210b8017981",
   "metadata": {},
   "source": [
    "### Ans - 4"
   ]
  },
  {
   "cell_type": "code",
   "execution_count": 8,
   "id": "1b6cafa2-13fc-47a9-b2be-bd420668f518",
   "metadata": {},
   "outputs": [
    {
     "data": {
      "text/html": [
       "<div>\n",
       "<style scoped>\n",
       "    .dataframe tbody tr th:only-of-type {\n",
       "        vertical-align: middle;\n",
       "    }\n",
       "\n",
       "    .dataframe tbody tr th {\n",
       "        vertical-align: top;\n",
       "    }\n",
       "\n",
       "    .dataframe thead th {\n",
       "        text-align: right;\n",
       "    }\n",
       "</style>\n",
       "<table border=\"1\" class=\"dataframe\">\n",
       "  <thead>\n",
       "    <tr style=\"text-align: right;\">\n",
       "      <th></th>\n",
       "      <th>column_1</th>\n",
       "      <th>column_2</th>\n",
       "      <th>column_3</th>\n",
       "      <th>column_4</th>\n",
       "      <th>column_5</th>\n",
       "      <th>column_6</th>\n",
       "    </tr>\n",
       "  </thead>\n",
       "  <tbody>\n",
       "    <tr>\n",
       "      <th>1</th>\n",
       "      <td>0.442518</td>\n",
       "      <td>0.319099</td>\n",
       "      <td>0.907309</td>\n",
       "      <td>0.958840</td>\n",
       "      <td>0.992431</td>\n",
       "      <td>0.995233</td>\n",
       "    </tr>\n",
       "    <tr>\n",
       "      <th>2</th>\n",
       "      <td>0.536527</td>\n",
       "      <td>0.471096</td>\n",
       "      <td>0.084490</td>\n",
       "      <td>0.516952</td>\n",
       "      <td>0.969243</td>\n",
       "      <td>0.505760</td>\n",
       "    </tr>\n",
       "    <tr>\n",
       "      <th>3</th>\n",
       "      <td>0.859994</td>\n",
       "      <td>0.006474</td>\n",
       "      <td>0.902262</td>\n",
       "      <td>0.380669</td>\n",
       "      <td>0.798815</td>\n",
       "      <td>0.879194</td>\n",
       "    </tr>\n",
       "    <tr>\n",
       "      <th>4</th>\n",
       "      <td>0.877276</td>\n",
       "      <td>0.986408</td>\n",
       "      <td>0.350821</td>\n",
       "      <td>0.141439</td>\n",
       "      <td>0.854191</td>\n",
       "      <td>0.788033</td>\n",
       "    </tr>\n",
       "    <tr>\n",
       "      <th>5</th>\n",
       "      <td>0.374988</td>\n",
       "      <td>0.788429</td>\n",
       "      <td>0.203475</td>\n",
       "      <td>0.354075</td>\n",
       "      <td>0.358162</td>\n",
       "      <td>0.485603</td>\n",
       "    </tr>\n",
       "    <tr>\n",
       "      <th>6</th>\n",
       "      <td>0.427453</td>\n",
       "      <td>0.633852</td>\n",
       "      <td>0.669518</td>\n",
       "      <td>0.341177</td>\n",
       "      <td>0.480140</td>\n",
       "      <td>0.951775</td>\n",
       "    </tr>\n",
       "  </tbody>\n",
       "</table>\n",
       "</div>"
      ],
      "text/plain": [
       "   column_1  column_2  column_3  column_4  column_5  column_6\n",
       "1  0.442518  0.319099  0.907309  0.958840  0.992431  0.995233\n",
       "2  0.536527  0.471096  0.084490  0.516952  0.969243  0.505760\n",
       "3  0.859994  0.006474  0.902262  0.380669  0.798815  0.879194\n",
       "4  0.877276  0.986408  0.350821  0.141439  0.854191  0.788033\n",
       "5  0.374988  0.788429  0.203475  0.354075  0.358162  0.485603\n",
       "6  0.427453  0.633852  0.669518  0.341177  0.480140  0.951775"
      ]
     },
     "execution_count": 8,
     "metadata": {},
     "output_type": "execute_result"
    }
   ],
   "source": [
    "df1"
   ]
  },
  {
   "cell_type": "code",
   "execution_count": 9,
   "id": "71d0644c-4ed5-4284-8058-9dc63a2070b8",
   "metadata": {},
   "outputs": [
    {
     "data": {
      "text/plain": [
       "column_1    0.586459\n",
       "column_2    0.534226\n",
       "column_3    0.519646\n",
       "column_4    0.448859\n",
       "column_5    0.742164\n",
       "column_6    0.767600\n",
       "dtype: float64"
      ]
     },
     "execution_count": 9,
     "metadata": {},
     "output_type": "execute_result"
    }
   ],
   "source": [
    "df1[df1.columns].mean()"
   ]
  },
  {
   "cell_type": "code",
   "execution_count": 10,
   "id": "06c28902-cb8c-4923-9810-d6f079aa0d6d",
   "metadata": {},
   "outputs": [
    {
     "data": {
      "text/plain": [
       "0.34865461867427516"
      ]
     },
     "execution_count": 10,
     "metadata": {},
     "output_type": "execute_result"
    }
   ],
   "source": [
    "df1['column_2'].std()"
   ]
  },
  {
   "cell_type": "markdown",
   "id": "753c6069-dc8e-4139-8142-4b5ddda2f626",
   "metadata": {},
   "source": [
    "### Ans - 5"
   ]
  },
  {
   "cell_type": "code",
   "execution_count": 11,
   "id": "a33bbb02-e5d2-4a5c-b867-57c949e571f6",
   "metadata": {},
   "outputs": [
    {
     "data": {
      "text/html": [
       "<div>\n",
       "<style scoped>\n",
       "    .dataframe tbody tr th:only-of-type {\n",
       "        vertical-align: middle;\n",
       "    }\n",
       "\n",
       "    .dataframe tbody tr th {\n",
       "        vertical-align: top;\n",
       "    }\n",
       "\n",
       "    .dataframe thead th {\n",
       "        text-align: right;\n",
       "    }\n",
       "</style>\n",
       "<table border=\"1\" class=\"dataframe\">\n",
       "  <thead>\n",
       "    <tr style=\"text-align: right;\">\n",
       "      <th></th>\n",
       "      <th>column_1</th>\n",
       "      <th>column_2</th>\n",
       "      <th>column_3</th>\n",
       "      <th>column_4</th>\n",
       "      <th>column_5</th>\n",
       "      <th>column_6</th>\n",
       "    </tr>\n",
       "  </thead>\n",
       "  <tbody>\n",
       "    <tr>\n",
       "      <th>1</th>\n",
       "      <td>0.442518</td>\n",
       "      <td>0.319099</td>\n",
       "      <td>0.907309</td>\n",
       "      <td>0.958840</td>\n",
       "      <td>0.992431</td>\n",
       "      <td>0.995233</td>\n",
       "    </tr>\n",
       "    <tr>\n",
       "      <th>2</th>\n",
       "      <td>0.536527</td>\n",
       "      <td>0.471096</td>\n",
       "      <td>0.084490</td>\n",
       "      <td>0.516952</td>\n",
       "      <td>0.969243</td>\n",
       "      <td>0.505760</td>\n",
       "    </tr>\n",
       "    <tr>\n",
       "      <th>3</th>\n",
       "      <td>0.859994</td>\n",
       "      <td>0.006474</td>\n",
       "      <td>0.902262</td>\n",
       "      <td>0.380669</td>\n",
       "      <td>0.798815</td>\n",
       "      <td>0.879194</td>\n",
       "    </tr>\n",
       "    <tr>\n",
       "      <th>4</th>\n",
       "      <td>0.877276</td>\n",
       "      <td>0.986408</td>\n",
       "      <td>0.350821</td>\n",
       "      <td>0.141439</td>\n",
       "      <td>0.854191</td>\n",
       "      <td>0.788033</td>\n",
       "    </tr>\n",
       "    <tr>\n",
       "      <th>5</th>\n",
       "      <td>0.374988</td>\n",
       "      <td>0.788429</td>\n",
       "      <td>0.203475</td>\n",
       "      <td>0.354075</td>\n",
       "      <td>0.358162</td>\n",
       "      <td>0.485603</td>\n",
       "    </tr>\n",
       "    <tr>\n",
       "      <th>6</th>\n",
       "      <td>0.427453</td>\n",
       "      <td>0.633852</td>\n",
       "      <td>0.669518</td>\n",
       "      <td>0.341177</td>\n",
       "      <td>0.480140</td>\n",
       "      <td>0.951775</td>\n",
       "    </tr>\n",
       "  </tbody>\n",
       "</table>\n",
       "</div>"
      ],
      "text/plain": [
       "   column_1  column_2  column_3  column_4  column_5  column_6\n",
       "1  0.442518  0.319099  0.907309  0.958840  0.992431  0.995233\n",
       "2  0.536527  0.471096  0.084490  0.516952  0.969243  0.505760\n",
       "3  0.859994  0.006474  0.902262  0.380669  0.798815  0.879194\n",
       "4  0.877276  0.986408  0.350821  0.141439  0.854191  0.788033\n",
       "5  0.374988  0.788429  0.203475  0.354075  0.358162  0.485603\n",
       "6  0.427453  0.633852  0.669518  0.341177  0.480140  0.951775"
      ]
     },
     "execution_count": 11,
     "metadata": {},
     "output_type": "execute_result"
    }
   ],
   "source": [
    "df1"
   ]
  },
  {
   "cell_type": "code",
   "execution_count": 12,
   "id": "49bb1b35-f996-45dc-8777-c2a04885c7e9",
   "metadata": {},
   "outputs": [],
   "source": [
    "df1.loc[:,'column_2'] = \"Himal\""
   ]
  },
  {
   "cell_type": "code",
   "execution_count": 13,
   "id": "7aeb5132-2442-481a-b826-081dc5a6dfe7",
   "metadata": {},
   "outputs": [
    {
     "ename": "TypeError",
     "evalue": "Could not convert HimalHimalHimalHimalHimalHimal to numeric",
     "output_type": "error",
     "traceback": [
      "\u001b[1;31m---------------------------------------------------------------------------\u001b[0m",
      "\u001b[1;31mValueError\u001b[0m                                Traceback (most recent call last)",
      "File \u001b[1;32m~\\anaconda3\\lib\\site-packages\\pandas\\core\\nanops.py:1622\u001b[0m, in \u001b[0;36m_ensure_numeric\u001b[1;34m(x)\u001b[0m\n\u001b[0;32m   1621\u001b[0m \u001b[38;5;28;01mtry\u001b[39;00m:\n\u001b[1;32m-> 1622\u001b[0m     x \u001b[38;5;241m=\u001b[39m \u001b[38;5;28;43mfloat\u001b[39;49m\u001b[43m(\u001b[49m\u001b[43mx\u001b[49m\u001b[43m)\u001b[49m\n\u001b[0;32m   1623\u001b[0m \u001b[38;5;28;01mexcept\u001b[39;00m (\u001b[38;5;167;01mTypeError\u001b[39;00m, \u001b[38;5;167;01mValueError\u001b[39;00m):\n\u001b[0;32m   1624\u001b[0m     \u001b[38;5;66;03m# e.g. \"1+1j\" or \"foo\"\u001b[39;00m\n",
      "\u001b[1;31mValueError\u001b[0m: could not convert string to float: 'HimalHimalHimalHimalHimalHimal'",
      "\nDuring handling of the above exception, another exception occurred:\n",
      "\u001b[1;31mValueError\u001b[0m                                Traceback (most recent call last)",
      "File \u001b[1;32m~\\anaconda3\\lib\\site-packages\\pandas\\core\\nanops.py:1626\u001b[0m, in \u001b[0;36m_ensure_numeric\u001b[1;34m(x)\u001b[0m\n\u001b[0;32m   1625\u001b[0m \u001b[38;5;28;01mtry\u001b[39;00m:\n\u001b[1;32m-> 1626\u001b[0m     x \u001b[38;5;241m=\u001b[39m \u001b[38;5;28;43mcomplex\u001b[39;49m\u001b[43m(\u001b[49m\u001b[43mx\u001b[49m\u001b[43m)\u001b[49m\n\u001b[0;32m   1627\u001b[0m \u001b[38;5;28;01mexcept\u001b[39;00m \u001b[38;5;167;01mValueError\u001b[39;00m \u001b[38;5;28;01mas\u001b[39;00m err:\n\u001b[0;32m   1628\u001b[0m     \u001b[38;5;66;03m# e.g. \"foo\"\u001b[39;00m\n",
      "\u001b[1;31mValueError\u001b[0m: complex() arg is a malformed string",
      "\nThe above exception was the direct cause of the following exception:\n",
      "\u001b[1;31mTypeError\u001b[0m                                 Traceback (most recent call last)",
      "Input \u001b[1;32mIn [13]\u001b[0m, in \u001b[0;36m<cell line: 1>\u001b[1;34m()\u001b[0m\n\u001b[1;32m----> 1\u001b[0m \u001b[43mdf1\u001b[49m\u001b[43m[\u001b[49m\u001b[38;5;124;43m'\u001b[39;49m\u001b[38;5;124;43mcolumn_2\u001b[39;49m\u001b[38;5;124;43m'\u001b[39;49m\u001b[43m]\u001b[49m\u001b[38;5;241;43m.\u001b[39;49m\u001b[43mmean\u001b[49m\u001b[43m(\u001b[49m\u001b[43m)\u001b[49m\n",
      "File \u001b[1;32m~\\anaconda3\\lib\\site-packages\\pandas\\core\\generic.py:11117\u001b[0m, in \u001b[0;36mNDFrame._add_numeric_operations.<locals>.mean\u001b[1;34m(self, axis, skipna, level, numeric_only, **kwargs)\u001b[0m\n\u001b[0;32m  11099\u001b[0m \u001b[38;5;129m@doc\u001b[39m(\n\u001b[0;32m  11100\u001b[0m     _num_doc,\n\u001b[0;32m  11101\u001b[0m     desc\u001b[38;5;241m=\u001b[39m\u001b[38;5;124m\"\u001b[39m\u001b[38;5;124mReturn the mean of the values over the requested axis.\u001b[39m\u001b[38;5;124m\"\u001b[39m,\n\u001b[1;32m   (...)\u001b[0m\n\u001b[0;32m  11115\u001b[0m     \u001b[38;5;241m*\u001b[39m\u001b[38;5;241m*\u001b[39mkwargs,\n\u001b[0;32m  11116\u001b[0m ):\n\u001b[1;32m> 11117\u001b[0m     \u001b[38;5;28;01mreturn\u001b[39;00m NDFrame\u001b[38;5;241m.\u001b[39mmean(\u001b[38;5;28mself\u001b[39m, axis, skipna, level, numeric_only, \u001b[38;5;241m*\u001b[39m\u001b[38;5;241m*\u001b[39mkwargs)\n",
      "File \u001b[1;32m~\\anaconda3\\lib\\site-packages\\pandas\\core\\generic.py:10687\u001b[0m, in \u001b[0;36mNDFrame.mean\u001b[1;34m(self, axis, skipna, level, numeric_only, **kwargs)\u001b[0m\n\u001b[0;32m  10679\u001b[0m \u001b[38;5;28;01mdef\u001b[39;00m \u001b[38;5;21mmean\u001b[39m(\n\u001b[0;32m  10680\u001b[0m     \u001b[38;5;28mself\u001b[39m,\n\u001b[0;32m  10681\u001b[0m     axis: Axis \u001b[38;5;241m|\u001b[39m \u001b[38;5;28;01mNone\u001b[39;00m \u001b[38;5;241m|\u001b[39m lib\u001b[38;5;241m.\u001b[39mNoDefault \u001b[38;5;241m=\u001b[39m lib\u001b[38;5;241m.\u001b[39mno_default,\n\u001b[1;32m   (...)\u001b[0m\n\u001b[0;32m  10685\u001b[0m     \u001b[38;5;241m*\u001b[39m\u001b[38;5;241m*\u001b[39mkwargs,\n\u001b[0;32m  10686\u001b[0m ) \u001b[38;5;241m-\u001b[39m\u001b[38;5;241m>\u001b[39m Series \u001b[38;5;241m|\u001b[39m \u001b[38;5;28mfloat\u001b[39m:\n\u001b[1;32m> 10687\u001b[0m     \u001b[38;5;28;01mreturn\u001b[39;00m \u001b[38;5;28mself\u001b[39m\u001b[38;5;241m.\u001b[39m_stat_function(\n\u001b[0;32m  10688\u001b[0m         \u001b[38;5;124m\"\u001b[39m\u001b[38;5;124mmean\u001b[39m\u001b[38;5;124m\"\u001b[39m, nanops\u001b[38;5;241m.\u001b[39mnanmean, axis, skipna, level, numeric_only, \u001b[38;5;241m*\u001b[39m\u001b[38;5;241m*\u001b[39mkwargs\n\u001b[0;32m  10689\u001b[0m     )\n",
      "File \u001b[1;32m~\\anaconda3\\lib\\site-packages\\pandas\\core\\generic.py:10639\u001b[0m, in \u001b[0;36mNDFrame._stat_function\u001b[1;34m(self, name, func, axis, skipna, level, numeric_only, **kwargs)\u001b[0m\n\u001b[0;32m  10629\u001b[0m     warnings\u001b[38;5;241m.\u001b[39mwarn(\n\u001b[0;32m  10630\u001b[0m         \u001b[38;5;124m\"\u001b[39m\u001b[38;5;124mUsing the level keyword in DataFrame and Series aggregations is \u001b[39m\u001b[38;5;124m\"\u001b[39m\n\u001b[0;32m  10631\u001b[0m         \u001b[38;5;124m\"\u001b[39m\u001b[38;5;124mdeprecated and will be removed in a future version. Use groupby \u001b[39m\u001b[38;5;124m\"\u001b[39m\n\u001b[1;32m   (...)\u001b[0m\n\u001b[0;32m  10634\u001b[0m         stacklevel\u001b[38;5;241m=\u001b[39mfind_stack_level(),\n\u001b[0;32m  10635\u001b[0m     )\n\u001b[0;32m  10636\u001b[0m     \u001b[38;5;28;01mreturn\u001b[39;00m \u001b[38;5;28mself\u001b[39m\u001b[38;5;241m.\u001b[39m_agg_by_level(\n\u001b[0;32m  10637\u001b[0m         name, axis\u001b[38;5;241m=\u001b[39maxis, level\u001b[38;5;241m=\u001b[39mlevel, skipna\u001b[38;5;241m=\u001b[39mskipna, numeric_only\u001b[38;5;241m=\u001b[39mnumeric_only\n\u001b[0;32m  10638\u001b[0m     )\n\u001b[1;32m> 10639\u001b[0m \u001b[38;5;28;01mreturn\u001b[39;00m \u001b[38;5;28;43mself\u001b[39;49m\u001b[38;5;241;43m.\u001b[39;49m\u001b[43m_reduce\u001b[49m\u001b[43m(\u001b[49m\n\u001b[0;32m  10640\u001b[0m \u001b[43m    \u001b[49m\u001b[43mfunc\u001b[49m\u001b[43m,\u001b[49m\u001b[43m \u001b[49m\u001b[43mname\u001b[49m\u001b[38;5;241;43m=\u001b[39;49m\u001b[43mname\u001b[49m\u001b[43m,\u001b[49m\u001b[43m \u001b[49m\u001b[43maxis\u001b[49m\u001b[38;5;241;43m=\u001b[39;49m\u001b[43maxis\u001b[49m\u001b[43m,\u001b[49m\u001b[43m \u001b[49m\u001b[43mskipna\u001b[49m\u001b[38;5;241;43m=\u001b[39;49m\u001b[43mskipna\u001b[49m\u001b[43m,\u001b[49m\u001b[43m \u001b[49m\u001b[43mnumeric_only\u001b[49m\u001b[38;5;241;43m=\u001b[39;49m\u001b[43mnumeric_only\u001b[49m\n\u001b[0;32m  10641\u001b[0m \u001b[43m\u001b[49m\u001b[43m)\u001b[49m\n",
      "File \u001b[1;32m~\\anaconda3\\lib\\site-packages\\pandas\\core\\series.py:4471\u001b[0m, in \u001b[0;36mSeries._reduce\u001b[1;34m(self, op, name, axis, skipna, numeric_only, filter_type, **kwds)\u001b[0m\n\u001b[0;32m   4467\u001b[0m     \u001b[38;5;28;01mraise\u001b[39;00m \u001b[38;5;167;01mNotImplementedError\u001b[39;00m(\n\u001b[0;32m   4468\u001b[0m         \u001b[38;5;124mf\u001b[39m\u001b[38;5;124m\"\u001b[39m\u001b[38;5;124mSeries.\u001b[39m\u001b[38;5;132;01m{\u001b[39;00mname\u001b[38;5;132;01m}\u001b[39;00m\u001b[38;5;124m does not implement \u001b[39m\u001b[38;5;132;01m{\u001b[39;00mkwd_name\u001b[38;5;132;01m}\u001b[39;00m\u001b[38;5;124m.\u001b[39m\u001b[38;5;124m\"\u001b[39m\n\u001b[0;32m   4469\u001b[0m     )\n\u001b[0;32m   4470\u001b[0m \u001b[38;5;28;01mwith\u001b[39;00m np\u001b[38;5;241m.\u001b[39merrstate(\u001b[38;5;28mall\u001b[39m\u001b[38;5;241m=\u001b[39m\u001b[38;5;124m\"\u001b[39m\u001b[38;5;124mignore\u001b[39m\u001b[38;5;124m\"\u001b[39m):\n\u001b[1;32m-> 4471\u001b[0m     \u001b[38;5;28;01mreturn\u001b[39;00m op(delegate, skipna\u001b[38;5;241m=\u001b[39mskipna, \u001b[38;5;241m*\u001b[39m\u001b[38;5;241m*\u001b[39mkwds)\n",
      "File \u001b[1;32m~\\anaconda3\\lib\\site-packages\\pandas\\core\\nanops.py:93\u001b[0m, in \u001b[0;36mdisallow.__call__.<locals>._f\u001b[1;34m(*args, **kwargs)\u001b[0m\n\u001b[0;32m     91\u001b[0m \u001b[38;5;28;01mtry\u001b[39;00m:\n\u001b[0;32m     92\u001b[0m     \u001b[38;5;28;01mwith\u001b[39;00m np\u001b[38;5;241m.\u001b[39merrstate(invalid\u001b[38;5;241m=\u001b[39m\u001b[38;5;124m\"\u001b[39m\u001b[38;5;124mignore\u001b[39m\u001b[38;5;124m\"\u001b[39m):\n\u001b[1;32m---> 93\u001b[0m         \u001b[38;5;28;01mreturn\u001b[39;00m f(\u001b[38;5;241m*\u001b[39margs, \u001b[38;5;241m*\u001b[39m\u001b[38;5;241m*\u001b[39mkwargs)\n\u001b[0;32m     94\u001b[0m \u001b[38;5;28;01mexcept\u001b[39;00m \u001b[38;5;167;01mValueError\u001b[39;00m \u001b[38;5;28;01mas\u001b[39;00m e:\n\u001b[0;32m     95\u001b[0m     \u001b[38;5;66;03m# we want to transform an object array\u001b[39;00m\n\u001b[0;32m     96\u001b[0m     \u001b[38;5;66;03m# ValueError message to the more typical TypeError\u001b[39;00m\n\u001b[0;32m     97\u001b[0m     \u001b[38;5;66;03m# e.g. this is normally a disallowed function on\u001b[39;00m\n\u001b[0;32m     98\u001b[0m     \u001b[38;5;66;03m# object arrays that contain strings\u001b[39;00m\n\u001b[0;32m     99\u001b[0m     \u001b[38;5;28;01mif\u001b[39;00m is_object_dtype(args[\u001b[38;5;241m0\u001b[39m]):\n",
      "File \u001b[1;32m~\\anaconda3\\lib\\site-packages\\pandas\\core\\nanops.py:155\u001b[0m, in \u001b[0;36mbottleneck_switch.__call__.<locals>.f\u001b[1;34m(values, axis, skipna, **kwds)\u001b[0m\n\u001b[0;32m    153\u001b[0m         result \u001b[38;5;241m=\u001b[39m alt(values, axis\u001b[38;5;241m=\u001b[39maxis, skipna\u001b[38;5;241m=\u001b[39mskipna, \u001b[38;5;241m*\u001b[39m\u001b[38;5;241m*\u001b[39mkwds)\n\u001b[0;32m    154\u001b[0m \u001b[38;5;28;01melse\u001b[39;00m:\n\u001b[1;32m--> 155\u001b[0m     result \u001b[38;5;241m=\u001b[39m alt(values, axis\u001b[38;5;241m=\u001b[39maxis, skipna\u001b[38;5;241m=\u001b[39mskipna, \u001b[38;5;241m*\u001b[39m\u001b[38;5;241m*\u001b[39mkwds)\n\u001b[0;32m    157\u001b[0m \u001b[38;5;28;01mreturn\u001b[39;00m result\n",
      "File \u001b[1;32m~\\anaconda3\\lib\\site-packages\\pandas\\core\\nanops.py:410\u001b[0m, in \u001b[0;36m_datetimelike_compat.<locals>.new_func\u001b[1;34m(values, axis, skipna, mask, **kwargs)\u001b[0m\n\u001b[0;32m    407\u001b[0m \u001b[38;5;28;01mif\u001b[39;00m datetimelike \u001b[38;5;129;01mand\u001b[39;00m mask \u001b[38;5;129;01mis\u001b[39;00m \u001b[38;5;28;01mNone\u001b[39;00m:\n\u001b[0;32m    408\u001b[0m     mask \u001b[38;5;241m=\u001b[39m isna(values)\n\u001b[1;32m--> 410\u001b[0m result \u001b[38;5;241m=\u001b[39m func(values, axis\u001b[38;5;241m=\u001b[39maxis, skipna\u001b[38;5;241m=\u001b[39mskipna, mask\u001b[38;5;241m=\u001b[39mmask, \u001b[38;5;241m*\u001b[39m\u001b[38;5;241m*\u001b[39mkwargs)\n\u001b[0;32m    412\u001b[0m \u001b[38;5;28;01mif\u001b[39;00m datetimelike:\n\u001b[0;32m    413\u001b[0m     result \u001b[38;5;241m=\u001b[39m _wrap_results(result, orig_values\u001b[38;5;241m.\u001b[39mdtype, fill_value\u001b[38;5;241m=\u001b[39miNaT)\n",
      "File \u001b[1;32m~\\anaconda3\\lib\\site-packages\\pandas\\core\\nanops.py:698\u001b[0m, in \u001b[0;36mnanmean\u001b[1;34m(values, axis, skipna, mask)\u001b[0m\n\u001b[0;32m    695\u001b[0m     dtype_count \u001b[38;5;241m=\u001b[39m dtype\n\u001b[0;32m    697\u001b[0m count \u001b[38;5;241m=\u001b[39m _get_counts(values\u001b[38;5;241m.\u001b[39mshape, mask, axis, dtype\u001b[38;5;241m=\u001b[39mdtype_count)\n\u001b[1;32m--> 698\u001b[0m the_sum \u001b[38;5;241m=\u001b[39m \u001b[43m_ensure_numeric\u001b[49m\u001b[43m(\u001b[49m\u001b[43mvalues\u001b[49m\u001b[38;5;241;43m.\u001b[39;49m\u001b[43msum\u001b[49m\u001b[43m(\u001b[49m\u001b[43maxis\u001b[49m\u001b[43m,\u001b[49m\u001b[43m \u001b[49m\u001b[43mdtype\u001b[49m\u001b[38;5;241;43m=\u001b[39;49m\u001b[43mdtype_sum\u001b[49m\u001b[43m)\u001b[49m\u001b[43m)\u001b[49m\n\u001b[0;32m    700\u001b[0m \u001b[38;5;28;01mif\u001b[39;00m axis \u001b[38;5;129;01mis\u001b[39;00m \u001b[38;5;129;01mnot\u001b[39;00m \u001b[38;5;28;01mNone\u001b[39;00m \u001b[38;5;129;01mand\u001b[39;00m \u001b[38;5;28mgetattr\u001b[39m(the_sum, \u001b[38;5;124m\"\u001b[39m\u001b[38;5;124mndim\u001b[39m\u001b[38;5;124m\"\u001b[39m, \u001b[38;5;28;01mFalse\u001b[39;00m):\n\u001b[0;32m    701\u001b[0m     count \u001b[38;5;241m=\u001b[39m cast(np\u001b[38;5;241m.\u001b[39mndarray, count)\n",
      "File \u001b[1;32m~\\anaconda3\\lib\\site-packages\\pandas\\core\\nanops.py:1629\u001b[0m, in \u001b[0;36m_ensure_numeric\u001b[1;34m(x)\u001b[0m\n\u001b[0;32m   1626\u001b[0m             x \u001b[38;5;241m=\u001b[39m \u001b[38;5;28mcomplex\u001b[39m(x)\n\u001b[0;32m   1627\u001b[0m         \u001b[38;5;28;01mexcept\u001b[39;00m \u001b[38;5;167;01mValueError\u001b[39;00m \u001b[38;5;28;01mas\u001b[39;00m err:\n\u001b[0;32m   1628\u001b[0m             \u001b[38;5;66;03m# e.g. \"foo\"\u001b[39;00m\n\u001b[1;32m-> 1629\u001b[0m             \u001b[38;5;28;01mraise\u001b[39;00m \u001b[38;5;167;01mTypeError\u001b[39;00m(\u001b[38;5;124mf\u001b[39m\u001b[38;5;124m\"\u001b[39m\u001b[38;5;124mCould not convert \u001b[39m\u001b[38;5;132;01m{\u001b[39;00mx\u001b[38;5;132;01m}\u001b[39;00m\u001b[38;5;124m to numeric\u001b[39m\u001b[38;5;124m\"\u001b[39m) \u001b[38;5;28;01mfrom\u001b[39;00m \u001b[38;5;21;01merr\u001b[39;00m\n\u001b[0;32m   1630\u001b[0m \u001b[38;5;28;01mreturn\u001b[39;00m x\n",
      "\u001b[1;31mTypeError\u001b[0m: Could not convert HimalHimalHimalHimalHimalHimal to numeric"
     ]
    }
   ],
   "source": [
    "df1['column_2'].mean()"
   ]
  },
  {
   "cell_type": "markdown",
   "id": "83bf38cf-ce0d-41f6-a11a-1868150d0592",
   "metadata": {
    "tags": []
   },
   "source": [
    "#### Here i am getting type error beacuse, we can only find the mean on numeric columns and here we have categoical data in thie columns So we got type error."
   ]
  },
  {
   "cell_type": "markdown",
   "id": "42da1be2-a7c7-4eee-a65b-128d976d6b2a",
   "metadata": {},
   "source": [
    "### Ans - 6"
   ]
  },
  {
   "cell_type": "markdown",
   "id": "fd001e4f-6689-46af-80e5-0c61ca415d30",
   "metadata": {},
   "source": [
    "#### The window functions in Pandas are used to perform some sort of calculations across a set of rows that are interrelated with the current row. The windows functions help us to perform the aggregated calculations across various partitions or cross-sections of the data.\n",
    "#### The Aggregate category of window functions can be of three types namely :\n",
    "\n",
    "1. Aggregate,\n",
    "2. Ranking,\n",
    "3. Value."
   ]
  },
  {
   "cell_type": "markdown",
   "id": "85d5e52e-65c5-4e55-bce5-cb1054ea73cd",
   "metadata": {},
   "source": [
    "### Ans - 7"
   ]
  },
  {
   "cell_type": "code",
   "execution_count": 14,
   "id": "7d1fb8e9-3e19-4343-8093-fb33a38401c4",
   "metadata": {},
   "outputs": [
    {
     "name": "stderr",
     "output_type": "stream",
     "text": [
      "C:\\Users\\mevad\\AppData\\Local\\Temp\\ipykernel_25852\\2483082931.py:1: FutureWarning: The pandas.datetime class is deprecated and will be removed from pandas in a future version. Import from datetime module instead.\n",
      "  datetime = pd.datetime.now()\n"
     ]
    }
   ],
   "source": [
    "datetime = pd.datetime.now()"
   ]
  },
  {
   "cell_type": "code",
   "execution_count": 15,
   "id": "08aca20b-2c85-4f45-bca3-01353d91524b",
   "metadata": {},
   "outputs": [
    {
     "name": "stdout",
     "output_type": "stream",
     "text": [
      "3\n"
     ]
    }
   ],
   "source": [
    "print(datetime.month)"
   ]
  },
  {
   "cell_type": "code",
   "execution_count": 16,
   "id": "337d82a9-503f-47bf-888a-7239e05d477f",
   "metadata": {},
   "outputs": [
    {
     "name": "stdout",
     "output_type": "stream",
     "text": [
      "2023\n"
     ]
    }
   ],
   "source": [
    "print(datetime.year)"
   ]
  },
  {
   "cell_type": "markdown",
   "id": "5998ec68-df2f-4e64-9f3b-8a5f3c2316ed",
   "metadata": {},
   "source": [
    "### Ans - 8"
   ]
  },
  {
   "cell_type": "code",
   "execution_count": 17,
   "id": "091b9904-f63d-4274-bd0e-48e709669b88",
   "metadata": {},
   "outputs": [
    {
     "name": "stdin",
     "output_type": "stream",
     "text": [
      "Enter date format (YYYY-MM-DD) :  2022-01-12\n",
      "Enter date format (YYYY-MM-DD) :  2022-01-22\n"
     ]
    }
   ],
   "source": [
    "d1 = input(\"Enter date format (YYYY-MM-DD) : \")\n",
    "d2 = input(\"Enter date format (YYYY-MM-DD) : \")"
   ]
  },
  {
   "cell_type": "code",
   "execution_count": 18,
   "id": "ddbcd200-e2fe-40e1-80cc-3f1e10443e4a",
   "metadata": {},
   "outputs": [],
   "source": [
    "date1 = pd.to_datetime(d1)\n",
    "date2 = pd.to_datetime(d2)\n",
    "# pd.to_timedelta('1 days 02:55:45')"
   ]
  },
  {
   "cell_type": "code",
   "execution_count": 19,
   "id": "829aaf49-4cd0-4b6a-bbf0-0435b6b8e39e",
   "metadata": {},
   "outputs": [],
   "source": [
    "day1 = date1.day\n",
    "day2 = date2.day"
   ]
  },
  {
   "cell_type": "code",
   "execution_count": 20,
   "id": "65242947-5b15-411f-ab21-2881d98761e9",
   "metadata": {},
   "outputs": [],
   "source": [
    "delta_d1 = pd.to_timedelta(f\"{day1} days\")\n",
    "delta_d2 = pd.to_timedelta(f\"{day2} days\")"
   ]
  },
  {
   "cell_type": "code",
   "execution_count": 21,
   "id": "48a46aea-f01c-4e6e-8b72-e0406fc5178b",
   "metadata": {},
   "outputs": [],
   "source": [
    "days_difference = (delta_d2-delta_d1).days\n",
    "hour_difference = days_difference * 24\n",
    "minute_difference = hour_difference * 60"
   ]
  },
  {
   "cell_type": "code",
   "execution_count": 22,
   "id": "dc2ee42a-9d01-4df4-9167-25414e941e3f",
   "metadata": {},
   "outputs": [
    {
     "name": "stdout",
     "output_type": "stream",
     "text": [
      "Date1 : 2022-01-12 , Date2 : 2022-01-22\n",
      "Difference of day : 10\n",
      "Difference of hour : 240\n",
      "Difference of minute : 14400\n"
     ]
    }
   ],
   "source": [
    "print(f\"Date1 : {d1} , Date2 : {d2}\") \n",
    "print(f\"Difference of day : {days_difference}\")\n",
    "print(f\"Difference of hour : {hour_difference}\")\n",
    "print(f\"Difference of minute : {minute_difference}\")"
   ]
  },
  {
   "cell_type": "markdown",
   "id": "8741ef2d-6e58-4f65-807d-0be5cc051b5a",
   "metadata": {},
   "source": [
    "### Ans - 9"
   ]
  },
  {
   "cell_type": "code",
   "execution_count": 23,
   "id": "85a5b6a3-b0ae-4398-91e6-2606410afe2b",
   "metadata": {},
   "outputs": [
    {
     "name": "stdin",
     "output_type": "stream",
     "text": [
      "Enter file path :  csv/warikoo.csv\n",
      "Enter column name :  Url\n",
      "You want ordered category (yes/no) :  no\n"
     ]
    },
    {
     "name": "stdout",
     "output_type": "stream",
     "text": [
      "0    https://www.youtube.com/watch?v=0BWxFiA3Ixk\n",
      "4    https://www.youtube.com/watch?v=6x2oz1UW6pE\n",
      "2    https://www.youtube.com/watch?v=FfRTsx026I0\n",
      "1    https://www.youtube.com/watch?v=JS1imtdTZxU\n",
      "3    https://www.youtube.com/watch?v=Ut577Lc_-yo\n",
      "Name: Url, dtype: category\n",
      "Categories (5, object): ['https://www.youtube.com/watch?v=0BWxFiA3Ixk', 'https://www.youtube.com/watch?v=6x2oz1UW6pE', 'https://www.youtube.com/watch?v=FfRTsx026I0', 'https://www.youtube.com/watch?v=JS1imtdTZxU', 'https://www.youtube.com/watch?v=Ut577Lc_-yo']\n"
     ]
    }
   ],
   "source": [
    "in_path = input(\"Enter file path : \")\n",
    "df1 = pd.read_csv(in_path)\n",
    "\n",
    "in_col_name = input(\"Enter column name : \").strip()\n",
    "df1[in_col_name] = df1[in_col_name].astype('category')\n",
    "\n",
    "in_cat_order = input(\"You want ordered category (yes/no) : \").strip()\n",
    "df1[in_col_name] = df1[in_col_name].cat.set_categories(df1[in_col_name].unique(),ordered=True if in_cat_order==\"yes\" else False)\n",
    "\n",
    "print(df1[in_col_name].sort_values())"
   ]
  },
  {
   "cell_type": "markdown",
   "id": "1d35324f-559e-47b2-b867-8df45cf722ac",
   "metadata": {},
   "source": [
    "### Ans - 10"
   ]
  },
  {
   "cell_type": "code",
   "execution_count": 24,
   "id": "a0649534-88ea-4751-9ad4-7db28c959e9e",
   "metadata": {},
   "outputs": [
    {
     "name": "stdin",
     "output_type": "stream",
     "text": [
      "Enter file path :  csv/sales_data.csv\n"
     ]
    }
   ],
   "source": [
    "in_path = input(\"Enter file path : \")\n",
    "df2 = pd.read_csv(in_path)"
   ]
  },
  {
   "cell_type": "code",
   "execution_count": 25,
   "id": "1dd43e6c-a2aa-466a-92dd-f0dda838a1a1",
   "metadata": {},
   "outputs": [],
   "source": [
    "grouped_data = df2.groupby('Sub_Category').sum()"
   ]
  },
  {
   "cell_type": "code",
   "execution_count": 26,
   "id": "75999665-9b78-4799-ae60-76835145c88f",
   "metadata": {},
   "outputs": [],
   "source": [
    "data = grouped_data.loc[:,['Revenue']]"
   ]
  },
  {
   "cell_type": "code",
   "execution_count": 27,
   "id": "4b60b329-9645-46a7-9955-ff2ce49e5a13",
   "metadata": {},
   "outputs": [
    {
     "data": {
      "text/plain": [
       "<AxesSubplot:title={'center':'Sales Report'}, xlabel='Sub_Category', ylabel='Revenue'>"
      ]
     },
     "execution_count": 27,
     "metadata": {},
     "output_type": "execute_result"
    },
    {
     "data": {
      "image/png": "[encoded data removed]",
      "text/plain": [
       "<Figure size 720x360 with 1 Axes>"
      ]
     },
     "metadata": {
      "needs_background": "light"
     },
     "output_type": "display_data"
    }
   ],
   "source": [
    "data.plot(kind='bar',title='Sales Report',figsize=(10,5),ylabel='Revenue')"
   ]
  },
  {
   "cell_type": "markdown",
   "id": "fc7cbb24-f235-49ad-83ef-16d96da7dcb8",
   "metadata": {},
   "source": [
    "### Ans - 11"
   ]
  },
  {
   "cell_type": "code",
   "execution_count": 28,
   "id": "18c6746a-2b9f-4314-820e-c8cc7e9c3bb8",
   "metadata": {},
   "outputs": [
    {
     "name": "stdin",
     "output_type": "stream",
     "text": [
      "Enter file path :  csv/student_data.csv\n"
     ]
    }
   ],
   "source": [
    "in_path = input(\"Enter file path : \")\n",
    "df3 = pd.read_csv(in_path)"
   ]
  },
  {
   "cell_type": "code",
   "execution_count": 29,
   "id": "f322f308-e014-4120-9e83-dc9c4701b1ec",
   "metadata": {},
   "outputs": [
    {
     "data": {
      "text/html": [
       "<div>\n",
       "<style scoped>\n",
       "    .dataframe tbody tr th:only-of-type {\n",
       "        vertical-align: middle;\n",
       "    }\n",
       "\n",
       "    .dataframe tbody tr th {\n",
       "        vertical-align: top;\n",
       "    }\n",
       "\n",
       "    .dataframe thead th {\n",
       "        text-align: right;\n",
       "    }\n",
       "</style>\n",
       "<table border=\"1\" class=\"dataframe\">\n",
       "  <thead>\n",
       "    <tr style=\"text-align: right;\">\n",
       "      <th></th>\n",
       "      <th>Student Id</th>\n",
       "      <th>Test Score</th>\n",
       "    </tr>\n",
       "  </thead>\n",
       "  <tbody>\n",
       "    <tr>\n",
       "      <th>0</th>\n",
       "      <td>1</td>\n",
       "      <td>85</td>\n",
       "    </tr>\n",
       "    <tr>\n",
       "      <th>1</th>\n",
       "      <td>2</td>\n",
       "      <td>90</td>\n",
       "    </tr>\n",
       "    <tr>\n",
       "      <th>2</th>\n",
       "      <td>3</td>\n",
       "      <td>80</td>\n",
       "    </tr>\n",
       "    <tr>\n",
       "      <th>3</th>\n",
       "      <td>4</td>\n",
       "      <td>75</td>\n",
       "    </tr>\n",
       "    <tr>\n",
       "      <th>4</th>\n",
       "      <td>5</td>\n",
       "      <td>85</td>\n",
       "    </tr>\n",
       "    <tr>\n",
       "      <th>5</th>\n",
       "      <td>6</td>\n",
       "      <td>82</td>\n",
       "    </tr>\n",
       "    <tr>\n",
       "      <th>6</th>\n",
       "      <td>7</td>\n",
       "      <td>78</td>\n",
       "    </tr>\n",
       "    <tr>\n",
       "      <th>7</th>\n",
       "      <td>8</td>\n",
       "      <td>85</td>\n",
       "    </tr>\n",
       "    <tr>\n",
       "      <th>8</th>\n",
       "      <td>9</td>\n",
       "      <td>90</td>\n",
       "    </tr>\n",
       "    <tr>\n",
       "      <th>9</th>\n",
       "      <td>10</td>\n",
       "      <td>85</td>\n",
       "    </tr>\n",
       "  </tbody>\n",
       "</table>\n",
       "</div>"
      ],
      "text/plain": [
       "   Student Id  Test Score\n",
       "0           1          85\n",
       "1           2          90\n",
       "2           3          80\n",
       "3           4          75\n",
       "4           5          85\n",
       "5           6          82\n",
       "6           7          78\n",
       "7           8          85\n",
       "8           9          90\n",
       "9          10          85"
      ]
     },
     "execution_count": 29,
     "metadata": {},
     "output_type": "execute_result"
    }
   ],
   "source": [
    "df3"
   ]
  },
  {
   "cell_type": "code",
   "execution_count": 30,
   "id": "9312c17a-43bc-437f-8c59-22b9dae26166",
   "metadata": {},
   "outputs": [],
   "source": [
    "df_mean = df3['Test Score'].mean()"
   ]
  },
  {
   "cell_type": "code",
   "execution_count": 31,
   "id": "49a229e7-1539-47d2-8a7d-118058205bc3",
   "metadata": {},
   "outputs": [],
   "source": [
    "df_mode = df3['Test Score'].mode()[0]"
   ]
  },
  {
   "cell_type": "code",
   "execution_count": 32,
   "id": "736502b1-58ea-4323-a869-7598721652ca",
   "metadata": {},
   "outputs": [],
   "source": [
    "df_median = df3['Test Score'].median()"
   ]
  },
  {
   "cell_type": "code",
   "execution_count": 33,
   "id": "8779cee4-3a1e-42c1-a468-1f34c4a496a6",
   "metadata": {},
   "outputs": [],
   "source": [
    "dff = pd.DataFrame({\"Value\":[df_mean,df_mode,df_median]},index=['Mean','Mode','Median'])"
   ]
  },
  {
   "cell_type": "code",
   "execution_count": 34,
   "id": "2249dad3-b0da-4a2b-b71c-2c82ccaa35da",
   "metadata": {},
   "outputs": [],
   "source": [
    "dff.index.name = \"Statistic\""
   ]
  },
  {
   "cell_type": "code",
   "execution_count": 35,
   "id": "e56d5d61-d412-48f0-baf5-d31f7f032980",
   "metadata": {},
   "outputs": [
    {
     "data": {
      "text/html": [
       "<div>\n",
       "<style scoped>\n",
       "    .dataframe tbody tr th:only-of-type {\n",
       "        vertical-align: middle;\n",
       "    }\n",
       "\n",
       "    .dataframe tbody tr th {\n",
       "        vertical-align: top;\n",
       "    }\n",
       "\n",
       "    .dataframe thead th {\n",
       "        text-align: right;\n",
       "    }\n",
       "</style>\n",
       "<table border=\"1\" class=\"dataframe\">\n",
       "  <thead>\n",
       "    <tr style=\"text-align: right;\">\n",
       "      <th></th>\n",
       "      <th>Value</th>\n",
       "    </tr>\n",
       "    <tr>\n",
       "      <th>Statistic</th>\n",
       "      <th></th>\n",
       "    </tr>\n",
       "  </thead>\n",
       "  <tbody>\n",
       "    <tr>\n",
       "      <th>Mean</th>\n",
       "      <td>83.5</td>\n",
       "    </tr>\n",
       "    <tr>\n",
       "      <th>Mode</th>\n",
       "      <td>85.0</td>\n",
       "    </tr>\n",
       "    <tr>\n",
       "      <th>Median</th>\n",
       "      <td>85.0</td>\n",
       "    </tr>\n",
       "  </tbody>\n",
       "</table>\n",
       "</div>"
      ],
      "text/plain": [
       "           Value\n",
       "Statistic       \n",
       "Mean        83.5\n",
       "Mode        85.0\n",
       "Median      85.0"
      ]
     },
     "execution_count": 35,
     "metadata": {},
     "output_type": "execute_result"
    }
   ],
   "source": [
    "dff"
   ]
  }
 ],
 "metadata": {
  "kernelspec": {
   "display_name": "Python 3 (ipykernel)",
   "language": "python",
   "name": "python3"
  },
  "language_info": {
   "codemirror_mode": {
    "name": "ipython",
    "version": 3
   },
   "file_extension": ".py",
   "mimetype": "text/x-python",
   "name": "python",
   "nbconvert_exporter": "python",
   "pygments_lexer": "ipython3",
   "version": "3.9.12"
  },
  "vscode": {
   "interpreter": {
    "hash": "b1cc2f36871d7e6eb33d73c9431d7dc5cd9cdf88734d533b7fc5e72b44fa56ec"
   }
  }
 },
 "nbformat": 4,
 "nbformat_minor": 5
}
