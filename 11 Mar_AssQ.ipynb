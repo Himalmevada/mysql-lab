{
 "cells": [
  {
   "attachments": {},
   "cell_type": "markdown",
   "metadata": {},
   "source": [
    "### Que - 1 : What is the difference between a t-test and a z-test? Provide an example scenario where you would use each type of test."
   ]
  },
  {
   "attachments": {},
   "cell_type": "markdown",
   "metadata": {},
   "source": [
    "A t-test and a z-test are statistical tests used to determine whether a sample mean is significantly different from a population mean. The key difference between these two tests is the type of data being analyzed and the assumptions that can be made about the population variance.\n",
    "\n",
    "A z-test is used when the population variance is known, and the sample size is large (typically n > 30). This test assumes that the population follows a normal distribution, and the test statistic follows a standard normal distribution. A common example scenario where you would use a z-test is when testing the effectiveness of a new drug in a large population.\n",
    "\n",
    "On the other hand, a t-test is used when the population variance is unknown, and the sample size is small (typically n < 30). This test assumes that the population follows a normal distribution, and the test statistic follows a t-distribution with degrees of freedom equal to n-1. A common example scenario where you would use a t-test is when testing the effectiveness of a new teaching method in a small class.\n",
    "\n",
    "To summarize, a z-test is used for large samples and when the population variance is known, while a t-test is used for small samples and when the population variance is unknown."
   ]
  },
  {
   "attachments": {},
   "cell_type": "markdown",
   "metadata": {},
   "source": [
    "### Que - 2 : Differentiate between one-tailed and two-tailed tests."
   ]
  },
  {
   "attachments": {},
   "cell_type": "markdown",
   "metadata": {},
   "source": [
    "In statistical hypothesis testing, a test can be either one-tailed or two-tailed, depending on the direction of the alternative hypothesis.\n",
    "\n",
    "A two-tailed test is used when the alternative hypothesis does not specify the direction of the effect. It means that the difference between the sample mean and the hypothesized population mean can be in either direction. The null hypothesis is that there is no difference between the sample mean and the population mean, and the alternative hypothesis is that the sample mean is significantly different from the population mean. The critical region is divided between both tails of the distribution. For example, when testing whether the mean score of a test is significantly different from a hypothesized value, a two-tailed test would be used to test whether the mean is significantly different in either direction from the hypothesized value.\n",
    "\n",
    "A one-tailed test, on the other hand, is used when the alternative hypothesis specifies the direction of the effect. It means that the difference between the sample mean and the hypothesized population mean can only be in one direction. The null hypothesis is that there is no difference between the sample mean and the population mean in that direction, and the alternative hypothesis is that the sample mean is significantly greater than or less than the population mean in that direction. The critical region is located on one side of the distribution. For example, when testing whether a new teaching method is better than the current one, a one-tailed test would be used to test whether the mean score of the test is significantly greater than the mean score of the current teaching method.\n",
    "\n",
    "To summarize, a two-tailed test is used when the alternative hypothesis does not specify the direction of the effect, and a one-tailed test is used when the alternative hypothesis specifies the direction of the effect."
   ]
  },
  {
   "attachments": {},
   "cell_type": "markdown",
   "metadata": {},
   "source": [
    "### Que - 3 : Explain the concept of Type 1 and Type 2 errors in hypothesis testing. Provide an example scenario for each type of error."
   ]
  },
  {
   "attachments": {},
   "cell_type": "markdown",
   "metadata": {},
   "source": [
    "In statistical hypothesis testing, there are two types of errors: Type 1 error and Type 2 error.\n",
    "\n",
    "Type 1 error occurs when we reject the null hypothesis when it is actually true. In other words, we conclude that there is a significant difference between the sample mean and the hypothesized population mean when in fact there is no difference. This is also known as a false positive. The probability of making a Type 1 error is denoted by alpha (α), which is the significance level of the test. A lower alpha value means a lower probability of making a Type 1 error.\n",
    "\n",
    "Example scenario: In a clinical trial, a new drug is tested to see if it is effective in reducing blood pressure. The null hypothesis is that the drug has no effect on blood pressure. However, if we reject the null hypothesis and conclude that the drug is effective when it is actually not, we have made a Type 1 error.\n",
    "\n",
    "Type 2 error occurs when we fail to reject the null hypothesis when it is actually false. In other words, we conclude that there is no significant difference between the sample mean and the hypothesized population mean when in fact there is a difference. This is also known as a false negative. The probability of making a Type 2 error is denoted by beta (β). A lower beta value means a lower probability of making a Type 2 error.\n",
    "\n",
    "Example scenario: In a criminal trial, the null hypothesis is that the defendant is innocent. However, if we fail to reject the null hypothesis and conclude that the defendant is innocent when they are actually guilty, we have made a Type 2 error.\n",
    "\n",
    "In conclusion, Type 1 error occurs when we reject the null hypothesis when it is actually true, while Type 2 error occurs when we fail to reject the null hypothesis when it is actually false. It is important to control both types of errors in hypothesis testing."
   ]
  },
  {
   "attachments": {},
   "cell_type": "markdown",
   "metadata": {},
   "source": [
    "### Que - 4 : Explain Bayes's theorem with an example."
   ]
  },
  {
   "attachments": {},
   "cell_type": "markdown",
   "metadata": {},
   "source": [
    "Bayes's theorem is a fundamental concept in probability theory and statistics that describes the probability of an event based on prior knowledge or information. The theorem is named after the English statistician Thomas Bayes.\n",
    "\n",
    "Bayes's theorem is expressed as:\n",
    "\n",
    "P(A|B) = P(B|A) * P(A) / P(B)\n",
    "\n",
    "where P(A|B) is the probability of event A occurring given that event B has occurred, P(B|A) is the probability of event B occurring given that event A has occurred, P(A) is the prior probability of event A, and P(B) is the prior probability of event B.\n",
    "\n",
    "Example of Bayes Theorem\n",
    "\n",
    "Bayes theorem gives the probability of an “event” with the given information on “tests”.\n",
    "\n",
    "There is a difference between “events” and “tests”. For example there is a test for liver disease, which is different from actually having the liver disease, i.e. an event.\n",
    "Rare events might be having a higher false positive rate.\n",
    "Example 1\n",
    "\n",
    "What is the probability of a patient having liver disease if they are alcoholic? \n",
    "\n",
    "Here, “being an alcoholic” is the “test” (type of litmus test) for liver disease.\n",
    "\n",
    "A is the event i.e. “patient has liver disease””.\n",
    "As per earlier records of the clinic, it states that 10% of the patient’s entering the clinic are suffering from liver disease. \n",
    "\n",
    "Therefore, P(A)=0.10\n",
    "\n",
    "B is the litmus test that “Patient is an alcoholic”.\n",
    "Earlier records of the clinic showed that 5% of the patients entering the clinic are alcoholic.\n",
    "\n",
    "Therefore, P(B)=0.05\n",
    "\n",
    "Also,  7% out of the he patient’s that are diagnosed with liver disease, are alcoholics. This defines the B|A: probability of a patient being alcoholic, given that they have a liver disease is 7%.\n",
    "As, per Bayes theorem formula, \n",
    "\n",
    "P(A|B) = (0.07 * 0.1)/0.05 = 0.14\n",
    "\n",
    "Therefore, for a patient being alcoholic, the chances of having a liver disease are 0.14 (14%)."
   ]
  },
  {
   "attachments": {},
   "cell_type": "markdown",
   "metadata": {},
   "source": [
    "### Que - 5 : What is a confidence interval? How to calculate the confidence interval, explain with an example."
   ]
  },
  {
   "attachments": {},
   "cell_type": "markdown",
   "metadata": {},
   "source": [
    "A confidence interval is the mean of your estimate plus and minus the variation in that estimate. This is the range of values you expect your estimate to fall between if you redo your test, within a certain level of confidence.\n",
    "\n",
    "Confidence, in statistics, is another way to describe probability. For example, if you construct a confidence interval with a 95% confidence level, you are confident that 95 out of 100 times the estimate will fall between the upper and lower values specified by the confidence interval.\n",
    "\n",
    "A retail company wants to rate the quality of a product by using results from a customer satisfaction survey. In the survey, the company asks respondents to rate the quality on a scale of one to five, with one being the poorest quality and five being the highest quality.\n",
    "\n",
    "The sample size is 25, the sample mean is 4.5 and the standard deviation is 2.5. The company calculates the confidence interval assuming a 97% confidence level:\n",
    "\n",
    "Confidence interval = 4.5 ± 0.97(2.5 ÷ √25) = 4.5 ± 0.97(2.5 ÷ 5) = 4.5 ± 0.97(0.5) = 4.5 ± 0.485 = 4.985, 4.015\n",
    "\n",
    "\n",
    "The confidence interval ranges between 4.985 and 4.015, which means the customers in the sample rate the product quality between four and five. The company's confidence level of 97% represents the likelihood that these results are the same within the entire population of customers."
   ]
  },
  {
   "attachments": {},
   "cell_type": "markdown",
   "metadata": {},
   "source": [
    "### Que - 6 : Use Bayes' Theorem to calculate the probability of an event occurring given prior knowledge of the event's probability and new evidence. Provide a sample problem and solution."
   ]
  },
  {
   "attachments": {},
   "cell_type": "markdown",
   "metadata": {},
   "source": [
    "A man is known to speak the truth 2 out of 3 times. He throws a die and reports that the number obtained is a four. Find the probability that the number obtained is actually a four.\n",
    "\n",
    "Solution:\n",
    "\n",
    "Let A be the event that the man reports that number four is obtained.\n",
    "\n",
    "Let E1 be the event that four is obtained and E2 be its complementary event.\n",
    "\n",
    "Then, P(E1) = Probability that four occurs = 1/6.\n",
    "\n",
    "P(E2) = Probability that four does not occur = 1- P(E1) = 1 – (1/6) = 5/6.\n",
    "\n",
    "Also, P(A|E1)= Probability that man reports four and it is actually a four = 2/3\n",
    "\n",
    "P(A|E2) = Probability that man reports four and it is not a four = 1/3.\n",
    "\n",
    "By using Bayes’ theorem, probability that number obtained is actually a four, P(E1|A)\n",
    "= P(E1)P(A|E1) / P(E1)P(A|E1) + P(E2)P(A|E2)  \n",
    "= ( 1/6 * 2/3 ) / ( 1/6  * 2/3 ) + ( 5/6 * 1/3 )\n",
    "= 2/7"
   ]
  },
  {
   "attachments": {},
   "cell_type": "markdown",
   "metadata": {},
   "source": [
    "### Que - 7 : Calculate the 95% confidence interval for a sample of data with a mean of 50 and a standard deviation of 5. Interpret the results."
   ]
  },
  {
   "attachments": {},
   "cell_type": "markdown",
   "metadata": {},
   "source": [
    "To calculate the 95% confidence interval for a sample with a mean of 50 and a standard deviation of 5, we need to use the formula:\n",
    "\n",
    "CI = X̄ ± Zα/2 * σ/√n\n",
    "\n",
    "where:\n",
    "\n",
    "X̄ is the sample mean (50)\n",
    "Zα/2 is the z-score corresponding to the desired level of confidence (95%), which is 1.96\n",
    "σ is the population standard deviation (5)\n",
    "n is the sample size (not given)\n",
    "Without knowing the sample size, we cannot calculate the confidence interval. Assuming a large enough sample size, we can use the formula to calculate the interval as:\n",
    "\n",
    "CI = 50 ± 1.96 * 5/√n\n",
    "\n",
    "Interpretation: If we take repeated samples of the same size from the same population and calculate the 95% confidence interval for each sample mean, then we would expect that 95% of those intervals would contain the true population mean. In other words, we are 95% confident that the true population mean falls within the interval calculated from our sample data. In this case, we can say that we are 95% confident that the true population mean is between 49.1 and 50.9, assuming a large enough sample size."
   ]
  },
  {
   "attachments": {},
   "cell_type": "markdown",
   "metadata": {},
   "source": [
    "### Que - 8 : What is the margin of error in a confidence interval? How does sample size affect the margin of error? Provide an example of a scenario where a larger sample size would result in a smaller margin of error."
   ]
  },
  {
   "attachments": {},
   "cell_type": "markdown",
   "metadata": {},
   "source": [
    "The margin of error is the range of values above and below the point estimate of a population parameter that is likely to contain the true population parameter with a certain level of confidence. It is calculated as half the width of the confidence interval. In other words, it represents the amount of uncertainty or error in our estimation of the population parameter based on the sample data.\n",
    "\n",
    "Sample size affects the margin of error in a confidence interval. The larger the sample size, the smaller the margin of error because a larger sample size tends to produce a more precise estimate of the population parameter. This is because larger sample sizes reduce sampling error, which is the variability in sample estimates due to random sampling. Therefore, a larger sample size increases the accuracy of the estimate and reduces the amount of error or uncertainty in the estimation.\n",
    "\n",
    "For example, suppose we want to estimate the mean weight of all students in a university. A small sample size of 10 students may result in a sample mean of 160 pounds with a margin of error of 15 pounds at a 95% confidence level. However, if we increase the sample size to 100 students, the margin of error will decrease to 5 pounds at the same confidence level. This is because the larger sample size provides a more accurate estimate of the population mean and reduces the error in the estimation."
   ]
  },
  {
   "attachments": {},
   "cell_type": "markdown",
   "metadata": {},
   "source": [
    "### Que - 9 : Calculate the z-score for a data point with a value of 75, a population mean of 70, and a population standard deviation of 5. Interpret the results."
   ]
  },
  {
   "attachments": {},
   "cell_type": "markdown",
   "metadata": {},
   "source": [
    "To calculate the z-score for a data point with a value of 75, a population mean of 70, and a population standard deviation of 5, we can use the formula:\n",
    "\n",
    "z = (x - μ) / σ\n",
    "\n",
    "where:\n",
    "\n",
    "x is the data point value (75)\n",
    "μ is the population mean (70)\n",
    "σ is the population standard deviation (5)\n",
    "Plugging in the values, we get:\n",
    "\n",
    "z = (75 - 70) / 5 = 1\n",
    "\n",
    "Interpretation: A z-score of 1 means that the data point is one standard deviation above the population mean. In this case, the data point of 75 is one standard deviation above the population mean of 70. We can also use the standard normal distribution table to find the probability associated with this z-score, which is approximately 0.84 or 84%. This means that approximately 84% of the data values in the population are below 75."
   ]
  },
  {
   "attachments": {},
   "cell_type": "markdown",
   "metadata": {},
   "source": [
    "### Que - 10 : In a study of the effectiveness of a new weight loss drug, a sample of 50 participants lost an average of 6 pounds with a standard deviation of 2.5 pounds. Conduct a hypothesis test to determine if the drug is significantly effective at a 95% confidence level using a t-test."
   ]
  },
  {
   "attachments": {},
   "cell_type": "markdown",
   "metadata": {},
   "source": [
    "To conduct a hypothesis test to determine if the new weight loss drug is significantly effective at a 95% confidence level using a t-test, we can follow the following steps:\n",
    "\n",
    "Step 1: State the null and alternative hypotheses:\n",
    "\n",
    "Null hypothesis (H0): The mean weight loss for the population is equal to or less than 5 pounds (μ ≤ 5).\n",
    "Alternative hypothesis (Ha): The mean weight loss for the population is greater than 5 pounds (μ > 5).\n",
    "Step 2: Set the level of significance (α) to 0.05.\n",
    "\n",
    "Step 3: Calculate the t-statistic using the formula:\n",
    "\n",
    "t = (x̄ - μ) / (s / √n)\n",
    "\n",
    "where:\n",
    "\n",
    "x̄ is the sample mean weight loss (6)\n",
    "μ is the hypothesized population mean weight loss under the null hypothesis (5)\n",
    "s is the sample standard deviation (2.5)\n",
    "n is the sample size (50)\n",
    "Plugging in the values, we get:\n",
    "\n",
    "t = (6 - 5) / (2.5 / √50) = 5.03\n",
    "\n",
    "Step 4: Determine the critical value for a one-tailed t-test with 49 degrees of freedom at a 95% confidence level using a t-table or a statistical software. For a one-tailed test with a significance level of 0.05 and 49 degrees of freedom, the critical value is approximately 1.677.\n",
    "\n",
    "Step 5: Compare the calculated t-statistic to the critical value. If the calculated t-statistic is greater than the critical value, reject the null hypothesis; otherwise, fail to reject the null hypothesis.\n",
    "\n",
    "In this case, the calculated t-statistic of 5.03 is greater than the critical value of 1.677. Therefore, we reject the null hypothesis."
   ]
  },
  {
   "attachments": {},
   "cell_type": "markdown",
   "metadata": {},
   "source": [
    "### Que - 11 : In a survey of 500 people, 65% reported being satisfied with their current job. Calculate the 95% confidence interval for the true proportion of people who are satisfied with their job."
   ]
  },
  {
   "attachments": {},
   "cell_type": "markdown",
   "metadata": {},
   "source": [
    "To calculate the 95% confidence interval for the true proportion of people who are satisfied with their job, we can use the formula:\n",
    "\n",
    "CI = p̂ ± Zα/2 * sqrt(p̂(1-p̂)/n)\n",
    "\n",
    "where:\n",
    "\n",
    "p̂ is the sample proportion\n",
    "n is the sample size\n",
    "Zα/2 is the critical value from the standard normal distribution for the desired level of confidence α/2 (α = 1 - confidence level)\n",
    "Substituting the given values, we get:\n",
    "\n",
    "CI = 0.65 ± Zα/2 * sqrt(0.65(1-0.65)/500)\n",
    "\n",
    "Since the confidence level is 95%, α/2 = 0.025, and the corresponding critical value from the standard normal distribution is 1.96.\n",
    "\n",
    "Substituting this value, we get:\n",
    "\n",
    "CI = 0.65 ± 1.96 * sqrt(0.65(1-0.65)/500)\n",
    "\n",
    "Simplifying this expression, we get:\n",
    "\n",
    "CI = 0.65 ± 0.040\n",
    "\n",
    "Therefore, the 95% confidence interval for the true proportion of people who are satisfied with their job is (0.61, 0.69). We can interpret this as: we are 95% confident that the true proportion of people who are satisfied with their job lies between 0.61 and 0.69."
   ]
  },
  {
   "attachments": {},
   "cell_type": "markdown",
   "metadata": {},
   "source": [
    "### Que - 12 : A researcher is testing the effectiveness of two different teaching methods on student performance. Sample A has a mean score of 85 with a standard deviation of 6, while sample B has a mean score of 82 with a standard deviation of 5. Conduct a hypothesis test to determine if the two teaching methods have a significant difference in student performance using a t-test with a significance level of 0.01."
   ]
  },
  {
   "cell_type": "markdown",
   "metadata": {},
   "source": [
    "To test the hypothesis that the two teaching methods have a significant difference in student performance, we can use a two-sample t-test. The null hypothesis is that the means of the two samples are equal, while the alternative hypothesis is that the means are not equal.\n",
    "\n",
    "Let's denote sample A as group 1 and sample B as group 2. Then, the hypotheses can be stated as:\n",
    "\n",
    "H0: µ1 = µ2 (the means of group 1 and group 2 are equal)\n",
    "Ha: µ1 ≠ µ2 (the means of group 1 and group 2 are not equal)\n",
    "\n",
    "We can use a significance level of 0.01, which corresponds to a 99% confidence level.\n",
    "\n",
    "First, let's calculate the pooled standard deviation, which is a weighted average of the two sample standard deviations:\n",
    "\n",
    "sp = sqrt(((n1-1)*s1^2 + (n2-1)*s2^2)/(n1+n2-2))\n",
    "\n",
    "where:\n",
    "\n",
    "n1 = sample size of group 1\n",
    "n2 = sample size of group 2\n",
    "s1 = sample standard deviation of group 1\n",
    "s2 = sample standard deviation of group 2\n",
    "Substituting the given values, we get:\n",
    "\n",
    "sp = sqrt(((24)*6^2 + (19)*5^2)/(24+19-2)) = 5.56\n",
    "\n",
    "Next, we can calculate the t-statistic using the formula:\n",
    "\n",
    "t = (x̄1 - x̄2) / (sp * sqrt(1/n1 + 1/n2))\n",
    "\n",
    "where:\n",
    "\n",
    "x̄1 = sample mean of group 1\n",
    "x̄2 = sample mean of group 2\n",
    "Substituting the given values, we get:\n",
    "\n",
    "t = (85 - 82) / (5.56 * sqrt(1/24 + 1/19)) = 2.90\n",
    "\n",
    "Using a t-distribution table with degrees of freedom df = n1 + n2 - 2 = 43 and a significance level of 0.01, the critical values are ±2.704.\n",
    "\n",
    "Since the calculated t-statistic (2.90) is greater than the critical value (2.704), we reject the null hypothesis and conclude that there is a significant difference between the two teaching methods in terms of student performance.\n",
    "\n",
    "Therefore, we can infer that one teaching method is more effective than the other."
   ]
  },
  {
   "attachments": {},
   "cell_type": "markdown",
   "metadata": {},
   "source": [
    "### Que - 13 : A population has a mean of 60 and a standard deviation of 8. A sample of 50 observations has a mean of 65. Calculate the 90% confidence interval for the true population mean."
   ]
  },
  {
   "cell_type": "markdown",
   "metadata": {},
   "source": [
    "To calculate the 90% confidence interval for the true population mean, we can use the formula:\n",
    "\n",
    "CI = X̄ ± Zα/2 * (σ/√n)\n",
    "\n",
    "where:\n",
    "\n",
    "X̄ is the sample mean\n",
    "σ is the population standard deviation\n",
    "n is the sample size\n",
    "Zα/2 is the critical value from the standard normal distribution for the desired level of confidence α/2 (α = 1 - confidence level)\n",
    "Substituting the given values, we get:\n",
    "\n",
    "CI = 65 ± Zα/2 * (8/√50)\n",
    "\n",
    "Since the confidence level is 90%, α/2 = 0.05, and the corresponding critical value from the standard normal distribution is 1.645.\n",
    "\n",
    "Substituting this value, we get:\n",
    "\n",
    "CI = 65 ± 1.645 * (8/√50)\n",
    "\n",
    "Simplifying this expression, we get:\n",
    "\n",
    "CI = 65 ± 2.29\n",
    "\n",
    "Therefore, the 90% confidence interval for the true population mean is (62.71, 67.29)."
   ]
  },
  {
   "attachments": {},
   "cell_type": "markdown",
   "metadata": {},
   "source": [
    "### Que - 14 : In a study of the effects of caffeine on reaction time, a sample of 30 participants had an average reaction time of 0.25 seconds with a standard deviation of 0.05 seconds. Conduct a hypothesis test to determine if the caffeine has a significant effect on reaction time at a 90% confidence level using a t-test."
   ]
  },
  {
   "attachments": {},
   "cell_type": "markdown",
   "metadata": {},
   "source": [
    "To conduct the hypothesis test, we need to set up the null and alternative hypotheses:\n",
    "\n",
    "Null hypothesis: Caffeine does not have a significant effect on reaction time.\n",
    "Alternative hypothesis: Caffeine has a significant effect on reaction time.\n",
    "We will use a two-tailed t-test, since we want to test if the mean reaction time is significantly different from the hypothesized value of 0.25 seconds.\n",
    "\n",
    "The t-statistic is given by:\n",
    "\n",
    "t = (x̄ - μ) / (s / √n)\n",
    "\n",
    "where x̄ is the sample mean, μ is the hypothesized population mean, s is the sample standard deviation, and n is the sample size.\n",
    "\n",
    "Using a 90% confidence level, the critical t-value with 29 degrees of freedom (df = n-1) is ±1.699.\n",
    "\n",
    "Calculating the t-statistic:\n",
    "\n",
    "t = (0.25 - μ) / (0.05 / √30)\n",
    "\n",
    "To determine the rejection region for the null hypothesis, we need to compare the calculated t-value with the critical t-value. If the calculated t-value falls outside the rejection region, we reject the null hypothesis in favor of the alternative hypothesis.\n",
    "\n",
    "If we assume that the null hypothesis is true (i.e., caffeine has no effect on reaction time), the probability of obtaining a sample mean of 0.25 or higher is given by the t-distribution with 29 degrees of freedom. This probability is also known as the p-value.\n",
    "\n",
    "Calculating the p-value:\n",
    "\n",
    "p-value = P(t > |t-calc|) + P(t < -|t-calc|)\n",
    "\n",
    "where t-calc is the calculated t-value and P is the probability function of the t-distribution with 29 degrees of freedom.\n",
    "\n",
    "If the p-value is less than the significance level (α) of 0.1 (corresponding to a 90% confidence level), we reject the null hypothesis in favor of the alternative hypothesis.\n",
    "\n",
    "Let's assume that we want to test the hypothesis that caffeine has a significant effect on reaction time, using a two-tailed t-test with a significance level of 0.1.\n",
    "\n",
    "Calculating the t-statistic:\n",
    "\n",
    "t = (0.25 - μ) / (0.05 / √30) = (0.25 - μ) / 0.0091\n",
    "\n",
    "Assuming the null hypothesis is true, we can set μ = 0.25:\n",
    "\n",
    "t = (0.25 - 0.25) / 0.0091 = 0\n",
    "\n",
    "The calculated t-value is zero, which falls within the acceptance region. Therefore, we cannot reject the null hypothesis and conclude that there is insufficient evidence to suggest that caffeine has a significant effect on reaction time at a 90% confidence level."
   ]
  }
 ],
 "metadata": {
  "kernelspec": {
   "display_name": "Python 3 (ipykernel)",
   "language": "python",
   "name": "python3"
  },
  "language_info": {
   "codemirror_mode": {
    "name": "ipython",
    "version": 3
   },
   "file_extension": ".py",
   "mimetype": "text/x-python",
   "name": "python",
   "nbconvert_exporter": "python",
   "pygments_lexer": "ipython3",
   "version": "3.9.12"
  },
  "vscode": {
   "interpreter": {
    "hash": "72b2382ece9768098284d92bbc69d35954e75b60d1e25897d1389c232f4796f0"
   }
  }
 },
 "nbformat": 4,
 "nbformat_minor": 4
}
