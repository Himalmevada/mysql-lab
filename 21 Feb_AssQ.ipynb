{
 "cells": [
  {
   "cell_type": "markdown",
   "id": "eb1d1222",
   "metadata": {},
   "source": [
    "### Ans - 1"
   ]
  },
  {
   "attachments": {},
   "cell_type": "markdown",
   "id": "32c9aba4-f411-47f1-8938-eec9668017d1",
   "metadata": {},
   "source": [
    "#### Web script, a computer programming language for adding dynamic capabilities to World Wide Web pages. Web pages marked up with HTML (hypertext markup language) or XML (extensible markup language) are largely static documents. To get data from that html web pages we scrap the website.\n",
    "#### Scripting is primarily used to automate tasks for websites and web applications while using an existing program. It is useful for extracting information from a dataset. Computer programmers, software developers, as well as front-end and back-end developers, use scripting skills in their careers.\n",
    "#### 1. ECommerce\n",
    "#### 2. Real Estate\n",
    "#### 3. Sports Analysis"
   ]
  },
  {
   "attachments": {},
   "cell_type": "markdown",
   "id": "2d5ebcc6",
   "metadata": {},
   "source": [
    "### Ans - 2"
   ]
  },
  {
   "attachments": {},
   "cell_type": "markdown",
   "id": "eda8c1d2",
   "metadata": {},
   "source": [
    "#### requests - get(), read()\n",
    "#### beautifulsoup - find(), find_all(), bs[tag_name]\n",
    "#### urllib - urlopen()"
   ]
  },
  {
   "cell_type": "markdown",
   "id": "56f8e77e",
   "metadata": {},
   "source": [
    "### Ans - 3"
   ]
  },
  {
   "attachments": {},
   "cell_type": "markdown",
   "id": "d86277f1",
   "metadata": {},
   "source": [
    "#### Beautiful Soup is a Python package for parsing HTML and XML documents (including having malformed markup, i.e. non-closed tags, so named after tag soup). It creates a parse tree for parsed pages that can be used to extract data from HTML, which is useful for web scraping."
   ]
  },
  {
   "attachments": {},
   "cell_type": "markdown",
   "id": "c5b7a5c2",
   "metadata": {},
   "source": [
    "### Ans - 4"
   ]
  },
  {
   "attachments": {},
   "cell_type": "markdown",
   "id": "1805e461",
   "metadata": {},
   "source": [
    "#### Flask is used for developing web applications using python and it is light weight framework.\n",
    "#### We use flask which is framework based on python and python has vast collection of libraries and among that libraries we use request, beautifulsoup and urllib to make our work easy.\n",
    "#### In addition, flask also provide bulit in development server and a fast debugger.\n",
    "#### Another thing is that flask use some method like @app.route() which basically bind our url with business logics and render_templates() method will render web pages."
   ]
  },
  {
   "attachments": {},
   "cell_type": "markdown",
   "id": "1e500cdb",
   "metadata": {},
   "source": [
    "### Ans - 5"
   ]
  },
  {
   "attachments": {},
   "cell_type": "markdown",
   "id": "b1ee4456",
   "metadata": {},
   "source": [
    "#### Elastic Beanstalk : This services is easy to use or deploying and scaling application with java, .net, nodejs, python and many more.\n",
    "#### It automatically manage all the services needed to host and scale your application.\n",
    "#### We can migrate our application by uploading source code to elastic beanstalk using management console and CLI.\n",
    "#### It gives URL of our application and manage load balancing, auto scaling and health monitoring.\n",
    "#### We can even create a distributed application.\n",
    "#### There is no additional charge to use elastic beanstalk.\n",
    "#### We can also create API, backend system, website, SASS, content management system.\n",
    "\n",
    "#### Codepipeline : This is a fully managed continuous delivery service that helps you automate your release pipelines for fast and reliable application and infrastructure updates. \n",
    "#### Our code updates are automatically builds, tested and made ready to deploy. \n",
    "#### We can create out pipeline using different stages such as how our code will build, test and deployed.\n",
    "#### Any changes we done in our source code automatically send, scan , test and deployed.\n",
    "#### I can automatically stops whenever an action fails. \n",
    "#### We can customize our pipeline based on our need and it allows different services within this pipeline."
   ]
  }
 ],
 "metadata": {
  "kernelspec": {
   "display_name": "Python 3 (ipykernel)",
   "language": "python",
   "name": "python3"
  },
  "language_info": {
   "codemirror_mode": {
    "name": "ipython",
    "version": 3
   },
   "file_extension": ".py",
   "mimetype": "text/x-python",
   "name": "python",
   "nbconvert_exporter": "python",
   "pygments_lexer": "ipython3",
   "version": "3.10.4"
  },
  "vscode": {
   "interpreter": {
    "hash": "b1cc2f36871d7e6eb33d73c9431d7dc5cd9cdf88734d533b7fc5e72b44fa56ec"
   }
  }
 },
 "nbformat": 4,
 "nbformat_minor": 5
}
