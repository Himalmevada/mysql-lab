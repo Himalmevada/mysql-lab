{
 "cells": [
  {
   "cell_type": "markdown",
   "metadata": {},
   "source": [
    "### Que - 1 :  Explain the assumptions required to use ANOVA and provide examples of violations that could impact the validation of the results."
   ]
  },
  {
   "cell_type": "markdown",
   "metadata": {},
   "source": [
    "1. The distribution of sample mean is normally distributed.\n",
    "2. All the outliers need to be removed from the dataset.\n",
    "3. Population variance in different levels of each independent variables are equal.\n",
    "4. Samples are independent and random."
   ]
  },
  {
   "cell_type": "markdown",
   "metadata": {},
   "source": [
    "### Que - 2 :  What are the three types of ANOVA, and in what situations would each be used?"
   ]
  },
  {
   "cell_type": "markdown",
   "metadata": {},
   "source": [
    "### There are three types of anova : \n",
    "#### 1. One Way Anova\n",
    "#### 2. Two-Way Anova\n",
    "#### 3. MANOVA (Multivariate Analysis of Variance)\n",
    "\n",
    "### 1. One Way Anova :\n",
    "#### One-Way ANOVA is used when we have one categorical independent variable (also called a factor) and one continuous dependent variable. It is used to determine if there are any significant differences in the means of the dependent variable across the different levels of the independent variable. For example, we may use One-Way ANOVA to determine if there are significant differences in the test scores of students from different schools.\n",
    "\n",
    "### 2. Two-Way ANOVA : \n",
    "#### Two-Way ANOVA is used when we have two categorical independent variables and one continuous dependent variable. It is used to determine if there are any significant main effects of each independent variable and if there is any interaction effect between the two independent variables on the dependent variable. For example, we may use Two-Way ANOVA to analyze the effects of two different factors (e.g., gender and age group) on a health-related outcome.\n",
    "\n",
    "### 3. MANOVA (Multivariate Analysis of Variance) :\n",
    "#### MANOVA is used when we have two or more continuous dependent variables and one or more categorical independent variables. It is an extension of ANOVA that allows us to analyze the effects of the independent variables on multiple dependent variables simultaneously. MANOVA is used when we want to determine if there are any significant differences in the mean vectors of the dependent variables across the different levels of the independent variables. For example, we may use MANOVA to analyze the effects of different treatments on multiple physiological measures."
   ]
  },
  {
   "cell_type": "markdown",
   "metadata": {},
   "source": [
    "### Que - 3 :  What is the partitioning of variance in ANOVA, and why is it important to understand this concept?"
   ]
  },
  {
   "cell_type": "markdown",
   "metadata": {},
   "source": [
    "The partitioning of variance in ANOVA refers to the process of decomposing the total variance observed in the data into different components associated with various sources of variation. These sources of variation include the treatment effects, error or residual variation, and potentially other factors such as interactions.\n",
    "\n",
    "The partitioning of variance is crucial in ANOVA because it helps in understanding the relative contributions of different sources of variation to the total variation in the data. By quantifying the amount of variation attributable to each source, we can determine the significance of the treatment effects and assess the overall model fit.\n",
    "\n",
    "Understanding the partitioning of variance is important for several reasons:\n",
    "\n",
    "Hypothesis Testing: ANOVA tests the null hypothesis that there are no significant differences among the group means. The partitioning of variance provides information on the variability between groups (treatment effects) and within groups (random error). By comparing these variances, ANOVA determines if the observed differences between groups are statistically significant.\n",
    "\n",
    "Assessing Treatment Effects: By examining the variation explained by the treatment effects, we can determine the extent to which the independent variables (factors or treatments) influence the dependent variable. This helps in evaluating the effectiveness of different treatments or experimental conditions.\n",
    "\n",
    "Model Evaluation: The partitioning of variance allows for evaluating the overall fit of the ANOVA model. If the treatment effects explain a significant portion of the variance compared to the residual error, it suggests that the model adequately captures the relationship between the independent and dependent variables.\n",
    "\n",
    "Determining Effect Sizes: ANOVA allows for the calculation of effect sizes, which quantify the magnitude of the treatment effects. Effect sizes provide a standardized measure of the practical significance of the observed differences between groups.\n",
    "\n",
    "Future Research and Interpretation: Understanding the partitioning of variance can guide future research by identifying factors or sources of variation that contribute significantly to the outcomes. It also helps in interpreting the results by providing insights into the relative importance of different factors in explaining the observed variability."
   ]
  },
  {
   "cell_type": "markdown",
   "metadata": {
    "tags": []
   },
   "source": [
    "### Que - 4 : How would you calculate the total sum of squares (SST), explained sum of squares (SSE), and residual sum of squares (SSE), and residual sum of squares (SSR) in a one-way ANOVA using Python?"
   ]
  },
  {
   "cell_type": "code",
   "execution_count": 2,
   "metadata": {},
   "outputs": [
    {
     "name": "stdout",
     "output_type": "stream",
     "text": [
      "Total Sum of Squares (SST): 60.00\n",
      "Explained Sum of Squares (SSE): 54.00\n",
      "Residual Sum of Squares (SSR): 6.00\n"
     ]
    }
   ],
   "source": [
    "import scipy.stats as stats\n",
    "import numpy as np\n",
    "\n",
    "def one_way_anova_sums_of_squares(data):\n",
    "    # Calculate the overall mean\n",
    "    overall_mean = np.mean(data)\n",
    "\n",
    "    # Calculate the total sum of squares (SST)\n",
    "    sst = np.sum((data - overall_mean) ** 2)\n",
    "\n",
    "    # Calculate the group means\n",
    "    group_means = [np.mean(group) for group in data]\n",
    "\n",
    "    # Calculate the explained sum of squares (SSE)\n",
    "    sse = np.sum([len(group) * (group_mean - overall_mean) ** 2 for group, group_mean in zip(data, group_means)])\n",
    "\n",
    "    # Calculate the residual sum of squares (SSR)\n",
    "    ssr = sst - sse\n",
    "\n",
    "    return sst, sse, ssr\n",
    "\n",
    "# Example usage\n",
    "data = [\n",
    "    [1, 2, 3],\n",
    "    [4, 5, 6],\n",
    "    [7, 8, 9]\n",
    "]\n",
    "\n",
    "sst, sse, ssr = one_way_anova_sums_of_squares(data)\n",
    "print(f\"Total Sum of Squares (SST): {sst:.2f}\")\n",
    "print(f\"Explained Sum of Squares (SSE): {sse:.2f}\")\n",
    "print(f\"Residual Sum of Squares (SSR): {ssr:.2f}\")\n"
   ]
  },
  {
   "cell_type": "markdown",
   "metadata": {},
   "source": [
    "### Que - 5 :  In a two-way ANOVA, how would you calculate the main effects and interaction effects using Python?"
   ]
  },
  {
   "cell_type": "code",
   "execution_count": 4,
   "metadata": {},
   "outputs": [
    {
     "name": "stdout",
     "output_type": "stream",
     "text": [
      "Main Effect A: 53.16\n",
      "Main Effect B: 53.16\n",
      "Interaction Effect: 0.01\n"
     ]
    }
   ],
   "source": [
    "import statsmodels.api as sm\n",
    "from statsmodels.formula.api import ols\n",
    "import pandas as pd\n",
    "\n",
    "# Create a DataFrame with the data\n",
    "data = {\n",
    "    'A': [1, 2, 3, 4, 5, 6],\n",
    "    'B': [2, 4, 6, 8, 10, 12],\n",
    "    'Y': [10, 15, 20, 12, 18, 22]\n",
    "}\n",
    "df = pd.DataFrame(data)\n",
    "\n",
    "# Fit the two-way ANOVA model\n",
    "model = ols('Y ~ A + B + A:B', data=df).fit()\n",
    "anova_table = sm.stats.anova_lm(model, typ=2)\n",
    "\n",
    "# Extract the main effects and interaction effects\n",
    "main_effect_a = anova_table.loc['A', 'sum_sq']\n",
    "main_effect_b = anova_table.loc['B', 'sum_sq']\n",
    "interaction_effect = anova_table.loc['A:B', 'sum_sq']\n",
    "\n",
    "# Print the main effects and interaction effect\n",
    "print(f\"Main Effect A: {main_effect_a:.2f}\")\n",
    "print(f\"Main Effect B: {main_effect_b:.2f}\")\n",
    "print(f\"Interaction Effect: {interaction_effect:.2f}\")\n"
   ]
  },
  {
   "cell_type": "markdown",
   "metadata": {},
   "source": [
    "### Que - 6 : Suppose you conducted a one-way ANOVA and obtained an F-statistic of 5.23 and a p-value of 0.02. What can you conclude about the differences between the groups, and how would you interpret these results?"
   ]
  },
  {
   "cell_type": "markdown",
   "metadata": {},
   "source": [
    "Based on the results of the one-way ANOVA with an F-statistic of 5.23 and a p-value of 0.02, we can draw the following conclusions and interpretations:\n",
    "\n",
    "1. Concluding the Differences between Groups: \n",
    "   The obtained p-value (0.02) is less than the significance level of 0.05, indicating that there is sufficient evidence to reject the null hypothesis. Therefore, we can conclude that there are statistically significant differences between the groups.\n",
    "\n",
    "2. Interpreting the Results:\n",
    "   - F-Statistic: The F-statistic of 5.23 indicates the ratio of the variability between the groups' means to the variability within the groups. A larger F-statistic suggests a larger difference between group means relative to the variation within the groups.\n",
    "   - P-value: The p-value of 0.02 indicates the probability of observing the obtained F-statistic (or a more extreme value) assuming that the null hypothesis is true. A p-value of 0.02 indicates that there is only a 2% chance of observing such a large F-statistic if there were no real differences between the groups.\n",
    "\n",
    "   Therefore, with a statistically significant F-statistic and a low p-value, we can conclude that there are significant differences between the groups. However, it is important to note that the one-way ANOVA does not provide specific information about which specific groups differ from one another. To identify which group means differ significantly, post-hoc tests (such as Tukey's HSD, Bonferroni, or LSD tests) or pairwise comparisons can be conducted.\n",
    "\n",
    "   Additionally, the effect size and the magnitude of the differences between groups should be considered for practical significance. Effect sizes like eta-squared or omega-squared can provide information about the proportion of variance explained by the group differences.\n",
    "\n",
    "In summary, based on an F-statistic of 5.23 and a p-value of 0.02, we conclude that there are statistically significant differences between the groups. Further analysis is needed to determine which specific group means differ significantly from each other, and additional consideration should be given to effect sizes and practical significance."
   ]
  },
  {
   "cell_type": "markdown",
   "metadata": {},
   "source": [
    "### Que - 7 : In a repeated measures ANOVA, how would you handle missing data, and what are the potential consequences of using different methods to handle missing data?"
   ]
  },
  {
   "cell_type": "markdown",
   "metadata": {},
   "source": [
    "Handling missing data in a repeated measures ANOVA is an important consideration. Here are some common approaches to handle missing data in a repeated measures ANOVA and the potential consequences of using different methods:\n",
    "\n",
    "Complete Case Analysis (Listwise Deletion):\n",
    "This approach involves excluding any participant or case with missing data from the analysis. Only complete cases (participants with data for all time points or conditions) are used for the analysis. The main advantage is its simplicity, but it can result in reduced sample size and potential bias if the missing data mechanism is not completely random.\n",
    "\n",
    "Pairwise Deletion:\n",
    "Pairwise deletion involves using all available data for each pair of time points or conditions. This means that participants with missing data for specific time points or conditions are still included in the analysis for the remaining time points or conditions. This approach retains more data but can result in different sample sizes for different comparisons, potentially leading to biased estimates of the variances and degrees of freedom.\n",
    "\n",
    "Mean Substitution:\n",
    "Mean substitution involves replacing missing values with the mean of the available data for that variable or condition. This method preserves the sample size and can provide unbiased estimates of the means if the missing data mechanism is missing completely at random (MCAR). However, it can underestimate the variability and inflate the Type I error rate if the missing data mechanism is not MCAR.\n",
    "\n",
    "Multiple Imputation:\n",
    "Multiple imputation involves estimating the missing values multiple times based on a model that accounts for the observed data. The missing values are imputed multiple times, creating multiple complete datasets. Each complete dataset is then analyzed separately, and the results are combined to obtain an overall estimate. Multiple imputation can provide more accurate estimates and standard errors if the imputation model is appropriate. However, it requires additional computational efforts and assumptions about the missing data mechanism."
   ]
  },
  {
   "cell_type": "markdown",
   "metadata": {},
   "source": [
    "### Que - 8 : What are some common post-hoc tests used after ANOVA, and when would you use each one? Provide an example of a situation where a post-hoc test might be necessary."
   ]
  },
  {
   "cell_type": "markdown",
   "metadata": {},
   "source": [
    "After conducting an ANOVA and finding a significant main effect or interaction effect, post-hoc tests are often performed to identify specific pairwise differences between groups. Here are some common post-hoc tests used after ANOVA and when to use each one:\n",
    "\n",
    "1. Tukey's Honestly Significant Difference (HSD) Test:\n",
    "   Tukey's HSD test is widely used when the number of pairwise comparisons is relatively large. It controls the familywise error rate, allowing for simultaneous comparisons between all pairs of groups. Tukey's HSD is appropriate when you want to determine which specific pairs of group means are significantly different from each other.\n",
    "\n",
    "2. Bonferroni Correction:\n",
    "   The Bonferroni correction is a conservative method that adjusts the significance level (alpha) for each comparison to control the familywise error rate. It is useful when you have a small number of specific comparisons to make and want to maintain a more stringent control over Type I error.\n",
    "\n",
    "3. Fisher's Least Significant Difference (LSD) Test:\n",
    "   Fisher's LSD test is another post-hoc test that can be used when the number of pairwise comparisons is small. It compares the means of each pair of groups while controlling the familywise error rate. Fisher's LSD is appropriate when you have a specific set of pairwise comparisons in mind and want to determine if those particular pairs differ significantly.\n",
    "\n",
    "4. Sidak Correction:\n",
    "   The Sidak correction is similar to the Bonferroni correction, but it provides a less conservative adjustment to the significance level. It is suitable when you have a moderate number of pairwise comparisons and want to control the familywise error rate with less stringency than the Bonferroni correction.\n",
    "\n",
    "5. Dunnett's Test:\n",
    "   Dunnett's test is used when you have a control group and want to compare each treatment group to the control group. It adjusts the significance level to account for multiple comparisons while controlling the familywise error rate.\n",
    "\n",
    "6. Scheffe's Test:\n",
    "   Scheffe's test is a conservative post-hoc test that allows for comparisons of all possible group means while controlling the familywise error rate. It is appropriate when you have a small sample size, unequal variances, and want to make all pairwise comparisons.\n",
    "\n",
    "Example:\n",
    "Suppose you conduct an experiment to compare the effectiveness of three different treatments (Treatment A, Treatment B, and Treatment C) in reducing pain levels. After conducting an ANOVA, you find a significant main effect of treatment. To determine which specific treatments differ significantly from each other, you would perform a post-hoc test.\n",
    "\n",
    "In this scenario, you could use Tukey's HSD test to compare all possible pairs of treatment means. Tukey's HSD would allow you to determine if there are significant differences between Treatment A and Treatment B, Treatment A and Treatment C, and Treatment B and Treatment C.\n",
    "\n",
    "Using a post-hoc test in this situation would provide more detailed information about the specific treatment comparisons, helping you understand which treatments show statistically significant differences in pain reduction."
   ]
  },
  {
   "cell_type": "markdown",
   "metadata": {},
   "source": [
    "### Que - 9 : A researcher wants to compare the mean weight loss of three diets: A, B, and C. They collect data from 50 participants who were randomly assigned to one of the diets. Conduct a one-way ANOVA using Python to determine if there are any significant differences between the mean weight loss of the three diets.Report the F-statistic and p-value, and interpret the results."
   ]
  },
  {
   "cell_type": "code",
   "execution_count": 11,
   "metadata": {},
   "outputs": [
    {
     "name": "stdout",
     "output_type": "stream",
     "text": [
      "F-statistic: 38.73\n",
      "p-value: 0.0000\n"
     ]
    }
   ],
   "source": [
    "import scipy.stats as stats\n",
    "import numpy as np\n",
    "\n",
    "# Weight loss data for each diet\n",
    "diet_A = [2, 4, 6, 3, 5, 7, 4, 3, 6, 5,\n",
    "          2, 4, 6, 3, 5, 7, 4, 3, 6, 5,\n",
    "          2, 4, 6, 3, 5, 7, 4, 3, 6, 5,\n",
    "          2, 4, 6, 3, 5, 7, 4, 3, 6, 5,\n",
    "          2, 4, 6, 3, 5, 7, 4, 3, 6, 5]\n",
    "diet_B = [1, 3, 5, 2, 4, 6, 3, 2, 5, 4,\n",
    "          1, 3, 5, 2, 4, 6, 3, 2, 5, 4,\n",
    "          1, 3, 5, 2, 4, 6, 3, 2, 5, 4,\n",
    "          1, 3, 5, 2, 4, 6, 3, 2, 5, 4,\n",
    "          1, 3, 5, 2, 4, 6, 3, 2, 5, 4]\n",
    "diet_C = [3, 6, 9, 4, 8, 12, 6, 4, 9, 8,\n",
    "          3, 6, 9, 4, 8, 12, 6, 4, 9, 8,\n",
    "          3, 6, 9, 4, 8, 12, 6, 4, 9, 8,\n",
    "          3, 6, 9, 4, 8, 12, 6, 4, 9, 8,\n",
    "          3, 6, 9, 4, 8, 12, 6, 4, 9, 8]\n",
    "\n",
    "# Combine the data into a single array\n",
    "data = np.concatenate((diet_A, diet_B, diet_C))\n",
    "\n",
    "# Perform one-way ANOVA\n",
    "f_statistic, p_value = stats.f_oneway(diet_A, diet_B, diet_C)\n",
    "\n",
    "# Print the results\n",
    "print(f\"F-statistic: {f_statistic:.2f}\")\n",
    "print(f\"p-value: {p_value:.4f}\")"
   ]
  },
  {
   "cell_type": "markdown",
   "metadata": {},
   "source": [
    "### Que - 10 : A company wants to know if there are any significant differences in the average time it takes to complete a task using three different software programs: Program A, Program B, and Program C. They randomly assign 30 employees to one of the programs and record the time it takes each employee to complete the task. Conduct a two-way ANOVA using Python to determine if there are any main effects or interaction effects between the software programs and employee experience level (novice vs. experienced). Report the F-statistics and p-values, and interpret the results."
   ]
  },
  {
   "cell_type": "code",
   "execution_count": 12,
   "metadata": {},
   "outputs": [
    {
     "name": "stdout",
     "output_type": "stream",
     "text": [
      "F-statistic Program: 27.14, p-value: 0.0000\n",
      "F-statistic Experience: 22.25, p-value: 0.0000\n",
      "F-statistic Interaction: 3.86, p-value: 0.0230\n"
     ]
    }
   ],
   "source": [
    "import statsmodels.api as sm\n",
    "from statsmodels.formula.api import ols\n",
    "\n",
    "# Time data for each combination of software program and employee experience level\n",
    "program_a_novice = [10, 12, 15, 11, 14, 13, 16, 15, 12, 11, 13, 14, 12, 15, 11, 13, 15, 14, 12, 10, 13, 14, 11, 12, 15, 14, 16, 13, 15, 11]\n",
    "program_a_experienced = [9, 11, 13, 10, 12, 11, 14, 13, 10, 9, 12, 10, 11, 12, 10, 9, 12, 11, 10, 9, 11, 12, 9, 10, 13, 12, 14, 11, 13, 10]\n",
    "program_b_novice = [11, 14, 13, 12, 15, 13, 16, 14, 13, 12, 14, 13, 12, 15, 11, 12, 14, 15, 13, 11, 14, 15, 12, 13, 16, 14, 17, 13, 15, 12]\n",
    "program_b_experienced = [10, 12, 13, 11, 14, 12, 15, 13, 11, 10, 13, 11, 12, 13, 10, 11, 13, 14, 12, 10, 13, 14, 11, 12, 15, 13, 16, 12, 14, 11]\n",
    "program_c_novice = [13, 15, 14, 12, 16, 14, 17, 15, 14, 12, 15, 13, 13, 16, 12, 13, 15, 16, 14, 12, 15, 16, 13, 14, 17, 15, 18, 14, 16, 13]\n",
    "program_c_experienced = [12, 14, 15, 13, 16, 14, 17, 15, 13, 12, 15, 13, 14, 15, 12, 13, 15, 16, 13, 12, 15, 16, 12, 13, 16, 14, 17, 13, 15, 12]\n",
    "\n",
    "# Create a DataFrame with the data\n",
    "import pandas as pd\n",
    "\n",
    "df = pd.DataFrame({\n",
    "    'Time': program_a_novice + program_a_experienced + program_b_novice + program_b_experienced + program_c_novice + program_c_experienced,\n",
    "    'Program': ['A'] * 60 + ['B'] * 60 + ['C'] * 60,\n",
    "    'Experience': ['Novice'] * 30 + ['Experienced'] * 30 + ['Novice'] * 30 + ['Experienced'] * 30 + ['Novice'] * 30 + ['Experienced'] * 30\n",
    "})\n",
    "\n",
    "# Fit the two-way ANOVA model\n",
    "model = ols('Time ~ Program + Experience + Program:Experience', data=df).fit()\n",
    "anova_table = sm.stats.anova_lm(model, typ=2)\n",
    "\n",
    "# Extract the F-statistics and p-values\n",
    "f_program = anova_table.loc['Program', 'F']\n",
    "p_program = anova_table.loc['Program', 'PR(>F)']\n",
    "f_experience = anova_table.loc['Experience', 'F']\n",
    "p_experience = anova_table.loc['Experience', 'PR(>F)']\n",
    "f_interaction = anova_table.loc['Program:Experience', 'F']\n",
    "p_interaction = anova_table.loc['Program:Experience', 'PR(>F)']\n",
    "\n",
    "# Print the results\n",
    "print(f\"F-statistic Program: {f_program:.2f}, p-value: {p_program:.4f}\")\n",
    "print(f\"F-statistic Experience: {f_experience:.2f}, p-value: {p_experience:.4f}\")\n",
    "print(f\"F-statistic Interaction: {f_interaction:.2f}, p-value: {p_interaction:.4f}\")\n"
   ]
  },
  {
   "cell_type": "code",
   "execution_count": 14,
   "metadata": {},
   "outputs": [
    {
     "data": {
      "text/html": [
       "<div>\n",
       "<style scoped>\n",
       "    .dataframe tbody tr th:only-of-type {\n",
       "        vertical-align: middle;\n",
       "    }\n",
       "\n",
       "    .dataframe tbody tr th {\n",
       "        vertical-align: top;\n",
       "    }\n",
       "\n",
       "    .dataframe thead th {\n",
       "        text-align: right;\n",
       "    }\n",
       "</style>\n",
       "<table border=\"1\" class=\"dataframe\">\n",
       "  <thead>\n",
       "    <tr style=\"text-align: right;\">\n",
       "      <th></th>\n",
       "      <th>sum_sq</th>\n",
       "      <th>df</th>\n",
       "      <th>F</th>\n",
       "      <th>PR(&gt;F)</th>\n",
       "    </tr>\n",
       "  </thead>\n",
       "  <tbody>\n",
       "    <tr>\n",
       "      <th>Program</th>\n",
       "      <td>141.011111</td>\n",
       "      <td>2.0</td>\n",
       "      <td>27.137517</td>\n",
       "      <td>5.519536e-11</td>\n",
       "    </tr>\n",
       "    <tr>\n",
       "      <th>Experience</th>\n",
       "      <td>57.800000</td>\n",
       "      <td>1.0</td>\n",
       "      <td>22.247161</td>\n",
       "      <td>4.899601e-06</td>\n",
       "    </tr>\n",
       "    <tr>\n",
       "      <th>Program:Experience</th>\n",
       "      <td>20.033333</td>\n",
       "      <td>2.0</td>\n",
       "      <td>3.855405</td>\n",
       "      <td>2.299631e-02</td>\n",
       "    </tr>\n",
       "    <tr>\n",
       "      <th>Residual</th>\n",
       "      <td>452.066667</td>\n",
       "      <td>174.0</td>\n",
       "      <td>NaN</td>\n",
       "      <td>NaN</td>\n",
       "    </tr>\n",
       "  </tbody>\n",
       "</table>\n",
       "</div>"
      ],
      "text/plain": [
       "                        sum_sq     df          F        PR(>F)\n",
       "Program             141.011111    2.0  27.137517  5.519536e-11\n",
       "Experience           57.800000    1.0  22.247161  4.899601e-06\n",
       "Program:Experience   20.033333    2.0   3.855405  2.299631e-02\n",
       "Residual            452.066667  174.0        NaN           NaN"
      ]
     },
     "execution_count": 14,
     "metadata": {},
     "output_type": "execute_result"
    }
   ],
   "source": [
    "anova_table"
   ]
  },
  {
   "cell_type": "markdown",
   "metadata": {},
   "source": [
    "### Que - 11 : An educational researcher is interested in whether a new teaching method improves student test scores. They randomly assign 100 students to either the control group (traditional teaching method) or the experimental group (new teaching method) and administer a test at the end of the semester. Conduct a two-sample t-test using Python to determine if there are any significant differences in test scores between the two groups. If the results are significant, follow up with a post-hoc test to determine which group(s) differ significantly from each other."
   ]
  },
  {
   "cell_type": "code",
   "execution_count": 21,
   "metadata": {},
   "outputs": [
    {
     "name": "stdout",
     "output_type": "stream",
     "text": [
      "T-statistic: -18.05\n",
      "p-value: 0.0000\n",
      "   Multiple Comparison of Means - Tukey HSD, FWER=0.05   \n",
      "=========================================================\n",
      " group1    group2    meandiff p-adj lower   upper  reject\n",
      "---------------------------------------------------------\n",
      "Control Experimental     10.8   0.0 9.6128 11.9872   True\n",
      "---------------------------------------------------------\n"
     ]
    }
   ],
   "source": [
    "import scipy.stats as stats\n",
    "import numpy as np\n",
    "import statsmodels as stml\n",
    "\n",
    "# Test scores for the control group\n",
    "control_scores = [70, 75, 68, 72, 80, 82, 78, 76, 73, 77,\n",
    "                  74, 81, 79, 83, 75, 72, 80, 76, 78, 77,\n",
    "                  79, 74, 75, 73, 71, 72, 77, 80, 76, 78,\n",
    "                  79, 81, 82, 78, 76, 73, 77, 74, 75, 72,\n",
    "                  75, 76, 80, 78, 79, 74, 77, 73, 72, 75]\n",
    "\n",
    "# Test scores for the experimental group\n",
    "experimental_scores = [85, 82, 89, 88, 93, 85, 84, 86, 90, 87,\n",
    "                       89, 92, 85, 83, 86, 90, 87, 88, 85, 89,\n",
    "                       87, 86, 84, 88, 85, 89, 83, 86, 90, 87,\n",
    "                       89, 92, 85, 83, 86, 90, 87, 88, 85, 89,\n",
    "                       87, 86, 84, 88, 85, 89, 83, 86, 90, 87]\n",
    "\n",
    "# Perform two-sample t-test\n",
    "t_statistic, p_value = stats.ttest_ind(control_scores, experimental_scores)\n",
    "\n",
    "# Print the results\n",
    "print(f\"T-statistic: {t_statistic:.2f}\")\n",
    "print(f\"p-value: {p_value:.4f}\")\n",
    "\n",
    "# Perform post-hoc test (e.g., Tukey's HSD) if results are significant\n",
    "if p_value < 0.05:\n",
    "    # Combine the scores into a single array\n",
    "    scores = np.concatenate((control_scores, experimental_scores))\n",
    "    \n",
    "    # Create a group array to indicate the group for each observation\n",
    "    groups = np.array(['Control'] * len(control_scores) + ['Experimental'] * len(experimental_scores))\n",
    "    \n",
    "    # Perform the post-hoc test\n",
    "    posthoc_res = stml.stats.multicomp.pairwise_tukeyhsd(scores, groups, alpha=0.05)\n",
    "    \n",
    "    # Print the post-hoc test results\n",
    "    print(posthoc_res)\n"
   ]
  },
  {
   "cell_type": "markdown",
   "metadata": {},
   "source": [
    "### Que - 12 : A researcher wants to know if there are any significant differences in the average daily sales of three retail stores: Store A, Store B, and Store C. They randomly select 30 days and record the sales for each store on those days. Conduct a repeated measures ANOVA using Python to determine if there are any significant differences in sales between the three stores. If the results are significant, follow up with a post-hoc test to determine which store(s) differ significantly from each other."
   ]
  },
  {
   "cell_type": "code",
   "execution_count": 22,
   "metadata": {},
   "outputs": [
    {
     "name": "stdout",
     "output_type": "stream",
     "text": [
      "               Anova\n",
      "===================================\n",
      "      F Value Num DF  Den DF Pr > F\n",
      "-----------------------------------\n",
      "Store  7.5002 2.0000 58.0000 0.0013\n",
      "===================================\n",
      "\n",
      " Multiple Comparison of Means - Tukey HSD, FWER=0.05 \n",
      "=====================================================\n",
      "group1 group2 meandiff p-adj   lower    upper  reject\n",
      "-----------------------------------------------------\n",
      "     A      B   6.3667  0.008   1.4157 11.3176   True\n",
      "     A      C   1.1333 0.8489  -3.8176  6.0843  False\n",
      "     B      C  -5.2333 0.0358 -10.1843 -0.2824   True\n",
      "-----------------------------------------------------\n"
     ]
    }
   ],
   "source": [
    "import statsmodels.api as sm\n",
    "from statsmodels.formula.api import ols\n",
    "from statsmodels.stats.anova import AnovaRM\n",
    "import pandas as pd\n",
    "\n",
    "# Sales data for each store on each day\n",
    "store_a_sales = [100, 110, 120, 105, 108, 130, 122, 118, 105, 112,\n",
    "                 103, 115, 118, 123, 110, 115, 108, 106, 118, 122,\n",
    "                 110, 120, 116, 105, 128, 130, 113, 121, 119, 125]\n",
    "store_b_sales = [115, 112, 123, 118, 120, 130, 135, 112, 118, 115,\n",
    "                 125, 128, 130, 135, 122, 115, 108, 113, 128, 123,\n",
    "                 120, 118, 110, 115, 128, 125, 130, 135, 118, 122]\n",
    "store_c_sales = [105, 108, 100, 118, 112, 120, 125, 130, 110, 115,\n",
    "                 108, 103, 128, 120, 115, 122, 118, 112, 105, 108,\n",
    "                 120, 125, 130, 115, 110, 118, 123, 128, 120, 118]\n",
    "\n",
    "# Create a DataFrame with the data\n",
    "df = pd.DataFrame({\n",
    "    'Sales': store_a_sales + store_b_sales + store_c_sales,\n",
    "    'Store': ['A'] * 30 + ['B'] * 30 + ['C'] * 30,\n",
    "    'Day': list(range(30)) * 3\n",
    "})\n",
    "\n",
    "# Convert Day column to categorical variable\n",
    "df['Day'] = df['Day'].astype('category')\n",
    "\n",
    "# Fit the repeated measures ANOVA model\n",
    "model = AnovaRM(df, 'Sales', 'Day', within=['Store']).fit()\n",
    "\n",
    "# Print the results\n",
    "print(model.summary())\n",
    "\n",
    "# Perform post-hoc test (e.g., Tukey's HSD) if results are significant\n",
    "if model.anova_table['Pr > F']['Store'] < 0.05:\n",
    "    from statsmodels.stats.multicomp import pairwise_tukeyhsd\n",
    "    \n",
    "    # Perform the post-hoc test\n",
    "    posthoc_res = pairwise_tukeyhsd(df['Sales'], df['Store'], alpha=0.05)\n",
    "    \n",
    "    # Print the post-hoc test results\n",
    "    print(posthoc_res)\n"
   ]
  }
 ],
 "metadata": {
  "kernelspec": {
   "display_name": "Python 3 (ipykernel)",
   "language": "python",
   "name": "python3"
  },
  "language_info": {
   "codemirror_mode": {
    "name": "ipython",
    "version": 3
   },
   "file_extension": ".py",
   "mimetype": "text/x-python",
   "name": "python",
   "nbconvert_exporter": "python",
   "pygments_lexer": "ipython3",
   "version": "3.10.9"
  },
  "vscode": {
   "interpreter": {
    "hash": "72b2382ece9768098284d92bbc69d35954e75b60d1e25897d1389c232f4796f0"
   }
  }
 },
 "nbformat": 4,
 "nbformat_minor": 4
}
