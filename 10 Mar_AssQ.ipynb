{
 "cells": [
  {
   "attachments": {},
   "cell_type": "markdown",
   "metadata": {},
   "source": [
    "### Que - 1 : What is Estimation Statistics? Explain point estimate and interval estimate.\n"
   ]
  },
  {
   "attachments": {},
   "cell_type": "markdown",
   "metadata": {},
   "source": [
    "#### Estimation statistics is a branch of statistics that deals with the process of estimating an unknown population parameter based on a sample statistic. In other words, it is a method of using data from a sample to make inferences about an unknown population parameter.\n",
    "\n",
    "#### There are two types of estimates: point estimate and interval estimate.\n",
    "\n",
    "#### Point estimate involves using a single value to estimate an unknown population parameter. For example, the sample mean is a point estimate of the population mean, and the sample proportion is a point estimate of the population proportion. Point estimates are useful when a single value is required to make a decision or draw a conclusion.\n",
    "\n",
    "#### Interval estimate involves using a range of values to estimate an unknown population parameter. For example, a confidence interval is an interval estimate of a population parameter that provides a range of values within which the population parameter is likely to lie. Interval estimates are useful when a range of values is required to make a decision or draw a conclusion.\n",
    "\n",
    "#### Interval estimates are generally more informative than point estimates because they provide a range of plausible values for the population parameter, which gives a better understanding of the uncertainty involved in the estimation process.\n"
   ]
  },
  {
   "attachments": {},
   "cell_type": "markdown",
   "metadata": {},
   "source": [
    "### Que - 2 : Write a Python function to estimate the population mean using a sample mean and standard deviation.\n"
   ]
  },
  {
   "cell_type": "code",
   "execution_count": 20,
   "metadata": {},
   "outputs": [
    {
     "name": "stdout",
     "output_type": "stream",
     "text": [
      "96.65795966760912 103.34204033239088\n"
     ]
    }
   ],
   "source": [
    "import scipy.stats as stat\n",
    "import math\n",
    "c_i = 0.95\n",
    "sample_mean = 100\n",
    "population_mean = 0\n",
    "sample_size = 140\n",
    "sample_std = 20\n",
    "dof = sample_size - 1\n",
    "\n",
    "t_value = stat.t.ppf( (1 + c_i) / 2 , dof )\n",
    "margin_of_error = t_value * ( sample_std / math.sqrt(sample_size) )\n",
    "\n",
    "lower_bound = sample_mean - margin_of_error\n",
    "upper_bound = sample_mean + margin_of_error\n",
    "\n",
    "print(lower_bound, upper_bound)"
   ]
  },
  {
   "attachments": {},
   "cell_type": "markdown",
   "metadata": {},
   "source": [
    "### Que - 3 : What is Hypothesis testing? Why is it used? State the importance of Hypothesis testing.\n"
   ]
  },
  {
   "attachments": {},
   "cell_type": "markdown",
   "metadata": {},
   "source": [
    "#### Hypothesis testing is a statistical technique that is used to test a claim or hypothesis about a population parameter using sample data. The hypothesis is an assumption made about the population parameter, which is then tested using sample data to determine whether there is sufficient evidence to reject or accept the hypothesis.\n",
    "\n",
    "#### The basic steps involved in hypothesis testing include:\n",
    "\n",
    "#### State the null hypothesis (H0) and the alternative hypothesis (Ha)\n",
    "\n",
    "#### -> Set the level of significance (alpha) for the test\n",
    "\n",
    "#### -> Collect sample data and calculate the test statistic\n",
    "\n",
    "#### -> Determine the p-value associated with the test statistic\n",
    "\n",
    "#### -> Compare the p-value with the level of significance\n",
    "\n",
    "#### -> Draw a conclusion based on the comparison.\n",
    "\n",
    "#### Hypothesis testing is used in many fields such as medicine, psychology, business, and engineering to answer research questions, make decisions, and solve problems. It is important because it provides a structured approach to statistical inference, allowing researchers to make informed decisions based on empirical evidence rather than intuition or guesswork.\n",
    "\n",
    "#### Some key benefits of hypothesis testing include:\n",
    "\n",
    "#### Objectivity: Hypothesis testing allows for a more objective approach to decision-making, as it is based on empirical evidence and statistical analysis rather than personal beliefs or opinions.\n",
    "\n",
    "#### Validity: Hypothesis testing helps to ensure the validity of research findings by providing a framework for evaluating the statistical significance of results.\n",
    "\n",
    "#### Reliability: Hypothesis testing helps to increase the reliability of research findings by allowing researchers to identify and control for sources of variability and error.\n",
    "\n",
    "#### Generalizability: Hypothesis testing allows researchers to generalize their findings from a sample to the larger population, provided that the appropriate statistical tests are used.\n",
    "\n",
    "#### Efficiency: Hypothesis testing allows researchers to make informed decisions more efficiently by providing a systematic and standardized approach to analyzing data.\n"
   ]
  },
  {
   "attachments": {},
   "cell_type": "markdown",
   "metadata": {},
   "source": [
    "### Que - 4 : Create a hypothesis that states whether the average weight of male college students is greater than the average weight of female college students.\n"
   ]
  },
  {
   "attachments": {},
   "cell_type": "markdown",
   "metadata": {},
   "source": [
    "#### Null Hypothesis : Average weight of male college student is less than or equal to the average weight of female college student.\n",
    "\n",
    "#### Alternate Hypothesis : Average weight of male college student is greater than the average weight of female college student.\n",
    "\n",
    "#### This hypothesis can be tested using a two-sample t-test, where we compare the sample means of male and female college students to determine whether there is sufficient evidence to reject the null hypothesis and conclude that the average weight of male college students is greater than the average weight of female college students.\n"
   ]
  },
  {
   "attachments": {},
   "cell_type": "markdown",
   "metadata": {},
   "source": [
    "### Que - 5 : Write a Python script to conduct a hypothesis test on the difference between two population means, given a sample from each population.\n"
   ]
  },
  {
   "cell_type": "code",
   "execution_count": 48,
   "metadata": {},
   "outputs": [
    {
     "name": "stdout",
     "output_type": "stream",
     "text": [
      "Sample 1 mean: 10.089427941923741\n",
      "Sample 2 mean: 12.282970497439331\n",
      "Standard error of difference: 0.6249135425600264\n",
      "t-statistic: -3.510153655063233\n",
      "p-value: 0.0008734906522371855\n"
     ]
    }
   ],
   "source": [
    "import numpy as np\n",
    "from scipy import stats\n",
    "\n",
    "# Set random seed for reproducibility\n",
    "np.random.seed(123)\n",
    "\n",
    "# Generate two random samples\n",
    "sample1 = np.random.normal(loc=10, scale=2, size=30)\n",
    "sample2 = np.random.normal(loc=12, scale=2, size=30)\n",
    "\n",
    "# Calculate the sample means and standard deviations\n",
    "mean1 = np.mean(sample1)\n",
    "mean2 = np.mean(sample2)\n",
    "sd1 = np.std(sample1, ddof=1)\n",
    "sd2 = np.std(sample2, ddof=1)\n",
    "\n",
    "# Calculate the standard error of the difference between means\n",
    "se_diff = np.sqrt((sd1**2 / len(sample1)) + (sd2**2 / len(sample2)))\n",
    "\n",
    "# Calculate the t-statistic\n",
    "t = (mean1 - mean2) / se_diff\n",
    "\n",
    "# Calculate the degrees of freedom\n",
    "df = len(sample1) + len(sample2) - 2\n",
    "\n",
    "# Calculate the p-value using a two-tailed test\n",
    "p_value = 2 * (1 - stats.t.cdf(abs(t), df))\n",
    "\n",
    "# Print the results\n",
    "print(\"Sample 1 mean:\", mean1)\n",
    "print(\"Sample 2 mean:\", mean2)\n",
    "print(\"Standard error of difference:\", se_diff)\n",
    "print(\"t-statistic:\", t)\n",
    "print(\"p-value:\", p_value)"
   ]
  },
  {
   "attachments": {},
   "cell_type": "markdown",
   "metadata": {},
   "source": [
    "### Que - 6  : What is a null and alternative hypothesis? Give some examples."
   ]
  },
  {
   "attachments": {},
   "cell_type": "markdown",
   "metadata": {},
   "source": [
    "#### A null hypothesis and an alternative hypothesis are two complementary statements used in hypothesis testing to determine whether there is sufficient evidence to support a particular claim or hypothesis about a population parameter.\n",
    "\n",
    "#### The null hypothesis (H0) represents the status quo or the default assumption that there is no significant difference or relationship between two or more variables, or that the observed data is due to chance or random sampling variability. The alternative hypothesis (HA) is the statement that is being tested, which suggests that there is a statistically significant difference or relationship between two or more variables.\n",
    "\n",
    "#### Here are some examples of null and alternative hypotheses:\n",
    "\n",
    "#### Example for One-sample t-test:\n",
    "#### Null Hypothesis: The average weight of apples in a box is 500 grams.\n",
    "#### Alternative Hypothesis: The average weight of apples in a box is not equal to 500 grams.\n",
    "\n",
    "#### Example for Two-sample t-test:\n",
    "#### Null Hypothesis: There is no difference in the average weight of male and female newborns.\n",
    "#### Alternative Hypothesis: The average weight of male newborns is greater than the average weight of female newborns.\n",
    "\n",
    "#### Example for Chi-square goodness-of-fit test:\n",
    "#### Null Hypothesis: The observed frequencies of colored balls in a jar follow the expected frequencies.\n",
    "#### Alternative Hypothesis: The observed frequencies of colored balls in a jar do not follow the expected frequencies.\n",
    "\n",
    "#### Example for Pearson correlation coefficient:\n",
    "#### Null Hypothesis: There is no significant correlation between the age and the income of individuals.\n",
    "#### Alternative Hypothesis: There is a significant positive correlation between the age and the income of individuals.\n",
    "\n",
    "#### In each example, the null hypothesis is the default assumption that is being tested against the alternative hypothesis, which is the statement that suggests the existence of a statistically significant difference or relationship between two or more variables."
   ]
  },
  {
   "attachments": {},
   "cell_type": "markdown",
   "metadata": {},
   "source": [
    "### Que - 7 : Write down the steps involved in hypothesis testing."
   ]
  },
  {
   "attachments": {},
   "cell_type": "markdown",
   "metadata": {},
   "source": [
    "#### The steps involved in hypothesis testing are as follows:\n",
    "\n",
    "#### State the null hypothesis (H0) and the alternative hypothesis (HA) based on the research question or problem.\n",
    "\n",
    "#### Determine the level of significance (alpha) that will be used to make the decision. This represents the probability of rejecting the null hypothesis when it is actually true.\n",
    "\n",
    "#### Choose an appropriate test statistic and calculate its value using the sample data. The test statistic should be selected based on the type of data and the hypothesis being tested.\n",
    "\n",
    "#### Determine the p-value, which represents the probability of obtaining a test statistic as extreme as, or more extreme than, the one observed under the null hypothesis.\n",
    "\n",
    "#### Compare the p-value to the level of significance. If the p-value is less than or equal to the level of significance, reject the null hypothesis in favor of the alternative hypothesis. If the p-value is greater than the level of significance, do not reject the null hypothesis.\n",
    "\n",
    "#### Interpret the results in the context of the research question or problem. If the null hypothesis is rejected, this suggests that there is evidence of a statistically significant difference or relationship between the variables being tested. If the null hypothesis is not rejected, this suggests that there is not enough evidence to support the alternative hypothesis.\n",
    "\n",
    "#### Draw conclusions and make recommendations based on the results of the hypothesis test.\n",
    "\n",
    "#### It is important to note that the process of hypothesis testing may vary depending on the specific research question or problem, and that the results of the test should be interpreted carefully in light of the assumptions and limitations of the statistical test being used."
   ]
  },
  {
   "attachments": {},
   "cell_type": "markdown",
   "metadata": {},
   "source": [
    "### Que - 8 : Define p-value and explain its significance in hypothesis testing."
   ]
  },
  {
   "attachments": {},
   "cell_type": "markdown",
   "metadata": {},
   "source": [
    "#### In hypothesis testing, the p-value is the probability of obtaining a test statistic as extreme as, or more extreme than, the one observed, assuming that the null hypothesis is true.\n",
    "\n",
    "#### The p-value is significant because it helps to determine whether the results of a hypothesis test are statistically significant. If the p-value is less than or equal to the level of significance (alpha), then the null hypothesis is rejected in favor of the alternative hypothesis. This indicates that there is evidence of a statistically significant difference or relationship between the variables being tested.\n",
    "\n",
    "#### On the other hand, if the p-value is greater than the level of significance, then the null hypothesis is not rejected. This suggests that there is not enough evidence to support the alternative hypothesis and that any observed differences or relationships between the variables are likely due to chance or random variability.\n",
    "\n",
    "#### The smaller the p-value, the stronger the evidence against the null hypothesis, and the greater the confidence in the alternative hypothesis. Typically, a level of significance (alpha) of 0.05 or 0.01 is used in hypothesis testing, which means that if the p-value is less than or equal to 0.05 or 0.01, respectively, the null hypothesis is rejected.\n",
    "\n",
    "#### It is important to note that the p-value should be interpreted in the context of the research question or problem being studied, and that statistical significance does not necessarily imply practical or clinical significance. Additionally, the p-value alone should not be used to make decisions or draw conclusions; other factors such as effect size, sample size, and the assumptions and limitations of the statistical test being used should also be considered."
   ]
  },
  {
   "attachments": {},
   "cell_type": "markdown",
   "metadata": {},
   "source": [
    "### Que - 9 : Generate a Student's t-distribution plot using Python's matplotlib library, with the degrees of freedom parameter set to 10."
   ]
  },
  {
   "cell_type": "code",
   "execution_count": 49,
   "metadata": {},
   "outputs": [
    {
     "data": {
      "image/png": "[encoded data removed]",
      "text/plain": [
       "<Figure size 640x480 with 1 Axes>"
      ]
     },
     "metadata": {},
     "output_type": "display_data"
    }
   ],
   "source": [
    "import numpy as np\n",
    "import matplotlib.pyplot as plt\n",
    "\n",
    "# Set degrees of freedom\n",
    "df = 10\n",
    "\n",
    "# Generate x-axis values\n",
    "x = np.linspace(-4, 4, 1000)\n",
    "\n",
    "# Calculate y-axis values\n",
    "y = (1 / (np.sqrt(df) * np.sqrt(np.pi))) * ((1 + (x**2 / df))**(-(df + 1) / 2))\n",
    "\n",
    "# Create plot\n",
    "fig, ax = plt.subplots()\n",
    "ax.plot(x, y, label=f\"t-distribution with df={df}\")\n",
    "\n",
    "# Add labels and legend\n",
    "ax.set_xlabel(\"x\")\n",
    "ax.set_ylabel(\"Probability density\")\n",
    "ax.set_title(\"Student's t-distribution\")\n",
    "ax.legend()\n",
    "\n",
    "# Show plot\n",
    "plt.show()\n"
   ]
  },
  {
   "attachments": {},
   "cell_type": "markdown",
   "metadata": {},
   "source": [
    "### Que - 10 : Write a Python program to calculate the two-sample t-test for independent samples, given two random samples of equal size and a null hypothesis that the population means are equal."
   ]
  },
  {
   "cell_type": "code",
   "execution_count": 50,
   "metadata": {},
   "outputs": [
    {
     "name": "stdout",
     "output_type": "stream",
     "text": [
      "Sample 1 mean: 4.57\n",
      "Sample 2 mean: 4.64\n",
      "t-statistic: -0.11\n",
      "p-value: 0.9111\n"
     ]
    }
   ],
   "source": [
    "import numpy as np\n",
    "from scipy import stats\n",
    "\n",
    "# Generate two random samples of equal size\n",
    "sample1 = np.random.normal(loc=5, scale=2, size=20)\n",
    "sample2 = np.random.normal(loc=4.5, scale=2, size=20)\n",
    "\n",
    "# Calculate the t-test statistic and p-value\n",
    "t_statistic, p_value = stats.ttest_ind(sample1, sample2)\n",
    "\n",
    "# Print the results\n",
    "print(\"Sample 1 mean: {:.2f}\".format(sample1.mean()))\n",
    "print(\"Sample 2 mean: {:.2f}\".format(sample2.mean()))\n",
    "print(\"t-statistic: {:.2f}\".format(t_statistic))\n",
    "print(\"p-value: {:.4f}\".format(p_value))\n"
   ]
  },
  {
   "attachments": {},
   "cell_type": "markdown",
   "metadata": {},
   "source": [
    "### Que - 11 : What is Student’s t distribution? When to use the t-Distribution."
   ]
  },
  {
   "attachments": {},
   "cell_type": "markdown",
   "metadata": {},
   "source": [
    "#### Student's t-distribution is a probability distribution that arises from the estimation of the mean of a normally distributed population, where the population variance is unknown and is estimated from the sample. It is named after William Gosset, who used the pseudonym \"Student\" when publishing his work on the t-distribution in 1908.\n",
    "\n",
    "#### The t-distribution is similar in shape to the standard normal distribution but has heavier tails, meaning that it accounts for more uncertainty in the estimation of the population mean. The shape of the t-distribution depends on the degrees of freedom, which is a measure of the sample size and determines the precision of the estimate.\n",
    "\n",
    "#### The t-distribution is commonly used in hypothesis testing to compare the means of two samples, when the population variance is unknown and is estimated from the samples. It is also used in confidence interval estimation, where the sample mean is used to estimate the population mean within a certain level of confidence.\n",
    "\n",
    "#### The t-distribution is used instead of the normal distribution when the sample size is small, typically less than 30, and the population variance is unknown. In such cases, the t-distribution provides a more accurate estimate of the standard error and thus the probability of obtaining a certain sample mean.\n",
    "\n",
    "#### In summary, the t-distribution is a probability distribution used in statistical inference when the population variance is unknown and is estimated from the sample. It is typically used when the sample size is small and provides a more accurate estimate of the standard error and the probability of obtaining a certain sample mean."
   ]
  },
  {
   "attachments": {},
   "cell_type": "markdown",
   "metadata": {},
   "source": [
    "### Que - 12 : What is t-statistic? State the formula for t-statistic."
   ]
  },
  {
   "attachments": {},
   "cell_type": "markdown",
   "metadata": {},
   "source": [
    "#### The t-statistic is a measure of the difference between the sample mean and the hypothesized population mean, in units of the standard error of the sample mean. It is used to test hypotheses about population means when the sample size is small and the population variance is unknown. The t-statistic follows a t-distribution with degrees of freedom equal to the sample size minus one.\n",
    "\n",
    "#### The formula for calculating the t-statistic is:\n",
    "\n",
    "#### t = (x̄ - μ) / (s / sqrt(n))\n",
    "\n",
    "#### where:\n",
    "\n",
    "#### x̄ is the sample mean\n",
    "#### μ is the hypothesized population mean under the null hypothesis\n",
    "#### s is the sample standard deviation\n",
    "#### n is the sample size\n",
    "#### The t-statistic measures how many standard errors the sample mean is away from the hypothesized population mean. If the t-statistic is large enough, it indicates that the sample mean is significantly different from the hypothesized population mean, and the null hypothesis can be rejected.\n",
    "\n",
    "#### In hypothesis testing, the calculated t-statistic is compared to a critical value from the t-distribution with degrees of freedom equal to the sample size minus one, and a p-value is calculated to determine the probability of obtaining the observed t-statistic or a more extreme value, assuming the null hypothesis is true."
   ]
  },
  {
   "attachments": {},
   "cell_type": "markdown",
   "metadata": {},
   "source": [
    "### Que - 13 : A coffee shop owner wants to estimate the average daily revenue for their shop. They take a random sample of 50 days and find the sample mean revenue to be $500 with a standard deviation of $50. Estimate the population mean revenue with a 95% confidence interval."
   ]
  },
  {
   "attachments": {},
   "cell_type": "markdown",
   "metadata": {},
   "source": [
    "#### To estimate the population mean revenue with a 95% confidence interval, we can use the following formula:\n",
    "\n",
    "#### CI = x̄ ± t(alpha/2, n-1) * (s / sqrt(n))\n",
    "\n",
    "#### where:\n",
    "\n",
    "#### x̄ is the sample mean revenue\n",
    "#### t(alpha/2, n-1) is the t-value with alpha/2 (0.025) level of significance and n-1 degrees of freedom. We can find this value from a t-distribution table or use a statistical software.\n",
    "#### s is the sample standard deviation\n",
    "#### n is the sample size\n",
    "#### Substituting the given values, we get:\n",
    "\n",
    "#### CI = 500 ± t(0.025, 49) * (50 / sqrt(50))\n",
    "\n",
    "#### From a t-distribution table with 49 degrees of freedom and a 0.025 level of significance, the t-value is approximately 2.009. Substituting this value, we get:\n",
    "\n",
    "#### CI = 500 ± 2.009 * (50 / sqrt(50))\n",
    "\n",
    "#### Simplifying the expression, we get:\n",
    "\n",
    "#### CI = 500 ± 14.14\n",
    "\n",
    "#### Therefore, the 95% confidence interval for the population mean revenue is (485.86, 514.14). We can be 95% confident that the true population mean revenue falls within this interval."
   ]
  },
  {
   "attachments": {},
   "cell_type": "markdown",
   "metadata": {},
   "source": [
    "### Que - 14 : A researcher hypothesizes that a new drug will decrease blood pressure by 10 mmHg. They conduct a clinical trial with 100 patients and find that the sample mean decrease in blood pressure is 8 mmHg with a standard deviation of 3 mmHg. Test the hypothesis with a significance level of 0.05."
   ]
  },
  {
   "attachments": {},
   "cell_type": "markdown",
   "metadata": {},
   "source": [
    "#### To test the hypothesis that the new drug will decrease blood pressure by 10 mmHg with a significance level of 0.05, we can perform a one-sample t-test.\n",
    "\n",
    "#### The null hypothesis is that the mean decrease in blood pressure is not different from 10 mmHg, while the alternative hypothesis is that the mean decrease in blood pressure is less than 10 mmHg.\n",
    "\n",
    "#### We can calculate the t-statistic using the formula:\n",
    "\n",
    "#### t = (x̄ - μ) / (s / sqrt(n))\n",
    "\n",
    "#### where:\n",
    "\n",
    "#### x̄ is the sample mean decrease in blood pressure\n",
    "#### μ is the hypothesized mean decrease in blood pressure (10 mmHg)\n",
    "#### s is the sample standard deviation\n",
    "#### n is the sample size\n",
    "#### Substituting the given values, we get:\n",
    "\n",
    "#### t = (8 - 10) / (3 / sqrt(100)) = -2.82\n",
    "\n",
    "#### The degrees of freedom for this test is n - 1 = 100 - 1 = 99.\n",
    "\n",
    "#### Using a t-distribution table with 99 degrees of freedom and a significance level of 0.05 for a one-tailed test, we find the critical t-value to be -1.660.\n",
    "\n",
    "#### Since the calculated t-statistic (-2.82) is less than the critical t-value (-1.660), we reject the null hypothesis. Therefore, we have sufficient evidence to conclude that the new drug decreases blood pressure by less than 10 mmHg at a significance level of 0.05."
   ]
  },
  {
   "attachments": {},
   "cell_type": "markdown",
   "metadata": {},
   "source": [
    "### Que - 15 : An electronics company produces a certain type of product with a mean weight of 5 pounds and a standard deviation of 0.5 pounds. A random sample of 25 products is taken, and the sample mean weight is found to be 4.8 pounds. Test the hypothesis that the true mean weight of the products is less than 5 pounds with a significance level of 0.01."
   ]
  },
  {
   "attachments": {},
   "cell_type": "markdown",
   "metadata": {},
   "source": [
    "#### To test the hypothesis that the true mean weight of the products is less than 5 pounds with a significance level of 0.01, we can perform a one-sample t-test.\n",
    "\n",
    "#### The null hypothesis is that the mean weight of the products is not less than 5 pounds, while the alternative hypothesis is that the mean weight of the products is less than 5 pounds.\n",
    "\n",
    "#### We can calculate the t-statistic using the formula:\n",
    "\n",
    "#### t = (x̄ - μ) / (s / sqrt(n))\n",
    "\n",
    "#### where:\n",
    "\n",
    "#### x̄ is the sample mean weight\n",
    "#### μ is the hypothesized mean weight (5 pounds)\n",
    "#### s is the sample standard deviation\n",
    "#### n is the sample size\n",
    "#### Substituting the given values, we get:\n",
    "\n",
    "#### t = (4.8 - 5) / (0.5 / sqrt(25)) = -2\n",
    "\n",
    "#### The degrees of freedom for this test is n - 1 = 25 - 1 = 24.\n",
    "\n",
    "#### Using a t-distribution table with 24 degrees of freedom and a significance level of 0.01 for a one-tailed test, we find the critical t-value to be -2.492.\n",
    "\n",
    "#### Since the calculated t-statistic (-2) is greater than the critical t-value (-2.492), we fail to reject the null hypothesis. Therefore, we do not have sufficient evidence to conclude that the true mean weight of the products is less than 5 pounds at a significance level of 0.01."
   ]
  },
  {
   "attachments": {},
   "cell_type": "markdown",
   "metadata": {},
   "source": [
    "### Que - 16 : Two groups of students are given different study materials to prepare for a test. The first group (n1 = 30) has a mean score of 80 with a standard deviation of 10, and the second group (n2 = 40) has a mean score of 75 with a standard deviation of 8. Test the hypothesis that the population means for the two groups are equal with a significance level of 0.01."
   ]
  },
  {
   "attachments": {},
   "cell_type": "markdown",
   "metadata": {},
   "source": [
    "#### To test the hypothesis that the population means for the two groups are equal with a significance level of 0.01, we can perform a two-sample t-test assuming equal variances.\n",
    "\n",
    "#### The null hypothesis is that the population means for the two groups are equal, while the alternative hypothesis is that the population means for the two groups are not equal.\n",
    "\n",
    "#### We can calculate the t-statistic using the formula:\n",
    "\n",
    "#### t = (x̄1 - x̄2) / (sp * sqrt(1/n1 + 1/n2))\n",
    "\n",
    "#### where:\n",
    "\n",
    "#### x̄1 is the sample mean score for the first group\n",
    "#### x̄2 is the sample mean score for the second group\n",
    "#### sp is the pooled standard deviation, calculated as:\n",
    "#### sp = sqrt(((n1-1)*s1^2 + (n2-1)*s2^2) / (n1+n2-2))\n",
    "\n",
    "#### where:\n",
    "\n",
    "#### s1 is the sample standard deviation for the first group\n",
    "#### s2 is the sample standard deviation for the second group\n",
    "#### n1 is the sample size for the first group\n",
    "#### n2 is the sample size for the second group\n",
    "#### Substituting the given values, we get:\n",
    "\n",
    "#### sp = sqrt(((30-1)*10^2 + (40-1)*8^2) / (30+40-2)) = 9.097\n",
    "\n",
    "#### t = (80 - 75) / (9.097 * sqrt(1/30 + 1/40)) = 2.29\n",
    "\n",
    "#### The degrees of freedom for this test is n1 + n2 - 2 = 30 + 40 - 2 = 68.\n",
    "\n",
    "#### Using a t-distribution table with 68 degrees of freedom and a significance level of 0.01 for a two-tailed test, we find the critical t-value to be ±2.636.\n",
    "\n",
    "#### Since the calculated t-statistic (2.29) is less than the critical t-value (±2.636), we fail to reject the null hypothesis. Therefore, we do not have sufficient evidence to conclude that the population means for the two groups are not equal at a significance level of 0.01."
   ]
  },
  {
   "attachments": {},
   "cell_type": "markdown",
   "metadata": {},
   "source": [
    "### Que - 17 : A marketing company wants to estimate the average number of ads watched by viewers during a TV program. They take a random sample of 50 viewers and find that the sample mean is 4 with a standard deviation of 1.5. Estimate the population mean with a 99% confidence interval."
   ]
  },
  {
   "attachments": {},
   "cell_type": "markdown",
   "metadata": {},
   "source": [
    "#### To estimate the population mean with a 99% confidence interval, we can use the t-distribution with 49 degrees of freedom, since the sample size is 50 and we need to subtract 1 to get the degrees of freedom.\n",
    "\n",
    "#### The formula for a confidence interval for the population mean is:\n",
    "\n",
    "#### CI = x̄ ± t* (s / sqrt(n))\n",
    "\n",
    "#### where:\n",
    "\n",
    "#### x̄ is the sample mean\n",
    "#### t* is the critical t-value for the desired confidence level and degrees of freedom\n",
    "#### s is the sample standard deviation\n",
    "#### n is the sample size\n",
    "#### Substituting the given values, we get:\n",
    "\n",
    "#### CI = 4 ± t*(1.5 / sqrt(50))\n",
    "\n",
    "#### Using a t-distribution table with 49 degrees of freedom and a 99% confidence level, we find the critical t-value to be 2.68 (since it is a two-tailed test).\n",
    "\n",
    "#### Substituting this value, we get:\n",
    "\n",
    "#### CI = 4 ± 2.68*(1.5 / sqrt(50)) = (3.37, 4.63)\n",
    "\n",
    "#### Therefore, we can say with 99% confidence that the population mean number of ads watched by viewers during a TV program falls within the interval of (3.37, 4.63)."
   ]
  }
 ],
 "metadata": {
  "kernelspec": {
   "display_name": "Python 3 (ipykernel)",
   "language": "python",
   "name": "python3"
  },
  "language_info": {
   "codemirror_mode": {
    "name": "ipython",
    "version": 3
   },
   "file_extension": ".py",
   "mimetype": "text/x-python",
   "name": "python",
   "nbconvert_exporter": "python",
   "pygments_lexer": "ipython3",
   "version": "3.11.2"
  },
  "vscode": {
   "interpreter": {
    "hash": "72b2382ece9768098284d92bbc69d35954e75b60d1e25897d1389c232f4796f0"
   }
  }
 },
 "nbformat": 4,
 "nbformat_minor": 4
}
