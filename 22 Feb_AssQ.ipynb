{
 "cells": [
  {
   "cell_type": "markdown",
   "id": "4fab3327",
   "metadata": {},
   "source": [
    "### Ans - 1"
   ]
  },
  {
   "cell_type": "code",
   "execution_count": 66,
   "id": "62b76ed0-fc1e-4ff8-a00d-c879c9f1676c",
   "metadata": {},
   "outputs": [],
   "source": [
    "from selenium import webdriver\n",
    "from selenium.webdriver.common.by import By\n",
    "import pandas as pd"
   ]
  },
  {
   "cell_type": "code",
   "execution_count": 89,
   "id": "4f9ae826-5326-429d-9b5f-f614bc971e93",
   "metadata": {},
   "outputs": [],
   "source": [
    "# url = \"https://www.youtube.com/@PW-Foundation/videos\"\n",
    "url = \"https://www.youtube.com/@warikoo/videos\""
   ]
  },
  {
   "cell_type": "code",
   "execution_count": 90,
   "id": "0d4b0cf2-eaee-47e8-a1ed-df6f22e2486a",
   "metadata": {},
   "outputs": [],
   "source": [
    "driver = webdriver.Chrome()"
   ]
  },
  {
   "cell_type": "code",
   "execution_count": 91,
   "id": "d0bc2363-6a57-4ea0-85e9-2bd8b3977406",
   "metadata": {},
   "outputs": [],
   "source": [
    "driver.get(url)"
   ]
  },
  {
   "cell_type": "code",
   "execution_count": 92,
   "id": "2b1fb85d-108e-47a1-bc3e-dc48db30cd55",
   "metadata": {},
   "outputs": [],
   "source": [
    "videos = driver.find_elements(By.CLASS_NAME,'style-scope ytd-rich-grid-media')"
   ]
  },
  {
   "cell_type": "code",
   "execution_count": 93,
   "id": "e3ea9686-adbc-4322-bb1a-1fccc4514589",
   "metadata": {},
   "outputs": [],
   "source": [
    "yt_channel_name = driver.find_element(By.XPATH,'.//*[@id=\"text-container\"]').text\n",
    "yt_channel_name = yt_channel_name.replace(\" \",\"_\")"
   ]
  },
  {
   "cell_type": "code",
   "execution_count": 94,
   "id": "7bef5297-f03f-4eb6-a7cc-8acb96e70f2e",
   "metadata": {},
   "outputs": [],
   "source": [
    "yt_dict = {}"
   ]
  },
  {
   "cell_type": "markdown",
   "id": "4888c103-e127-4869-8e82-f0fd116b9035",
   "metadata": {},
   "source": [
    "### Ans - 1"
   ]
  },
  {
   "cell_type": "code",
   "execution_count": 95,
   "id": "65f155f1-8db0-4bf5-8ef2-7776434cb95c",
   "metadata": {},
   "outputs": [],
   "source": [
    "link_lst = []\n",
    "\n",
    "for video in videos[0:5]:\n",
    "    link = video.find_element(By.XPATH,'.//*[@id=\"thumbnail\"]').get_attribute('href')\n",
    "    link_lst.append(link)\n",
    "    \n",
    "yt_dict['Url'] = link_lst\n",
    "    # yt_dict = {\"URL\":link,\"Thumbnail\":thumbnail,\"Title\":title,\"Views\":views_count,\"Posted\":uploaded_time}\n",
    "    # csv_data.append(yt_dict)"
   ]
  },
  {
   "cell_type": "markdown",
   "id": "e0b2d972-7624-4c9f-8cc2-7eb60f8b5258",
   "metadata": {},
   "source": [
    "### Ans - 2"
   ]
  },
  {
   "cell_type": "code",
   "execution_count": 96,
   "id": "2c551cce-6c60-4977-bc9c-c5f2f778526e",
   "metadata": {},
   "outputs": [],
   "source": [
    "thumb_lst = []\n",
    "\n",
    "for video in videos[0:5]:\n",
    "    thumbnail = video.find_element(By.XPATH,'.//*[@id=\"thumbnail\"]/yt-image/img').get_attribute('src')\n",
    "    thumb_lst.append(thumbnail)\n",
    "    \n",
    "yt_dict['Thumbnail'] = thumb_lst"
   ]
  },
  {
   "cell_type": "markdown",
   "id": "bb38a61e-3509-4d48-9019-fbb2befc6aa8",
   "metadata": {},
   "source": [
    "### Ans - 3"
   ]
  },
  {
   "cell_type": "code",
   "execution_count": 97,
   "id": "ee9ab886-2671-41ef-904f-f371ef1a59a7",
   "metadata": {},
   "outputs": [],
   "source": [
    "title_lst = []\n",
    "\n",
    "for video in videos[0:5]:    \n",
    "    title = video.find_element(By.XPATH,'.//*[@id=\"video-title\"]').text\n",
    "    title_lst.append(title)\n",
    "    \n",
    "yt_dict['Title'] = title_lst"
   ]
  },
  {
   "cell_type": "markdown",
   "id": "d977a12e-aaa8-4bd2-be8a-6497c7c5e209",
   "metadata": {},
   "source": [
    "### Ans - 4"
   ]
  },
  {
   "cell_type": "code",
   "execution_count": 98,
   "id": "1b1c06f1-f2e2-435a-a0c9-d08f2dd72757",
   "metadata": {},
   "outputs": [],
   "source": [
    "views_lst = []\n",
    "\n",
    "for video in videos[0:5]:    \n",
    "    views_count = video.find_element(By.XPATH,'.//*[@id=\"metadata-line\"]/span[1]').text\n",
    "    views_lst.append(views_count)\n",
    "\n",
    "yt_dict['Views'] = views_lst"
   ]
  },
  {
   "cell_type": "markdown",
   "id": "1bb5ae29-3f2f-456a-ad58-1408dca4ca34",
   "metadata": {},
   "source": [
    "### Ans - 5"
   ]
  },
  {
   "cell_type": "code",
   "execution_count": 99,
   "id": "c18cbce0-7cae-484b-8f84-9dedb9cd94ab",
   "metadata": {},
   "outputs": [],
   "source": [
    "posted_lst = []\n",
    "\n",
    "for video in videos[0:5]:    \n",
    "    uploaded_time = video.find_element(By.XPATH,'.//*[@id=\"metadata-line\"]/span[2]').text\n",
    "    posted_lst.append(uploaded_time)\n",
    "    \n",
    "yt_dict['Posted'] = posted_lst"
   ]
  },
  {
   "cell_type": "code",
   "execution_count": 100,
   "id": "3bbb147c-ad55-4450-a7d0-2d1a4df63722",
   "metadata": {},
   "outputs": [],
   "source": [
    "yt_csv_df = pd.DataFrame(yt_dict)"
   ]
  },
  {
   "cell_type": "code",
   "execution_count": 101,
   "id": "8a7c9ad5-08d3-4d5e-b539-873e67c77822",
   "metadata": {},
   "outputs": [
    {
     "data": {
      "text/html": [
       "<div>\n",
       "<style scoped>\n",
       "    .dataframe tbody tr th:only-of-type {\n",
       "        vertical-align: middle;\n",
       "    }\n",
       "\n",
       "    .dataframe tbody tr th {\n",
       "        vertical-align: top;\n",
       "    }\n",
       "\n",
       "    .dataframe thead th {\n",
       "        text-align: right;\n",
       "    }\n",
       "</style>\n",
       "<table border=\"1\" class=\"dataframe\">\n",
       "  <thead>\n",
       "    <tr style=\"text-align: right;\">\n",
       "      <th></th>\n",
       "      <th>Url</th>\n",
       "      <th>Thumbnail</th>\n",
       "      <th>Title</th>\n",
       "      <th>Views</th>\n",
       "      <th>Posted</th>\n",
       "    </tr>\n",
       "  </thead>\n",
       "  <tbody>\n",
       "    <tr>\n",
       "      <th>0</th>\n",
       "      <td>https://www.youtube.com/watch?v=0BWxFiA3Ixk</td>\n",
       "      <td>https://i.ytimg.com/vi/0BWxFiA3Ixk/hqdefault.j...</td>\n",
       "      <td>23 TOP and UNIQUE Passive Income IDEAS for 202...</td>\n",
       "      <td>15K views</td>\n",
       "      <td>1 hour ago</td>\n",
       "    </tr>\n",
       "    <tr>\n",
       "      <th>1</th>\n",
       "      <td>https://www.youtube.com/watch?v=JS1imtdTZxU</td>\n",
       "      <td>https://i.ytimg.com/vi/JS1imtdTZxU/hqdefault.j...</td>\n",
       "      <td>Your MONEY is BURNING and YOU DON'T EVEN KNOW ...</td>\n",
       "      <td>91K views</td>\n",
       "      <td>2 days ago</td>\n",
       "    </tr>\n",
       "    <tr>\n",
       "      <th>2</th>\n",
       "      <td>https://www.youtube.com/watch?v=FfRTsx026I0</td>\n",
       "      <td>https://i.ytimg.com/vi/FfRTsx026I0/hqdefault.j...</td>\n",
       "      <td>11 PRODUCTIVITY MYTHS that are RUINING your LI...</td>\n",
       "      <td>157K views</td>\n",
       "      <td>4 days ago</td>\n",
       "    </tr>\n",
       "    <tr>\n",
       "      <th>3</th>\n",
       "      <td>https://www.youtube.com/watch?v=Ut577Lc_-yo</td>\n",
       "      <td>https://i.ytimg.com/vi/Ut577Lc_-yo/hqdefault.j...</td>\n",
       "      <td>2023 - Your JOURNEY to BECOME a MILLIONAIRE st...</td>\n",
       "      <td>222K views</td>\n",
       "      <td>7 days ago</td>\n",
       "    </tr>\n",
       "    <tr>\n",
       "      <th>4</th>\n",
       "      <td>https://www.youtube.com/watch?v=6x2oz1UW6pE</td>\n",
       "      <td>https://i.ytimg.com/vi/6x2oz1UW6pE/hqdefault.j...</td>\n",
       "      <td>@thevirdas on Stand-up comedy, Money, Acting, ...</td>\n",
       "      <td>22K views</td>\n",
       "      <td>9 days ago</td>\n",
       "    </tr>\n",
       "  </tbody>\n",
       "</table>\n",
       "</div>"
      ],
      "text/plain": [
       "                                           Url  \\\n",
       "0  https://www.youtube.com/watch?v=0BWxFiA3Ixk   \n",
       "1  https://www.youtube.com/watch?v=JS1imtdTZxU   \n",
       "2  https://www.youtube.com/watch?v=FfRTsx026I0   \n",
       "3  https://www.youtube.com/watch?v=Ut577Lc_-yo   \n",
       "4  https://www.youtube.com/watch?v=6x2oz1UW6pE   \n",
       "\n",
       "                                           Thumbnail  \\\n",
       "0  https://i.ytimg.com/vi/0BWxFiA3Ixk/hqdefault.j...   \n",
       "1  https://i.ytimg.com/vi/JS1imtdTZxU/hqdefault.j...   \n",
       "2  https://i.ytimg.com/vi/FfRTsx026I0/hqdefault.j...   \n",
       "3  https://i.ytimg.com/vi/Ut577Lc_-yo/hqdefault.j...   \n",
       "4  https://i.ytimg.com/vi/6x2oz1UW6pE/hqdefault.j...   \n",
       "\n",
       "                                               Title       Views      Posted  \n",
       "0  23 TOP and UNIQUE Passive Income IDEAS for 202...   15K views  1 hour ago  \n",
       "1  Your MONEY is BURNING and YOU DON'T EVEN KNOW ...   91K views  2 days ago  \n",
       "2  11 PRODUCTIVITY MYTHS that are RUINING your LI...  157K views  4 days ago  \n",
       "3  2023 - Your JOURNEY to BECOME a MILLIONAIRE st...  222K views  7 days ago  \n",
       "4  @thevirdas on Stand-up comedy, Money, Acting, ...   22K views  9 days ago  "
      ]
     },
     "execution_count": 101,
     "metadata": {},
     "output_type": "execute_result"
    }
   ],
   "source": [
    "yt_csv_df"
   ]
  },
  {
   "cell_type": "code",
   "execution_count": 102,
   "id": "9479b20b-c9b3-46a4-937f-56807c9c24b0",
   "metadata": {},
   "outputs": [],
   "source": [
    "yt_csv_df.to_csv(f\"csv/{yt_channel_name}.csv\",index=False)"
   ]
  }
 ],
 "metadata": {
  "kernelspec": {
   "display_name": "Python 3 (ipykernel)",
   "language": "python",
   "name": "python3"
  },
  "language_info": {
   "codemirror_mode": {
    "name": "ipython",
    "version": 3
   },
   "file_extension": ".py",
   "mimetype": "text/x-python",
   "name": "python",
   "nbconvert_exporter": "python",
   "pygments_lexer": "ipython3",
   "version": "3.10.4"
  },
  "vscode": {
   "interpreter": {
    "hash": "b1cc2f36871d7e6eb33d73c9431d7dc5cd9cdf88734d533b7fc5e72b44fa56ec"
   }
  }
 },
 "nbformat": 4,
 "nbformat_minor": 5
}
