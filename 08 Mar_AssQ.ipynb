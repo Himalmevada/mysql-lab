{
 "cells": [
  {
   "cell_type": "markdown",
   "metadata": {},
   "source": [
    "### Que - 1 [What is the Probability density function?]"
   ]
  },
  {
   "cell_type": "markdown",
   "metadata": {},
   "source": [
    "#### A probability density function (PDF) is a mathematical function that describes the probability distribution of a continuous random variable. The PDF is defined as the derivative of the cumulative distribution function (CDF) of the random variable, and it provides the probability of observing a particular value of the random variable within a certain interval.\n",
    "#### The PDF is often represented graphically as a curve on a coordinate plane, with the horizontal axis representing the possible values of the random variable and the vertical axis representing the probability density. The area under the curve between any two values of the random variable represents the probability of the random variable taking on a value within that interval.\n",
    "#### The PDF is a fundamental concept in probability theory and is used in many fields, including statistics, physics, engineering, and finance. It is a crucial tool for understanding the behavior of continuous random variables and for making predictions and inferences based on statistical data."
   ]
  },
  {
   "cell_type": "markdown",
   "metadata": {},
   "source": [
    "### Que - 2 [What are the types of Probability distribution?]"
   ]
  },
  {
   "cell_type": "markdown",
   "metadata": {},
   "source": [
    "#### There are several types of probability distributions, each with its own characteristics and uses. Here are some of the most common types:\n",
    "#### Normal distribution: Also known as the Gaussian distribution, it is the most common distribution and is often used in statistics. It has a bell-shaped curve and is symmetrical around its mean.\n",
    "\n",
    "#### Binomial distribution: Used when there are only two possible outcomes of a random event, such as success or failure. It is used in fields such as biology, medicine, and psychology.\n",
    "\n",
    "#### Poisson distribution: Used to model the number of occurrences of an event within a specific time interval or space. It is used in fields such as telecommunications, biology, and economics.\n",
    "\n",
    "#### Exponential distribution: Used to model the time between two consecutive events, such as the time between phone calls or arrivals of customers. It is used in fields such as reliability engineering, physics, and finance.\n",
    "\n",
    "#### Gamma distribution: Used to model the waiting time until a certain number of events occur. It is used in fields such as physics, engineering, and economics.\n",
    "\n",
    "#### Uniform distribution: Used to represent events that have an equal probability of occurring. It is used in fields such as physics, finance, and computer science."
   ]
  },
  {
   "cell_type": "markdown",
   "metadata": {},
   "source": [
    "### Que - 3 [Write a Python function to calculate the probability density function of a normal distribution with given mean and standard deviation at a given point.]"
   ]
  },
  {
   "cell_type": "code",
   "execution_count": 7,
   "metadata": {},
   "outputs": [],
   "source": [
    "import math\n",
    "def cal_pdf(stdev,mean,x):\n",
    "    return 1 / stdev * math.sqrt(2 * math.pi) * math.exp(-(x - mean)**2 / (2 * stdev ** 2))"
   ]
  },
  {
   "cell_type": "code",
   "execution_count": 8,
   "metadata": {},
   "outputs": [
    {
     "data": {
      "text/plain": [
       "1.6773318898562024e-10"
      ]
     },
     "execution_count": 8,
     "metadata": {},
     "output_type": "execute_result"
    }
   ],
   "source": [
    "cal_pdf(10,75,10)"
   ]
  },
  {
   "cell_type": "markdown",
   "metadata": {
    "tags": []
   },
   "source": [
    "### Que - 4 [What are the properties of Binomial distribution? Give two examples of events where binomial distribution can be applied.]"
   ]
  },
  {
   "cell_type": "markdown",
   "metadata": {},
   "source": [
    "#### The binomial distribution has the following properties:\n",
    "#### The probability of success (p) remains constant for each trial.\n",
    "#### Each trial is independent of the others.\n",
    "#### There are a fixed number of trials (n).\n",
    "#### The outcomes are binary, meaning there are only two possible outcomes (success or failure).\n",
    "#### The variable of interest is the number of successes (k) in n trials.\n",
    "\n",
    "#### Two examples of events where binomial distribution can be applied are:\n",
    "\n",
    "#### Flipping a coin: If you flip a coin multiple times, the probability of getting heads or tails remains the same for each flip, and the outcome of each flip is independent of the others. The number of heads or tails you get in a fixed number of flips is a binomial distribution.\n",
    "#### Product quality control: A company producing a product may want to know the probability of a certain number of defective items in a batch of a fixed size. Each item can be classified as either defective or non-defective, and the probability of a defective item remains the same for each item produced. The number of defective items in a batch is a binomial distribution."
   ]
  },
  {
   "cell_type": "markdown",
   "metadata": {},
   "source": [
    "### Que - 5 [Generate a random sample of size 1000 from a binomial distribution with probability of success 0.4 and plot a histogram of the results using matplotlib.]"
   ]
  },
  {
   "cell_type": "code",
   "execution_count": 17,
   "metadata": {},
   "outputs": [],
   "source": [
    "import numpy as np\n",
    "import matplotlib.pyplot as plt\n",
    "n = np.random.random(1000)\n",
    "p = 0.4"
   ]
  },
  {
   "cell_type": "code",
   "execution_count": 18,
   "metadata": {},
   "outputs": [],
   "source": [
    "binomial_dist = n * p "
   ]
  },
  {
   "cell_type": "code",
   "execution_count": 25,
   "metadata": {},
   "outputs": [
    {
     "data": {
      "image/png": "[encoded data removed]",
      "text/plain": [
       "<Figure size 432x288 with 1 Axes>"
      ]
     },
     "metadata": {
      "needs_background": "light"
     },
     "output_type": "display_data"
    }
   ],
   "source": [
    "plt.hist(binomial_dist,histtype=\"bar\")\n",
    "plt.show()"
   ]
  },
  {
   "cell_type": "markdown",
   "metadata": {},
   "source": [
    "### Que - 6 [ Write a Python function to calculate the cumulative distribution function of a Poisson distribution with given mean at a given point.]"
   ]
  },
  {
   "cell_type": "code",
   "execution_count": 30,
   "metadata": {},
   "outputs": [],
   "source": [
    "def find_cdf_of_poisson(x,lamb):\n",
    "    cdf = 0\n",
    "    for i in range(x+1):\n",
    "        cdf += math.exp(-lamb) * (lamb**i / math.factorial(i))\n",
    "    return cdf"
   ]
  },
  {
   "cell_type": "code",
   "execution_count": 31,
   "metadata": {},
   "outputs": [
    {
     "data": {
      "text/plain": [
       "0.9160820579686966"
      ]
     },
     "execution_count": 31,
     "metadata": {},
     "output_type": "execute_result"
    }
   ],
   "source": [
    "find_cdf_of_poisson(5,3)"
   ]
  },
  {
   "cell_type": "markdown",
   "metadata": {},
   "source": [
    "### Que - 7 [How Binomial distribution different from Poisson distribution?]"
   ]
  },
  {
   "cell_type": "markdown",
   "metadata": {},
   "source": [
    "#### Binomial and Poisson distributions are both used to model the probabilities of discrete events, but they have some important differences:\n",
    "#### Nature of events: The binomial distribution is used to model the number of successes in a fixed number of trials, where each trial has only two possible outcomes. The Poisson distribution, on the other hand, is used to model the number of occurrences of an event in a fixed interval of time or space.\n",
    "#### Independence: The binomial distribution assumes that each trial is independent of the others, whereas the Poisson distribution assumes that the events are independent, but the probability of an event occurring in a given time interval is proportional to the length of the interval.\n",
    "#### Parameterization: The binomial distribution has two parameters: the number of trials (n) and the probability of success (p). The Poisson distribution, however, has only one parameter: the mean number of events (λ) in the given interval of time or space.\n",
    "#### Limiting case: As the number of trials (n) in the binomial distribution increases, and the probability of success (p) decreases, the distribution approaches the Poisson distribution. The Poisson distribution can also be derived from the binomial distribution when the number of trials is large, and the probability of success is small."
   ]
  },
  {
   "cell_type": "markdown",
   "metadata": {},
   "source": [
    "### Que - 8 [Generate a random sample of size 1000 from a Poisson distribution with mean 5 and calculate the sample mean and variance.]"
   ]
  },
  {
   "cell_type": "code",
   "execution_count": 73,
   "metadata": {},
   "outputs": [
    {
     "name": "stdout",
     "output_type": "stream",
     "text": [
      "5.142\n",
      "5.2478359999999995\n"
     ]
    }
   ],
   "source": [
    "mean = 5\n",
    "sample_data = np.random.poisson(mean,1000)\n",
    "sample_mean = np.mean(sample_data) \n",
    "sample_variance = np.var(sample_data)\n",
    "\n",
    "print(sample_mean)\n",
    "print(sample_variance)"
   ]
  },
  {
   "cell_type": "markdown",
   "metadata": {},
   "source": [
    "### Que - 9 [How mean and variance are related in Binomial distribution and Poisson distribution?]"
   ]
  },
  {
   "cell_type": "markdown",
   "metadata": {},
   "source": [
    "#### In the binomial distribution, the mean (μ) is equal to the product of the number of trials (n) and the probability of success (p), that is, μ = np. The variance (σ^2) is equal to the product of the number of trials (n), the probability of success (p), and the probability of failure (q = 1 - p), that is, σ^2 = npq.\n",
    "#### In the Poisson distribution, both the mean (μ) and variance (σ^2) are equal to the same parameter, λ, which represents the mean number of occurrences in a fixed interval of time or space. That is, μ = σ^2 = λ."
   ]
  },
  {
   "cell_type": "markdown",
   "metadata": {},
   "source": [
    "### Que - 10 [In normal distribution with respect to mean position, where does the least frequent data appear?]"
   ]
  },
  {
   "cell_type": "markdown",
   "metadata": {},
   "source": [
    "#### The least frequent data in a normal distribution appears in the tails of the distribution, which are farthest away from the mean."
   ]
  },
  {
   "cell_type": "code",
   "execution_count": null,
   "metadata": {},
   "outputs": [],
   "source": []
  }
 ],
 "metadata": {
  "kernelspec": {
   "display_name": "Python 3 (ipykernel)",
   "language": "python",
   "name": "python3"
  },
  "language_info": {
   "codemirror_mode": {
    "name": "ipython",
    "version": 3
   },
   "file_extension": ".py",
   "mimetype": "text/x-python",
   "name": "python",
   "nbconvert_exporter": "python",
   "pygments_lexer": "ipython3",
   "version": "3.9.12"
  },
  "vscode": {
   "interpreter": {
    "hash": "72b2382ece9768098284d92bbc69d35954e75b60d1e25897d1389c232f4796f0"
   }
  }
 },
 "nbformat": 4,
 "nbformat_minor": 4
}
