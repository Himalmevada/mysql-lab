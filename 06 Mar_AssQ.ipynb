{
 "cells": [
  {
   "attachments": {},
   "cell_type": "markdown",
   "metadata": {},
   "source": [
    "### **Ans - 1**"
   ]
  },
  {
   "attachments": {},
   "cell_type": "markdown",
   "metadata": {},
   "source": [
    "#### Statistics is a science of collecting, organizing and analysing the data.\n",
    "#### Statistics basically helps to find what kind of data we have, what is the relationship between two data, is there is any outlier in our data.\n",
    "#### Statistics helps to analyze and predict the future.\n",
    "#### By using statistics we can build the statistical algorithms which helps to find insights from the data."
   ]
  },
  {
   "attachments": {},
   "cell_type": "markdown",
   "metadata": {},
   "source": [
    "### **Ans - 2**"
   ]
  },
  {
   "attachments": {},
   "cell_type": "markdown",
   "metadata": {},
   "source": [
    "#### There are two type of statistics :\n",
    "#### 1. Descriptive\n",
    "#### 2. Inferential\n",
    "\n",
    "#### 1. Descriptive : \n",
    "#### In descriptive stats we organize the data and summerise the data.\n",
    "#### We collect all the data and then apply different techniques to retrieve info from the data.\n",
    "#### 1. Measure of central tendency\n",
    "#### 2. Measure of dispersion\n",
    "#### 3. Histograms\n",
    "#### 4. Bar Chart\n",
    "#### 5. Pie Chart\n",
    "\n",
    "#### 2. Inferential : \n",
    "#### In inferential stats we take some sample from population and we form a conclusion.\n",
    "#### Population is the entire group that you want to draw conclusions about.\n",
    "#### Sample is the specific group that you will collect data from.\n",
    "#### Sample is always less than population."
   ]
  },
  {
   "attachments": {},
   "cell_type": "markdown",
   "metadata": {},
   "source": [
    "### **Ans - 3**"
   ]
  },
  {
   "attachments": {},
   "cell_type": "markdown",
   "metadata": {},
   "source": [
    "#### There are two type of data :\n",
    "#### 1. Quantitative : Numerical data\n",
    "#### 2. Qualitative : Categorical data\n",
    "\n",
    "#### 1. Quantitative :\n",
    "#### --> 1. Discrete : Whole number\n",
    "#### --> Ex : no. of house, no. of child, no. of cars, no. of watches, no. of shops\n",
    "#### --> 2. Continuous : Any data or floating data\n",
    "#### --> Ex : Weights, Heights, Temperature, Speed, Time, Voltage\n",
    "\n",
    "#### 2. Qualitative :\n",
    "#### --> 1. Nominal : Fixed set of category\n",
    "#### --> Ex : Gender : Male / Female, Blood Group, Color\n",
    "#### --> 2. Ordinal : Rank and Order\n",
    "#### --> Ex : Any application have rating of food : Good(1), Bad(3), Average(2)"
   ]
  },
  {
   "attachments": {},
   "cell_type": "markdown",
   "metadata": {},
   "source": [
    "### **Ans - 4**"
   ]
  },
  {
   "attachments": {},
   "cell_type": "markdown",
   "metadata": {},
   "source": [
    "#### (i)   : Ordinal\n",
    "#### (ii)  : Nominal\n",
    "#### (iii) : Continuous\n",
    "#### (iv)  : Discrete"
   ]
  },
  {
   "attachments": {},
   "cell_type": "markdown",
   "metadata": {},
   "source": [
    "### **Ans - 5**"
   ]
  },
  {
   "attachments": {},
   "cell_type": "markdown",
   "metadata": {},
   "source": [
    "#### Levels of measurement, also called scales of measurement, tell you how precisely variables are recorded. In scientific research, a variable is anything that can take on different values across your data set (e.g., height or test scores).\n",
    "\n",
    "#### There are 4 levels of measurement:\n",
    "\n",
    "#### 1. Nominal\n",
    "#### 2. Ordinal\n",
    "#### 3. Interval\n",
    "#### 4. Ratio\n",
    "\n",
    "#### 1. Nominal : \n",
    "#### You can categorize your data by labelling them in mutually exclusive groups, but there is no order between the categories.\n",
    "#### Ex : City of birth, Gender, Car brands, Marital status.\n",
    "\n",
    "#### 2. Ordinal : \n",
    "#### You can categorize and rank your data in an order, but you cannot say anything about the intervals between the rankings. Although you can rank the top 5 Olympic medallists, this scale does not tell you how close or far apart they are in number of wins.\n",
    "#### Ex : Top 5 Olympic medallists, Language ability (e.g., beginner, intermediate, fluent)\n",
    "\n",
    "#### 3. Interval :\n",
    "#### You can categorize, rank, and infer equal intervals between neighboring data points, but there is no true zero point. The difference between any two adjacent temperatures is the same: one degree. But  zero degrees is defined differently depending on the scale it doesn’t mean an absolute absence of temperature.\n",
    "#### Ex : Test scores (e.g., IQ or exams), Personality inventories, Temperature in Fahrenheit or Celsius\n",
    "\n",
    "#### 4. Ratio :\n",
    "#### You can categorize, rank, and infer equal intervals between neighboring data points, and there is a true zero point. A true zero means there is an absence of the variable of interest. In ratio scales, zero does mean an absolute lack of the variable.\n",
    "#### Ex : Height, Age, Weight"
   ]
  },
  {
   "attachments": {},
   "cell_type": "markdown",
   "metadata": {},
   "source": [
    "### **Ans - 6**"
   ]
  },
  {
   "attachments": {},
   "cell_type": "markdown",
   "metadata": {},
   "source": [
    "#### Measurement is a procedure for assigning symbols, letters, or numbers to empirical properties of variables according to rules.\n",
    "#### Numerals are labels that have no inherent meaning, for example, in drivers' license numbers, zip codes, or social security numbers.\n",
    "#### Numbers are numerals that have quantitative meaning and are amenable to statistical analysis, for example, age, height, or weight.\n",
    "#### Rules for assigning labels to properties of variables are the most important component of measurement, because poor rules can make the outcome meaningless.\n",
    "#### It is difficult to measure concepts directly, e.g., \"work effort,\" so what are usually measured are indicators of concepts, such as speed, repetitiveness, etc.\n",
    "#### LEVELS OF MEASUREMENT :\n",
    "#### There are different levels of measurement.  These levels differ as to how closely they approach the structure of the number system we use.  It is important to understand the level of measurement of variables in research, because the level of measurement determines the type of statistical analysis that can be conducted, and, therefore, the type of conclusions that can be drawn from the research."
   ]
  },
  {
   "attachments": {},
   "cell_type": "markdown",
   "metadata": {},
   "source": [
    "### **Ans - 7**"
   ]
  },
  {
   "attachments": {},
   "cell_type": "markdown",
   "metadata": {},
   "source": [
    "#### Nominal data is classified without a natural order or rank, whereas ordinal data has a predetermined or natural order and ranking."
   ]
  },
  {
   "attachments": {},
   "cell_type": "markdown",
   "metadata": {},
   "source": [
    "### **Ans - 8**"
   ]
  },
  {
   "attachments": {},
   "cell_type": "markdown",
   "metadata": {},
   "source": [
    "#### Range Bar Chart is similar to the regular Bar Chart type of data visualization."
   ]
  },
  {
   "attachments": {},
   "cell_type": "markdown",
   "metadata": {},
   "source": [
    "### **Ans - 9**"
   ]
  },
  {
   "attachments": {},
   "cell_type": "markdown",
   "metadata": {},
   "source": [
    "#### The central tendency measure is defined as the number used to represent the center or middle of a set of data values. The three commonly used measures of central tendency are the mean, median, and mode. A statistic that tells us how the data values are dispersed or spread out is called the measure of dispersion."
   ]
  },
  {
   "attachments": {},
   "cell_type": "markdown",
   "metadata": {},
   "source": [
    "### **Ans - 10**"
   ]
  },
  {
   "attachments": {},
   "cell_type": "markdown",
   "metadata": {},
   "source": [
    "#### There are two type of statistics :\n",
    "#### 1. Descriptive\n",
    "#### 2. Inferential\n",
    "\n",
    "#### 1. Descriptive : \n",
    "#### In descriptive stats we organize the data and summerise the data.\n",
    "#### We collect all the data and then apply different techniques to retrieve info from the data.\n",
    "#### 1. Measure of central tendency\n",
    "#### 2. Measure of dispersion\n",
    "#### 3. Histograms\n",
    "#### 4. Bar Chart\n",
    "#### 5. Pie Chart\n",
    "\n",
    "#### 2. Inferential : \n",
    "#### In inferential stats we take some sample from population and we form a conclusion.\n",
    "#### Population is the entire group that you want to draw conclusions about.\n",
    "#### Sample is the specific group that you will collect data from.\n",
    "#### Sample is always less than population."
   ]
  }
 ],
 "metadata": {
  "kernelspec": {
   "display_name": "Python 3 (ipykernel)",
   "language": "python",
   "name": "python3"
  },
  "language_info": {
   "codemirror_mode": {
    "name": "ipython",
    "version": 3
   },
   "file_extension": ".py",
   "mimetype": "text/x-python",
   "name": "python",
   "nbconvert_exporter": "python",
   "pygments_lexer": "ipython3",
   "version": "3.9.12"
  },
  "vscode": {
   "interpreter": {
    "hash": "72b2382ece9768098284d92bbc69d35954e75b60d1e25897d1389c232f4796f0"
   }
  }
 },
 "nbformat": 4,
 "nbformat_minor": 4
}
