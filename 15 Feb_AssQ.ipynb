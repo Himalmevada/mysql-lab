{
 "cells": [
  {
   "cell_type": "markdown",
   "id": "144d13c4",
   "metadata": {},
   "source": [
    "### Ans - 1"
   ]
  },
  {
   "cell_type": "markdown",
   "id": "577d7fcd",
   "metadata": {},
   "source": [
    "#### Multiprocessing is the ability of the system to run one or more processes in parallel. In simple words, multiprocessing uses the two or more CPU within the single computer system. This method is also capable to allocate the tasks between more than one process.\n",
    "#### It optimize and utilize the processing speed and increase the performance of CPU."
   ]
  },
  {
   "cell_type": "markdown",
   "id": "0e149352",
   "metadata": {},
   "source": [
    "### Ans - 2"
   ]
  },
  {
   "cell_type": "markdown",
   "id": "cc7592de-5e5f-46ce-8ebe-60cc40314dec",
   "metadata": {},
   "source": [
    "### **Multiprocessing**\n",
    "#### 1.\tIn Multiprocessing, CPUs are added for increasing computing power.\n",
    "#### 2.\tIn Multiprocessing, Many processes are executed simultaneously.\t\n",
    "#### 3.\tMultiprocessing are classified into Symmetric and Asymmetric.\t\n",
    "#### 4.\tIn Multiprocessing, Process creation is a time-consuming process.\t\n",
    "#### 5.\tIn Multiprocessing, every process owned a separate address space.\t\n",
    "\n",
    "### **Multithreading**\n",
    "#### 1. While In Multithreading, many threads are created of a single process for increasing computing power.\n",
    "#### 2. While in multithreading, many threads of a process are executed simultaneously.\n",
    "#### 3. While Multithreading is not classified in any categories.\n",
    "#### 4. While in Multithreading, process creation is according to economical.\n",
    "#### 5. While in Multithreading, a common address space is shared by all the threads."
   ]
  },
  {
   "cell_type": "markdown",
   "id": "0dfbe49f-3b2d-4f4b-ba1e-33be84b68e6c",
   "metadata": {},
   "source": [
    "### Ans - 3"
   ]
  },
  {
   "cell_type": "code",
   "execution_count": 2,
   "id": "e1d8e8f9-ad72-4b15-a8da-2c2b14ad7427",
   "metadata": {},
   "outputs": [],
   "source": [
    "import multiprocessing"
   ]
  },
  {
   "cell_type": "code",
   "execution_count": 8,
   "id": "b6ff37b6-82e5-42dd-9d03-efc4b881fb25",
   "metadata": {},
   "outputs": [],
   "source": [
    "def message(msg):\n",
    "    print(msg)\n",
    "\n",
    "if __name__ == \"__main__\":\n",
    "    m1 = multiprocessing.Process(target=message,args=(\"Hello , How are you?\",))\n",
    "    m1.start()\n",
    "    m1.join()"
   ]
  },
  {
   "cell_type": "markdown",
   "id": "955f60f6-b5fb-40e6-af86-4e9138d79af5",
   "metadata": {},
   "source": [
    "### Ans - 4"
   ]
  },
  {
   "cell_type": "markdown",
   "id": "2e106ebf-8b8f-4abf-819b-98a4e070c016",
   "metadata": {},
   "source": [
    "#### Pool creates multiple Python processes in the background and spreads out your computations for you across multiple CPU cores so that they all happen in parallel without you needing to do anything.\n",
    "#### Python multiprocessing Pool can be used for parallel execution of a function across multiple input values, distributing the input data across processes (data parallelism)."
   ]
  },
  {
   "cell_type": "markdown",
   "id": "1d55c420-8541-46ce-a0f9-a4ca67f1a6e2",
   "metadata": {},
   "source": [
    "### Ans - 5"
   ]
  },
  {
   "cell_type": "code",
   "execution_count": null,
   "id": "dafe33cb-f956-4b2a-a071-f00d69ecfc87",
   "metadata": {},
   "outputs": [],
   "source": [
    "def factorial(num):\n",
    "    fac = 1\n",
    "    for i in range(1,num+1):\n",
    "        fac *= i\n",
    "    return fac\n",
    "\n",
    "if __name__ == \"__main__\":\n",
    "    with multiprocessing.Pool() as pool_fact:\n",
    "        output = pool_fact.map(factorial,[2,5,3,4,6,8,7,9,1])\n",
    "        print(output)"
   ]
  },
  {
   "cell_type": "markdown",
   "id": "0294c73d-c48c-479c-8ffa-ba3e9721ed0f",
   "metadata": {},
   "source": [
    "### Ans - 6"
   ]
  },
  {
   "cell_type": "code",
   "execution_count": null,
   "id": "8f6d815d-ef7d-482d-b6e7-884b76550a27",
   "metadata": {},
   "outputs": [],
   "source": [
    "def print_num(num):\n",
    "    print(num)\n",
    "\n",
    "if __name__ == \"__main__\":\n",
    "    with multiprocessing.Pool(processes=4) as pool_fact:\n",
    "        pool_fact.map(print_num,[2,5,3,4,6,8,7,9,1])"
   ]
  }
 ],
 "metadata": {
  "kernelspec": {
   "display_name": "Python 3 (ipykernel)",
   "language": "python",
   "name": "python3"
  },
  "language_info": {
   "codemirror_mode": {
    "name": "ipython",
    "version": 3
   },
   "file_extension": ".py",
   "mimetype": "text/x-python",
   "name": "python",
   "nbconvert_exporter": "python",
   "pygments_lexer": "ipython3",
   "version": "3.9.12"
  },
  "vscode": {
   "interpreter": {
    "hash": "b1cc2f36871d7e6eb33d73c9431d7dc5cd9cdf88734d533b7fc5e72b44fa56ec"
   }
  }
 },
 "nbformat": 4,
 "nbformat_minor": 5
}
