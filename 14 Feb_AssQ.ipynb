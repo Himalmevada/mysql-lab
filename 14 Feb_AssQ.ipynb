{
 "cells": [
  {
   "cell_type": "markdown",
   "id": "5024af22-8c5e-4951-8de9-e9759790d6c1",
   "metadata": {},
   "source": [
    "### Ans - 1"
   ]
  },
  {
   "cell_type": "markdown",
   "id": "70b65aaf-d192-4ade-936a-25dd23e79fd8",
   "metadata": {},
   "source": [
    "#### Multithreading allows the programmer to divide application tasks into sub-tasks and simultaneously run them in a program.\n",
    "#### We use multithreading for given purpose : \n",
    "#### (1) Better utilization of resources. \n",
    "#### (2) Simplifies the code. \n",
    "#### (3) Allows concurrent and parallel occurrence of various tasks. \n",
    "#### (4) Reduces the time consumption or response time, thereby, increasing the performance.\n",
    "#### Threading module is used to handle thread in python."
   ]
  },
  {
   "cell_type": "markdown",
   "id": "37c12738-e27e-4b0b-8baf-276572386d25",
   "metadata": {},
   "source": [
    "### Ans - 2"
   ]
  },
  {
   "cell_type": "markdown",
   "id": "a8d6eecf-7646-4ddc-87d8-62295269ee7a",
   "metadata": {},
   "source": [
    "#### Threading module is used to handle thread in python. It allows programmer to divide application tasks into sub-tasks and helps to run simultaneously in a program."
   ]
  },
  {
   "cell_type": "markdown",
   "id": "71f8294a-5b68-4a2b-bb58-6706dedaff38",
   "metadata": {},
   "source": [
    "#### activecount() : This returns the currently total active thread."
   ]
  },
  {
   "cell_type": "code",
   "execution_count": 29,
   "id": "5a068d4a-7b9d-4e45-99e5-a6d24662b976",
   "metadata": {},
   "outputs": [
    {
     "data": {
      "text/plain": [
       "6"
      ]
     },
     "execution_count": 29,
     "metadata": {},
     "output_type": "execute_result"
    }
   ],
   "source": [
    "import threading\n",
    "threading.activeCount()"
   ]
  },
  {
   "cell_type": "markdown",
   "id": "bc72ccb0-0fc5-41a4-a860-9a29c14e6fe2",
   "metadata": {},
   "source": [
    "#### currentThread() : This returns the current thread's object corresponding to the caller's thread of control."
   ]
  },
  {
   "cell_type": "code",
   "execution_count": 30,
   "id": "69fe3527-f85a-4f24-9fe2-69915480c189",
   "metadata": {},
   "outputs": [
    {
     "data": {
      "text/plain": [
       "<_MainThread(MainThread, started 20636)>"
      ]
     },
     "execution_count": 30,
     "metadata": {},
     "output_type": "execute_result"
    }
   ],
   "source": [
    "threading.currentThread()"
   ]
  },
  {
   "cell_type": "markdown",
   "id": "98b19ddb-4092-4278-b13a-dec602453c0c",
   "metadata": {},
   "source": [
    "#### enumerate() : This returns the list of all thread object."
   ]
  },
  {
   "cell_type": "code",
   "execution_count": 31,
   "id": "7e0dab07-a63e-412b-b18d-bef57f6970d0",
   "metadata": {},
   "outputs": [
    {
     "data": {
      "text/plain": [
       "[<_MainThread(MainThread, started 20636)>,\n",
       " <Thread(IOPub, started daemon 17780)>,\n",
       " <Heartbeat(Heartbeat, started daemon 7432)>,\n",
       " <ControlThread(Control, started daemon 14296)>,\n",
       " <HistorySavingThread(IPythonHistorySavingThread, started 10264)>,\n",
       " <ParentPollerWindows(Thread-4, started daemon 9628)>]"
      ]
     },
     "execution_count": 31,
     "metadata": {},
     "output_type": "execute_result"
    }
   ],
   "source": [
    "threading.enumerate()"
   ]
  },
  {
   "cell_type": "markdown",
   "id": "e3cd0044-faca-41e5-adf7-27b62f7315b7",
   "metadata": {},
   "source": [
    "### Ans - 3"
   ]
  },
  {
   "cell_type": "markdown",
   "id": "4dc56e21-709a-4bb6-908d-c0f03ec34d26",
   "metadata": {},
   "source": [
    "#### run() : This method is used to define a code that represents in new thread."
   ]
  },
  {
   "cell_type": "code",
   "execution_count": 40,
   "id": "b43c0a2a-e961-4323-a710-a359a11319a1",
   "metadata": {},
   "outputs": [],
   "source": [
    "# import threading\n",
    "t1 = threading.Thread(target=print,args=(1,))"
   ]
  },
  {
   "cell_type": "code",
   "execution_count": 41,
   "id": "80cd527d-406d-47d1-b310-449e1cb0794b",
   "metadata": {},
   "outputs": [
    {
     "name": "stdout",
     "output_type": "stream",
     "text": [
      "1\n"
     ]
    }
   ],
   "source": [
    "t1.run()"
   ]
  },
  {
   "cell_type": "markdown",
   "id": "f7159cf3-6f70-4ffd-a807-614f347b42d7",
   "metadata": {},
   "source": [
    "#### start() : This method is used to start execution of the thread that is execution of run(). "
   ]
  },
  {
   "cell_type": "code",
   "execution_count": 89,
   "id": "29423db5-8d81-48a8-ae0a-e694a3054393",
   "metadata": {},
   "outputs": [],
   "source": [
    "def power(n1,n2):\n",
    "    print(n1 ** n2)\n",
    "t2 = threading.Thread(target=power,args=(3,3))"
   ]
  },
  {
   "cell_type": "code",
   "execution_count": 90,
   "id": "f7bfc45f-a069-4185-940e-6c244266b353",
   "metadata": {},
   "outputs": [
    {
     "name": "stdout",
     "output_type": "stream",
     "text": [
      "27\n"
     ]
    }
   ],
   "source": [
    "t2.run()"
   ]
  },
  {
   "cell_type": "markdown",
   "id": "03ffa811-270a-4fa7-876f-9a8e7a48da87",
   "metadata": {
    "tags": []
   },
   "source": [
    "#### join() : This method wait until thread terminates. In simple if a thread wants to wait for some other thread, then we should go for join() method."
   ]
  },
  {
   "cell_type": "markdown",
   "id": "9d6275db-536d-4036-9fcc-dbee2160647c",
   "metadata": {},
   "source": [
    "#### Here what happened metro() thread runs and print \"going to sp ring road.\" then it takes 3 second of sleep in beetween this process os thinks he had successfully run metro thread then it runs next thread metro_announcement and it prints \"metro is going...\" then main thread's for loop running and prints \"main thread ..\" then after 3 second metro thread's prints \"Arrived at sp ring road.\""
   ]
  },
  {
   "cell_type": "markdown",
   "id": "93265ff5-5930-4488-9136-10a8ddd25bb2",
   "metadata": {},
   "source": [
    "#### we want until t1 thread execute wait for it and in between no other thread can run or start."
   ]
  },
  {
   "cell_type": "code",
   "execution_count": 11,
   "id": "12f6427b-6a6b-4d55-a76e-eaeb8fe89c66",
   "metadata": {},
   "outputs": [
    {
     "name": "stdout",
     "output_type": "stream",
     "text": [
      "Going to S.P.Ring.Road.\n",
      "Arrived at S.P.Ring.Road.\n",
      "Metro is going to next deport from S.P.Ring.Road.\n",
      "Main thread running this loop.\n",
      "Main thread running this loop.\n",
      "Main thread running this loop.\n",
      "Main thread running this loop.\n",
      "Main thread running this loop.\n"
     ]
    }
   ],
   "source": [
    "# import threading\n",
    "from time import sleep\n",
    "def metro():\n",
    "    print(\"Going to S.P.Ring.Road.\")\n",
    "    sleep(3)\n",
    "    print(\"Arrived at S.P.Ring.Road.\")\n",
    "\n",
    "def metro_announcement():\n",
    "    print(\"Metro is going to next deport from S.P.Ring.Road.\")\n",
    "\n",
    "t1 = threading.Thread(target=metro)\n",
    "t2 = threading.Thread(target=metro_announcement)\n",
    "\n",
    "t1.start()\n",
    "t1.join()\n",
    "\n",
    "t2.start()\n",
    "t2.join()\n",
    "\n",
    "for i in range(5):\n",
    "    print(\"Main thread running this loop.\")"
   ]
  },
  {
   "cell_type": "markdown",
   "id": "76a42ce2-3fa1-4ad8-9995-416752d769ed",
   "metadata": {},
   "source": [
    "#### is_alive() : We use this method to check wheather the thread is alive or not it return boolean True or False."
   ]
  },
  {
   "cell_type": "code",
   "execution_count": 45,
   "id": "faf382af-1159-42cd-bf01-009204c931e9",
   "metadata": {},
   "outputs": [],
   "source": [
    "import time\n",
    "def sample(x):\n",
    "    for i in range(3):\n",
    "        print(\"Sample print the value of x %d and print the value of i %d\" % (x,i))\n",
    "        time.sleep(1)"
   ]
  },
  {
   "cell_type": "code",
   "execution_count": 46,
   "id": "b8f0498f-e0ef-47d9-8497-174f7e3e7662",
   "metadata": {},
   "outputs": [],
   "source": [
    "thread_print = [threading.Thread(target=sample,args=(i,)) for i in [12,22]]"
   ]
  },
  {
   "cell_type": "code",
   "execution_count": 47,
   "id": "3d860deb-a0e2-4790-9fca-3217f95a816d",
   "metadata": {},
   "outputs": [
    {
     "name": "stdout",
     "output_type": "stream",
     "text": [
      "False\n",
      "Sample print the value of x 12 and print the value of i 0\n",
      "True\n",
      "False\n",
      "Sample print the value of x 22 and print the value of i 0\n",
      "True\n",
      "Sample print the value of x 12 and print the value of i 1Sample print the value of x 22 and print the value of i 1\n",
      "\n",
      "Sample print the value of x 22 and print the value of i 2Sample print the value of x 12 and print the value of i 2\n",
      "\n"
     ]
    }
   ],
   "source": [
    "for t in thread_print:\n",
    "    print(t.is_alive())\n",
    "    t.start()\n",
    "    print(t.is_alive())"
   ]
  },
  {
   "cell_type": "markdown",
   "id": "8c9148ca-5de5-4601-b246-861d78aea1ff",
   "metadata": {},
   "source": [
    "### Ans - 4"
   ]
  },
  {
   "cell_type": "code",
   "execution_count": 64,
   "id": "0018d7fd-299b-455e-a39b-d1ecdf9085f2",
   "metadata": {},
   "outputs": [
    {
     "name": "stdout",
     "output_type": "stream",
     "text": [
      "Square root of 1 is : 1\n",
      "Square root of 2 is : 4\n",
      "Square root of 3 is : 9\n",
      "Square root of 4 is : 16\n",
      "Square root of 5 is : 25\n",
      "Cube root of 1 is : 1\n",
      "Cube root of 2 is : 4\n",
      "Cube root of 3 is : 9\n",
      "Cube root of 4 is : 16\n",
      "Cube root of 5 is : 25\n"
     ]
    }
   ],
   "source": [
    "def sqrt_find(num):\n",
    "    print(\"Square root of {} is : {}\".format(num,num ** 2))\n",
    "    # time.sleep(3)\n",
    "\n",
    "def cube_find(num):\n",
    "    print(\"Cube root of {} is : {}\".format(num,num ** 2))\n",
    "\n",
    "t1 = [threading.Thread(target=sqrt_find,args=(i,)) for i in [1,2,3,4,5]]\n",
    "t2 = [threading.Thread(target=cube_find,args=(j,)) for j in [1,2,3,4,5]]\n",
    "\n",
    "for t in t1:\n",
    "    t.start()\n",
    "\n",
    "for t in t2:\n",
    "    t.start()"
   ]
  },
  {
   "cell_type": "markdown",
   "id": "b8f02b41-f3af-4ef3-8749-c3e271a4925b",
   "metadata": {},
   "source": [
    "### Ans - 5"
   ]
  },
  {
   "cell_type": "markdown",
   "id": "6a2b5fe3-9cc5-4502-bbaf-a9bb033f4626",
   "metadata": {},
   "source": [
    "### Advantages : \n",
    "#### (1) Enhanced performance by decreased development time\n",
    "#### (2) Simplified and streamlined program coding\n",
    "#### (3) Improvised GUI responsiveness\n",
    "#### (4) Simultaneous and parallelized occurrence of tasks\n",
    "#### (5) Better use of cache storage by utilization of resources\n",
    "#### (6) Decreased cost of maintenance\n",
    "#### (7) Better use of CPU resource"
   ]
  },
  {
   "cell_type": "markdown",
   "id": "06f30eb2-f3ba-4c94-9c1a-78c8487ce60d",
   "metadata": {},
   "source": [
    "### Disadvantages : \n",
    "#### (1) Complex debugging and testing processes\n",
    "#### (2) Overhead switching of context\n",
    "#### (3) Increased potential for deadlock occurrence\n",
    "#### (4) Increased difficulty level in writing a program\n",
    "#### (5) Unpredictable results"
   ]
  }
 ],
 "metadata": {
  "kernelspec": {
   "display_name": "Python 3 (ipykernel)",
   "language": "python",
   "name": "python3"
  },
  "language_info": {
   "codemirror_mode": {
    "name": "ipython",
    "version": 3
   },
   "file_extension": ".py",
   "mimetype": "text/x-python",
   "name": "python",
   "nbconvert_exporter": "python",
   "pygments_lexer": "ipython3",
   "version": "3.9.12"
  },
  "vscode": {
   "interpreter": {
    "hash": "b1cc2f36871d7e6eb33d73c9431d7dc5cd9cdf88734d533b7fc5e72b44fa56ec"
   }
  }
 },
 "nbformat": 4,
 "nbformat_minor": 5
}
