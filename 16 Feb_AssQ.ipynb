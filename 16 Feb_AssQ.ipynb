{
 "cells": [
  {
   "attachments": {},
   "cell_type": "markdown",
   "id": "144d13c4",
   "metadata": {},
   "source": [
    "## Ans - 1"
   ]
  },
  {
   "attachments": {},
   "cell_type": "markdown",
   "id": "577d7fcd",
   "metadata": {},
   "source": [
    "#### **Database** is a organized collection of structured data. Our data is stored in database as row and column.\n",
    "\n",
    "#### **Mysql :** \n",
    "#### (1) Structured query language (SQL)\n",
    "#### (2) SQL databases are primarily called RDBMS or Relational Databases\n",
    "#### (3) SQL databases are table based databases\n",
    "#### (4) SQL databases have a predefined schema\n",
    "#### (5) SQL databases are vertically scalable\n",
    "#### (6) RDBMS database is the right option for solving ACID problems.\n",
    "\n",
    "#### **NoSQL :** \n",
    "#### (1) Not Only SQL\n",
    "#### (2) NoSQL databases are primarily called as Non-relational or distributed database\n",
    "#### (3) NoSQL databases can be document based, key-value pairs, graph databases\n",
    "#### (4) NoSQL databases use dynamic schema for unstructured data.\n",
    "#### (5) NoSQL databases are horizontally scalable\n",
    "#### (6) NoSQL is a best used for solving data availability problems\n"
   ]
  },
  {
   "attachments": {},
   "cell_type": "markdown",
   "id": "0e149352",
   "metadata": {},
   "source": [
    "## Ans - 2"
   ]
  },
  {
   "attachments": {},
   "cell_type": "markdown",
   "id": "96bc61d6",
   "metadata": {},
   "source": [
    "#### DDL : Data Definition Language which helps to define the structure or schema of a table."
   ]
  },
  {
   "attachments": {},
   "cell_type": "markdown",
   "id": "8bcc9b24",
   "metadata": {},
   "source": [
    "#### **CREATE** : It is used to create a table in databases.\n",
    "#### Ex : create table student(id int, name varchar(20), age int, cirty varchar(20));\n",
    "\n",
    "#### **Drop** : It is used to drop tables or database\n",
    "#### Ex : drop database student_db;\n",
    "#### Ex : drop table student;\n",
    "\n",
    "#### **Alter** : It is used to update or modify the structure or schema of table.\n",
    "#### Ex : alter table student modify name varchar(30);\n",
    "#### Ex : alter table student rename name to std_name;\n",
    "\n",
    "#### **Truncate** : It is used to delete all the rows from table. It will not delete the whole table or it's structure.\n",
    "#### Ex : truncate student;"
   ]
  },
  {
   "cell_type": "markdown",
   "id": "d5aafdd3",
   "metadata": {},
   "source": [
    "## Ans - 3"
   ]
  },
  {
   "attachments": {},
   "cell_type": "markdown",
   "id": "e4fadcc4",
   "metadata": {},
   "source": [
    "#### **DML** : Data Manipulation Language is used to modify the data of database.\n",
    "\n",
    "#### **Insert** : It is used to insert data inside a table in the database.\n",
    "#### Ex : insert into student(1,\"himal\",\"ahmedabad\");\n",
    "\n",
    "#### **Update** : It is used to modify or update the data of table in the database.\n",
    "#### Ex : update into student set name = \"yagnik\" where name = \"himal\";\n",
    "\n",
    "#### **Delete** : It is used to delete data from table in the database.\n",
    "#### Ex : delete from student where id = 1;"
   ]
  },
  {
   "cell_type": "markdown",
   "id": "6ac6d6a6",
   "metadata": {},
   "source": [
    "## Ans - 4"
   ]
  },
  {
   "attachments": {},
   "cell_type": "markdown",
   "id": "482a31af",
   "metadata": {},
   "source": [
    "#### **DQL** : Data Query Language is used get or select data from database.\n",
    "#### **Select** : It is used to select all the data or particular column from database.\n",
    "#### Ex : select * from student;\n",
    "#### Ex : select id,name from student;"
   ]
  },
  {
   "attachments": {},
   "cell_type": "markdown",
   "id": "0f74eec9",
   "metadata": {},
   "source": [
    "## Ans - 5"
   ]
  },
  {
   "attachments": {},
   "cell_type": "markdown",
   "id": "1955087b",
   "metadata": {},
   "source": [
    "#### **Primary Key** : Primary key is used to identify unique data or records from the table.\n",
    "#### **Foreign Key** : Foreign key is used to give references or relation of one table to another table."
   ]
  },
  {
   "cell_type": "code",
   "execution_count": 2,
   "id": "005b1866",
   "metadata": {},
   "outputs": [],
   "source": [
    "from mysql import connector\n",
    "conn = connector.connect(host=\"localhost\", user=\"root\", password=\"\")"
   ]
  },
  {
   "attachments": {},
   "cell_type": "markdown",
   "id": "b291beee",
   "metadata": {},
   "source": [
    "#### **Cursor() :** \n",
    "#### Cursor points to the result set of a database. \n",
    "#### It is a temporary work station or memory. \n",
    "#### it is allocated by database server at the time of performing DML(Data Manipulation Language) operations on Table by User. \n",
    "#### It is used to store database tables.\n",
    "\n",
    "#### **Execute() :** \n",
    "#### Execute is used to execute sql statement or perform a query in database."
   ]
  },
  {
   "attachments": {},
   "cell_type": "markdown",
   "id": "045eb185",
   "metadata": {},
   "source": [
    "## Ans - 6"
   ]
  },
  {
   "attachments": {},
   "cell_type": "markdown",
   "id": "fcfcc2e4",
   "metadata": {},
   "source": [
    "#### 1. FROM/JOIN: The FROM and/or JOIN clauses are executed first to determine the data of interest.\n",
    "\n",
    "#### 2. WHERE: The WHERE clause is executed to filter out records that do not meet the constraints.\n",
    "\n",
    "#### 3. GROUP BY: The GROUP BY clause is executed to group the data based on the values in one or more columns.\n",
    "\n",
    "#### 4. HAVING: The HAVING clause is executed to remove the created grouped records that don’t meet the constraints.\n",
    "\n",
    "#### 5. SELECT: The SELECT clause is executed to derive all desired columns and expressions.\n",
    "\n",
    "#### 6. ORDER BY: The ORDER BY clause is executed to sort the derived values in ascending or descending order.\n",
    "\n",
    "#### 7. LIMIT/OFFSET: Finally, the LIMIT and/or OFFSET clauses are executed to keep or skip a specified number of rows."
   ]
  }
 ],
 "metadata": {
  "kernelspec": {
   "display_name": "Python 3 (ipykernel)",
   "language": "python",
   "name": "python3"
  },
  "language_info": {
   "codemirror_mode": {
    "name": "ipython",
    "version": 3
   },
   "file_extension": ".py",
   "mimetype": "text/x-python",
   "name": "python",
   "nbconvert_exporter": "python",
   "pygments_lexer": "ipython3",
   "version": "3.10.4"
  },
  "vscode": {
   "interpreter": {
    "hash": "b1cc2f36871d7e6eb33d73c9431d7dc5cd9cdf88734d533b7fc5e72b44fa56ec"
   }
  }
 },
 "nbformat": 4,
 "nbformat_minor": 5
}
