{
 "cells": [
  {
   "cell_type": "markdown",
   "metadata": {},
   "source": [
    "### Q1. Pearson correlation coefficient is a measure of the linear relationship between two variables. Suppose you have collected data on the amount of time students spend studying for an exam and their final exam scores. Calculate the Pearson correlation coefficient between these two variables and interpret the result."
   ]
  },
  {
   "cell_type": "code",
   "execution_count": 6,
   "metadata": {},
   "outputs": [
    {
     "data": {
      "text/plain": [
       "array([[1.        , 0.96331583],\n",
       "       [0.96331583, 1.        ]])"
      ]
     },
     "execution_count": 6,
     "metadata": {},
     "output_type": "execute_result"
    }
   ],
   "source": [
    "import numpy as np\n",
    "study_time = [5, 6, 3, 7, 4, 5, 6, 7, 8, 9]\n",
    "exam_scores = [60, 65, 55, 70, 50, 62, 68, 72, 80, 85]\n",
    "i\n",
    "np.corrcoef(study_time,exam_scores)\n",
    "# It shows study_time is highly corelated with exam_scores because as study_time increases exam_scores also increase."
   ]
  },
  {
   "cell_type": "markdown",
   "metadata": {},
   "source": [
    "### Q2. Spearman's rank correlation is a measure of the monotonic relationship between two variables. Suppose you have collected data on the amount of sleep individuals get each night and their overall job satisfaction level on a scale of 1 to 10. Calculate the Spearman's rank correlation between these two variables and interpret the result."
   ]
  },
  {
   "cell_type": "code",
   "execution_count": 9,
   "metadata": {},
   "outputs": [
    {
     "data": {
      "text/plain": [
       "0.8862357162406247"
      ]
     },
     "execution_count": 9,
     "metadata": {},
     "output_type": "execute_result"
    }
   ],
   "source": [
    "from scipy.stats import spearmanr\n",
    "sleep_hours = [7, 6, 8, 5, 7, 6, 7, 8, 6, 5]\n",
    "job_satisfaction = [8, 7, 9, 5, 6, 7, 8, 9, 6, 4]\n",
    "\n",
    "rank, p_val = spearmanr(sleep_hours,job_satisfaction)\n",
    "rank\n",
    "\n",
    "# Here we got 0.8 which shows perfect relationship between sleep_hours and job_satisfaction."
   ]
  },
  {
   "cell_type": "markdown",
   "metadata": {},
   "source": [
    "### Q3. Suppose you are conducting a study to examine the relationship between the number of hours of exercise per week and body mass index (BMI) in a sample of adults. You collected data on both variables for 50 participants. Calculate the Pearson correlation coefficient and the Spearman's rank correlation between these two variables and compare the results."
   ]
  },
  {
   "cell_type": "code",
   "execution_count": 13,
   "metadata": {},
   "outputs": [
    {
     "name": "stdout",
     "output_type": "stream",
     "text": [
      "Pearson correlation coefficient: 0.9778888303085096\n",
      "Spearman's rank correlation coefficient: 0.9754602604663956\n"
     ]
    }
   ],
   "source": [
    "import scipy.stats as stats\n",
    "\n",
    "hours_of_exercise = [4, 6, 3, 5, 7, 6, 5, 3, 2, 4, 5, 7, 3, 6, 4, 5, 6, 2, 4, 5, 3, 6, 7, 4, 5, 6, 5, 3, 4, 5, 6, 3, 4, 6, 5, 7, 3, 5, 6, 2, 4, 6, 5, 4, 3, 5, 7, 2, 6, 5]\n",
    "bmi = [25.1, 27.5, 23.2, 26.8, 29.3, 28.2, 25.9, 22.4, 20.6, 24.0, 25.8, 30.1, 22.7, 26.4, 24.3, 25.6, 27.1, 21.8, 24.6, 26.0, 23.5, 27.9, 30.3, 23.9, 25.3, 27.7, 25.4, 22.1, 24.8, 26.5, 27.2, 22.9, 25.0, 28.0, 26.1, 29.6, 23.6, 26.7, 28.4, 21.3, 24.5, 27.8, 25.7, 24.7, 23.3, 26.9, 29.8, 21.0, 27.3, 26.2]\n",
    "\n",
    "pearson_corr, pearson_p_value = stats.pearsonr(hours_of_exercise, bmi)\n",
    "spearman_corr, spearman_p_value = stats.spearmanr(hours_of_exercise, bmi)\n",
    "\n",
    "print(\"Pearson correlation coefficient:\", pearson_corr)\n",
    "print(\"Spearman's rank correlation coefficient:\", spearman_corr)\n",
    "\n",
    "# Both perarson correlation and spearman's rank correlation coefficient are almost the same."
   ]
  },
  {
   "cell_type": "markdown",
   "metadata": {},
   "source": [
    "### Q4. A researcher is interested in examining the relationship between the number of hours individuals spend watching television per day and their level of physical activity. The researcher collected data on both variables from a sample of 50 participants. Calculate the Pearson correlation coefficient between these two variables."
   ]
  },
  {
   "cell_type": "code",
   "execution_count": 14,
   "metadata": {},
   "outputs": [],
   "source": [
    "tv_hours = [3, 2, 4, 5, 2, 3, 1, 4, 2, 3, 5, 2, 3, 1, 4, 3, 2, 1, 4, 5, 2, 3, 2, 4, 3, 5, 1, 2, 3, 4, 5, 1, 2, 3, 4, 1, 2, 3, 4, 5, 1, 2, 3, 5, 4, 2, 3, 1, 5, 4]\n",
    "physical_activity = [2, 3, 1, 5, 3, 2, 4, 3, 5, 2, 1, 3, 2, 4, 3, 2, 3, 4, 1, 5, 3, 2, 3, 1, 2, 5, 3, 4, 2, 3, 1, 4, 5, 2, 3, 1, 4, 5, 2, 3, 4, 1, 2, 3, 5, 4, 2, 3, 1, 4]\n",
    "\n",
    "correlation_coefficient, p_value = stats.pearsonr(tv_hours, physical_activity)\n",
    "\n"
   ]
  },
  {
   "cell_type": "markdown",
   "metadata": {},
   "source": [
    "### Q5. A survey was conducted to examine the relationship between age and preference for a particular brand of soft drink. The survey results are shown below:"
   ]
  },
  {
   "cell_type": "code",
   "execution_count": 35,
   "metadata": {},
   "outputs": [
    {
     "data": {
      "text/html": [
       "<div>\n",
       "<style scoped>\n",
       "    .dataframe tbody tr th:only-of-type {\n",
       "        vertical-align: middle;\n",
       "    }\n",
       "\n",
       "    .dataframe tbody tr th {\n",
       "        vertical-align: top;\n",
       "    }\n",
       "\n",
       "    .dataframe thead th {\n",
       "        text-align: right;\n",
       "    }\n",
       "</style>\n",
       "<table border=\"1\" class=\"dataframe\">\n",
       "  <thead>\n",
       "    <tr style=\"text-align: right;\">\n",
       "      <th></th>\n",
       "      <th>Age</th>\n",
       "      <th>Preference</th>\n",
       "      <th>preference_encoded</th>\n",
       "    </tr>\n",
       "  </thead>\n",
       "  <tbody>\n",
       "    <tr>\n",
       "      <th>0</th>\n",
       "      <td>25</td>\n",
       "      <td>Coke</td>\n",
       "      <td>24.0</td>\n",
       "    </tr>\n",
       "    <tr>\n",
       "      <th>1</th>\n",
       "      <td>42</td>\n",
       "      <td>Pepsi</td>\n",
       "      <td>36.5</td>\n",
       "    </tr>\n",
       "    <tr>\n",
       "      <th>2</th>\n",
       "      <td>37</td>\n",
       "      <td>Mountain dew</td>\n",
       "      <td>37.0</td>\n",
       "    </tr>\n",
       "    <tr>\n",
       "      <th>3</th>\n",
       "      <td>19</td>\n",
       "      <td>Coke</td>\n",
       "      <td>24.0</td>\n",
       "    </tr>\n",
       "    <tr>\n",
       "      <th>4</th>\n",
       "      <td>31</td>\n",
       "      <td>Pepsi</td>\n",
       "      <td>36.5</td>\n",
       "    </tr>\n",
       "    <tr>\n",
       "      <th>5</th>\n",
       "      <td>28</td>\n",
       "      <td>Coke</td>\n",
       "      <td>24.0</td>\n",
       "    </tr>\n",
       "  </tbody>\n",
       "</table>\n",
       "</div>"
      ],
      "text/plain": [
       "   Age    Preference  preference_encoded\n",
       "0   25          Coke                24.0\n",
       "1   42         Pepsi                36.5\n",
       "2   37  Mountain dew                37.0\n",
       "3   19          Coke                24.0\n",
       "4   31         Pepsi                36.5\n",
       "5   28          Coke                24.0"
      ]
     },
     "execution_count": 35,
     "metadata": {},
     "output_type": "execute_result"
    }
   ],
   "source": [
    "import pandas as pd\n",
    "\n",
    "age_years = [25,42,37,19,31,28]\n",
    "soft_drink_Preference = [\"Coke\",\"Pepsi\",\"Mountain dew\",\"Coke\",\"Pepsi\",\"Coke\"]\n",
    "\n",
    "df = pd.DataFrame({\"Age\":age_years,\"Preference\":soft_drink_Preference})\n",
    "df[\"preference_encoded\"] = df[\"Preference\"].map(df.groupby(\"Preference\").mean()[\"Age\"].to_dict())\n",
    "df"
   ]
  },
  {
   "cell_type": "code",
   "execution_count": 43,
   "metadata": {},
   "outputs": [
    {
     "data": {
      "text/plain": [
       "0.8375298864396492"
      ]
     },
     "execution_count": 43,
     "metadata": {},
     "output_type": "execute_result"
    }
   ],
   "source": [
    "rank,p_val = stats.pearsonr(df[\"Age\"],df[\"preference_encoded\"])\n",
    "rank"
   ]
  },
  {
   "cell_type": "markdown",
   "metadata": {},
   "source": [
    "### Q6. A company is interested in examining the relationship between the number of sales calls made per day and the number of sales made per week. The company collected data on both variables from a sample of 30 sales representatives. Calculate the Pearson correlation coefficient between these two variables."
   ]
  },
  {
   "cell_type": "code",
   "execution_count": 42,
   "metadata": {},
   "outputs": [
    {
     "name": "stdout",
     "output_type": "stream",
     "text": [
      "Pearson correlation coefficient: 0.9367302079546613\n"
     ]
    }
   ],
   "source": [
    "sales_calls_per_day = [20, 15, 25, 30, 18, 22, 28, 24, 19, 23, 27, 21, 17, 26, 29, 16, 23, 18, 25, 27, 20, 22, 29, 26, 17, 21, 24, 16, 28, 19]\n",
    "sales_per_week = [4, 3, 5, 6, 3, 4, 6, 5, 4, 5, 7, 5, 3, 6, 7, 2, 5, 4, 6, 7, 4, 5, 7, 6, 3, 5, 5, 2, 6, 4]\n",
    "\n",
    "# Calculate the Pearson correlation coefficient and the p-value\n",
    "correlation_coefficient, p_value = stats.pearsonr(sales_calls_per_day, sales_per_week)\n",
    "\n",
    "print(\"Pearson correlation coefficient:\", correlation_coefficient)"
   ]
  },
  {
   "cell_type": "code",
   "execution_count": null,
   "metadata": {},
   "outputs": [],
   "source": []
  }
 ],
 "metadata": {
  "kernelspec": {
   "display_name": "Python 3 (ipykernel)",
   "language": "python",
   "name": "python3"
  },
  "language_info": {
   "codemirror_mode": {
    "name": "ipython",
    "version": 3
   },
   "file_extension": ".py",
   "mimetype": "text/x-python",
   "name": "python",
   "nbconvert_exporter": "python",
   "pygments_lexer": "ipython3",
   "version": "3.10.9"
  },
  "vscode": {
   "interpreter": {
    "hash": "72b2382ece9768098284d92bbc69d35954e75b60d1e25897d1389c232f4796f0"
   }
  }
 },
 "nbformat": 4,
 "nbformat_minor": 4
}
