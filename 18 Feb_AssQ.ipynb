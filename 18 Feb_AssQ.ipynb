{
 "cells": [
  {
   "cell_type": "markdown",
   "id": "d85894d1-12b2-4a9d-b79e-993c0612c148",
   "metadata": {},
   "source": [
    "### Ans - 1"
   ]
  },
  {
   "cell_type": "markdown",
   "id": "4e91aa6c-c2ad-41ca-94a9-6afe9d73ff76",
   "metadata": {},
   "source": [
    "#### APIs are used in web applications to connect user-facing front ends with critical back-end functionality and data. APIs are used to deliver material by streaming services such as Spotify and Netflix. APIs are used by automakers such as Tesla to provide software upgrades.\n",
    "#### The Google Maps API and Twitter API may be among the most widely used API examples, but most software-as-a-service (SaaS) providers offer APIs that let developers write code that posts data to and retrieves data from the provider's site as well."
   ]
  },
  {
   "cell_type": "markdown",
   "id": "2c6017bc-deda-4e4d-b588-ab2b91830d05",
   "metadata": {},
   "source": [
    "### Ans - 2"
   ]
  },
  {
   "cell_type": "markdown",
   "id": "d3770638-f61e-4ed2-816f-917cfae7c893",
   "metadata": {},
   "source": [
    "#### **Advantages of using APIs :**\n",
    " \n",
    "#### Automation: with APIs, computers rather than people can manage the work. Through APIs, agencies can update work flows to make them quicker and more productive.\n",
    " \n",
    "#### Application: because APIs can access the app components, the delivery of services and information is more flexible.\n",
    " \n",
    "#### More scope: with an API an application layer can be created which can be used to distribute information and services to new audiences which can be personalized to create custom user experiences.\n",
    " \n",
    "#### New data available: an API allows all of the information generated at the government level to be available to every citizen, not just a select few.\n",
    " \n",
    "#### Efficiency: when access is provided to an API, the content generated can be published automatically and is available for every channel. It allows it to be shared and distributed more easily."
   ]
  },
  {
   "cell_type": "markdown",
   "id": "31be6581-f6a0-4d57-8444-062ff3f3935f",
   "metadata": {},
   "source": [
    "#### **Disadvantages of using APIs :**\n",
    " \n",
    "#### There is a lot of conveniences and advantages to APIs, but business leaders should also be aware of the disadvantages. As a single point of entry, an API is a gateway and can become a hacker's primary target. Once the API is compromised, all other applications and systems become vulnerable.\n",
    "\n",
    "#### Nine of the top ten vulnerabilities listed in the OWASP Top 10 now mention APIs — and since APIs can be accessed over the internet, they will have all the same disadvantages as any other Internet-based resource.  APIs are vulnerable to man-in-the-middle attacks, CSRF attacks, XSS attacks, SQL injection, and DDoS attacks."
   ]
  },
  {
   "cell_type": "markdown",
   "id": "6a6a6c97-7501-46ef-8b66-19a1572ab9ce",
   "metadata": {},
   "source": [
    "### Ans - 3"
   ]
  },
  {
   "cell_type": "markdown",
   "id": "29592541-b9d2-4e97-ab75-ed903103d37d",
   "metadata": {},
   "source": [
    "#### A Web API stands for Application Programming Interface. It is a software application that allows two different applications or machines to interact with each other without any user interference. The API contains a complete set of rules and specifications used when interacting with any web application.\n",
    "#### **Web API**\n",
    "#### All web services are APIs.\n",
    "#### It supports XML.\n",
    "#### You need a SOAP protocol to send or receive and data over the network. Therefore it does not have light-weight architecture.\n",
    "#### It can be used by any client who understands XML.\n",
    "#### Web service uses three styles: REST, SOAP, and XML-RPC for communication.\n",
    "#### It provides supports only for the HTTP protocol.\n",
    "#### **API**\n",
    "#### All APIs are not web services.\n",
    "#### Responses are formatted using Web API's MediaTypeFormatter into XML, JSON, or any other given format.\n",
    "#### API has a lightweight architecture.\n",
    "#### It can be used by a client who understands JSON or XML.\n",
    "#### API can be used for any style of communication.\n",
    "#### It provides support for the HTTP/s protocol: URL Request/Response Headers, etc."
   ]
  },
  {
   "cell_type": "markdown",
   "id": "23da458e-a6c0-4a2f-98a6-3fb48b507ec7",
   "metadata": {},
   "source": [
    "### Ans - 4"
   ]
  },
  {
   "cell_type": "markdown",
   "id": "acffda0c-a383-4c88-ad14-53d8a8b257f6",
   "metadata": {},
   "source": [
    "#### **REST :**\n",
    "#### REST was designed specifically for working with components such as media components, files, or even objects on a particular hardware device. Any web service that is defined on the principles of REST can be called a RestFul web service. A Restful service would use the normal HTTP verbs of GET, POST, PUT and DELETE for working with the required components. REST stands for Representational State Transfer.\n",
    "#### **SOAP :**\n",
    "#### SOAP is a protocol which was designed before REST and came into the picture. The main idea behind designing SOAP was to ensure that programs built on different platforms and programming languages could exchange data in an easy manner. SOAP stands for Simple Object Access Protocol.\n",
    "#### **Shortcomings of SOAP :**\n",
    "#### SOAP only uses XML. It doesn’t take other formats like JSON into consideration.\n",
    "#### There is a high possibility of coupling between client and server as SOAP is based on contract.\n",
    "#### Since it uses XML format, SOAP is considered to be a slow platform because the payload is large for a simple string message.\n",
    "#### Any change in server contract is reflected in client stub classes.\n",
    "#### SOAP is hard to test in browsers.\n",
    "#### SOAP clients do not hold any stateful references to remote objects."
   ]
  },
  {
   "cell_type": "markdown",
   "id": "130fbe8d-29f8-4fba-a1ef-4883c35cf6b4",
   "metadata": {},
   "source": [
    "### Ans - 5"
   ]
  },
  {
   "cell_type": "markdown",
   "id": "ab4158e4-832f-4e1a-a7fa-bba52dbde18d",
   "metadata": {},
   "source": [
    "#### **SOAP**\n",
    "#### SOAP stands for Simple Object Access Protocol.\n",
    "#### SOAP is a protocol. SOAP was designed with a specification. It includes a WSDL file which has the required information on what the web service does in addition to the location of the web service.\n",
    "#### SOAP cannot make use of REST since SOAP is a protocol and REST is an architectural pattern.\n",
    "#### SOAP uses service interfaces to expose its functionality to client applications. In SOAP, the WSDL file provides the client with the necessary information which can be used to understand what services the web service can offer.\n",
    "#### SOAP can only work with XML format. As seen from SOAP messages, all data passed is in XML format.\n",
    "\n",
    "#### **REST**\n",
    "#### REST stands for Representational State Transfer\n",
    "#### REST is an Architectural style in which a web service can only be treated as a RESTful service if it follows the constraints of being\n",
    "#### 1. Client Server\n",
    "#### 2. Stateless\n",
    "#### 3. Cacheable\n",
    "#### 4. Layered System\n",
    "#### 5. Uniform Interface\n",
    "#### REST can make use of SOAP as the underlying protocol for web services, because in the end it is just an architectural pattern.\n",
    "#### REST use Uniform Service locators to access to the components on the hardware device. For example, if there is an object which represents the data of an employee hosted on a URL as http://demo.guru99 , the below are some of URI that can exist to access them.\n",
    "#### http://demo.guru99.com/Employee\n",
    "#### http://demo.guru99.com/Employee/1\n",
    "#### REST permits different data format such as Plain text, HTML, XML, JSON, etc. But the most preferred format for transferring data is JSON."
   ]
  },
  {
   "cell_type": "code",
   "execution_count": null,
   "id": "0e2da89f-7d8e-4fa6-aac5-d79d1207ba77",
   "metadata": {},
   "outputs": [],
   "source": []
  }
 ],
 "metadata": {
  "kernelspec": {
   "display_name": "Python 3 (ipykernel)",
   "language": "python",
   "name": "python3"
  },
  "language_info": {
   "codemirror_mode": {
    "name": "ipython",
    "version": 3
   },
   "file_extension": ".py",
   "mimetype": "text/x-python",
   "name": "python",
   "nbconvert_exporter": "python",
   "pygments_lexer": "ipython3",
   "version": "3.9.12"
  },
  "vscode": {
   "interpreter": {
    "hash": "b1cc2f36871d7e6eb33d73c9431d7dc5cd9cdf88734d533b7fc5e72b44fa56ec"
   }
  }
 },
 "nbformat": 4,
 "nbformat_minor": 5
}
